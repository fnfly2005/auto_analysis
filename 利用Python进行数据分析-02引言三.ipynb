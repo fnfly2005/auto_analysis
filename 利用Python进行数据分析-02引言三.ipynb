{
 "cells": [
  {
   "cell_type": "markdown",
   "metadata": {},
   "source": [
    "# 1880-2010年间全美婴儿姓名  \n",
    "pandas dataframe pd.read_csv()  \n",
    "python 字符串插值 数字  \n",
    "pandas dataframe pd.concat()  \n",
    "pandas dataframe d.pivot_table()  \n",
    "pandas dataframe d.tail()  \n",
    "pandas dataframe d.plot()  \n",
    "pandas DataFrameGroupBy d.apply(func)  \n",
    "pandas dataframe d.xxx  \n",
    "pandas series s.astype()  \n",
    "pandas series s.sum()  \n",
    "pandas dataframe d.sort_values()  \n",
    "pandas dataframe d.drop()  \n",
    "numpy 逻辑函数 n.allclose() "
   ]
  },
  {
   "cell_type": "code",
   "execution_count": null,
   "metadata": {
    "scrolled": true
   },
   "outputs": [],
   "source": [
    "import pandas as pd\n",
    "names1880 = pd.read_csv('ch02/yob1880.txt',names=['name','sex','births'],header=None)\n",
    "names1880[:10]"
   ]
  },
  {
   "cell_type": "code",
   "execution_count": null,
   "metadata": {},
   "outputs": [],
   "source": [
    "names1880.info()"
   ]
  },
  {
   "cell_type": "code",
   "execution_count": null,
   "metadata": {},
   "outputs": [],
   "source": [
    "#获取按sex分组统计\n",
    "names1880.groupby('sex').births.sum()"
   ]
  },
  {
   "cell_type": "code",
   "execution_count": null,
   "metadata": {},
   "outputs": [],
   "source": [
    "#将各个年份的数据合并\n",
    "years = range(1880,2011)\n",
    "\n",
    "pieces = []\n",
    "columns = ['name','sex','births']\n",
    "\n",
    "for year in years:\n",
    "    path = 'ch02/yob%d.txt' % year\n",
    "    frame = pd.read_csv(path,names=columns,header=None)\n",
    "    \n",
    "    frame['year']=year\n",
    "    pieces.append(frame)\n",
    "\n",
    "#将所有数据整合到单个DataFrame中\n",
    "names = pd.concat(pieces,ignore_index=True)\n",
    "names.info()"
   ]
  },
  {
   "cell_type": "code",
   "execution_count": null,
   "metadata": {},
   "outputs": [],
   "source": [
    "total_births = names.pivot_table(values ='births',columns='sex',index='year',aggfunc=sum)\n",
    "total_births.tail()"
   ]
  },
  {
   "cell_type": "code",
   "execution_count": null,
   "metadata": {},
   "outputs": [],
   "source": [
    "total_births.plot(kind='line',title='Total births by sex and year')"
   ]
  },
  {
   "cell_type": "code",
   "execution_count": null,
   "metadata": {
    "scrolled": true
   },
   "outputs": [],
   "source": [
    "def add_prop(group):\n",
    "    #用于插入一个prop列，存放指定名字的婴儿数相对于总出生数的比例\n",
    "    births = group.births.astype(float)\n",
    "    group['prop'] = births/births.sum()\n",
    "    return group\n",
    "\n",
    "names = names.groupby(['year','sex']).apply(add_prop)\n",
    "names.info()"
   ]
  },
  {
   "cell_type": "code",
   "execution_count": null,
   "metadata": {},
   "outputs": [],
   "source": [
    "#有效性检查，验证prop综合是否为1，浮点型数据建议用numpy处理\n",
    "import numpy as np\n",
    "np.allclose(names.groupby(['year','sex']).prop.sum(),1)"
   ]
  },
  {
   "cell_type": "code",
   "execution_count": null,
   "metadata": {},
   "outputs": [],
   "source": [
    "#取出每对SEX/YEAR组合的前1000个名字\n",
    "def get_top1000(group):\n",
    "    return group.sort_values('births',ascending=False)[:1000]\n",
    "\n",
    "grouped = names.groupby(['year','sex'])\n",
    "top1000 = grouped.apply(get_top1000)\n",
    "top1000.info()"
   ]
  },
  {
   "cell_type": "markdown",
   "metadata": {},
   "source": [
    "### 分析命名趋势  \n",
    "pandas dataframe d[布尔型series]  \n",
    "pandas dataframe d[[label list]]  \n",
    "pandas dataframe d.plot()"
   ]
  },
  {
   "cell_type": "code",
   "execution_count": null,
   "metadata": {},
   "outputs": [],
   "source": [
    "boys = top1000[top1000.sex == 'M']\n",
    "girls = top1000[top1000['sex'] == 'F']\n",
    "top1000=top1000.drop(['year','sex'],axis=1)\n",
    "total_births = top1000.pivot_table(values='births',index='year',columns='name',aggfunc=sum)\n",
    "total_births.info()"
   ]
  },
  {
   "cell_type": "code",
   "execution_count": null,
   "metadata": {},
   "outputs": [],
   "source": [
    "subset=total_births[['John','Harry','Mary','Marilyn']]\n",
    "subset.plot(subplots=True,figsize=(12,10),grid=False,title=\"Number of births per year\")"
   ]
  },
  {
   "cell_type": "markdown",
   "metadata": {},
   "source": [
    "##### 评估命名多样性的增长  \n",
    "numpy Array常规创建 np.linspace()  \n",
    "pandas series s.cumsum()  \n",
    "pandas series s.searchsorted()  \n",
    "pandas dataframe d.groupby()  \n",
    "pandas series s.unstack()  "
   ]
  },
  {
   "cell_type": "code",
   "execution_count": null,
   "metadata": {},
   "outputs": [],
   "source": [
    "table=top1000.pivot_table(values='prop',index='year',columns='sex',aggfunc=sum)\n",
    "table.plot(title='Sum of table1000.prop by year and sex',yticks=np.linspace(0,1.2,13),xticks=range(1880,2020,10))"
   ]
  },
  {
   "cell_type": "code",
   "execution_count": null,
   "metadata": {},
   "outputs": [],
   "source": [
    "#计算占总出生人数前50%的不同名字的数量\n",
    "#只考虑2010年男孩名字\n",
    "df = boys[boys.year == 2010]\n",
    "df.info()"
   ]
  },
  {
   "cell_type": "code",
   "execution_count": null,
   "metadata": {},
   "outputs": [],
   "source": [
    "\"\"\"\n",
    "思路：\n",
    "前50%,意味着需要排序\n",
    "加起来够50%,意味着需要迭代\n",
    "对于迭代，numpy有一种矢量实现\n",
    "\"\"\"\n",
    "#首先计算累积和\n",
    "prop_cumsum = df.sort_values(by=['prop'],ascending=False).prop.cumsum()\n",
    "prop_cumsum[:10]"
   ]
  },
  {
   "cell_type": "code",
   "execution_count": null,
   "metadata": {},
   "outputs": [],
   "source": [
    "prop_cumsum.searchsorted(0.5)[0]+1"
   ]
  },
  {
   "cell_type": "code",
   "execution_count": null,
   "metadata": {},
   "outputs": [],
   "source": [
    "df = boys[boys.year == 1900]\n",
    "in1900 = df.sort_values(by=['prop'],ascending=False).prop.cumsum()\n",
    "in1900.searchsorted(0.5)[0]+1"
   ]
  },
  {
   "cell_type": "code",
   "execution_count": null,
   "metadata": {},
   "outputs": [],
   "source": [
    "def get_quantile_count(group,q=0.5):\n",
    "    group = group.sort_values(by='prop',ascending=False)\n",
    "    return group.prop.cumsum().searchsorted(q)[0]+1\n",
    "\n",
    "diversity = top1000.groupby(['year','sex']).apply(get_quantile_count)\n",
    "diversity = diversity.unstack('sex')\n",
    "diversity.head()"
   ]
  },
  {
   "cell_type": "code",
   "execution_count": null,
   "metadata": {
    "scrolled": true
   },
   "outputs": [],
   "source": [
    "diversity.plot(title=\"Number of popular names in top 50%\")"
   ]
  },
  {
   "cell_type": "markdown",
   "metadata": {},
   "source": [
    "##### \"最后一个字母\"的变革\n",
    "pandas series s.map()  \n",
    "python 更多控制流工具 Lambda表达式  \n",
    "pandas dataframe d.reindex()  \n",
    "pandas dataframe d.sum()  \n",
    "pandas dataframe 符号运算  \n",
    "matplotlib pyplot p.subplots()  \n",
    "matplotlib figure figsize  \n",
    "matplotlib figure Figure画布  \n",
    "matplotlib axes Axes坐标轴  \n",
    "pandas series s.plot()  \n",
    "pandas dataframe d.loc[]  \n",
    "pandas dataframe d.T"
   ]
  },
  {
   "cell_type": "code",
   "execution_count": null,
   "metadata": {},
   "outputs": [],
   "source": [
    "get_last_letter = lambda x:x[-1]\n",
    "last_letters = names.name.map(get_last_letter)\n",
    "last_letters.name='last_letter'\n",
    "table = names.pivot_table(values='births',index=last_letters,columns=['sex','year'],aggfunc=sum)\n",
    "subtable = table.reindex(columns=[1910,1960,2010],level='year')\n",
    "subtable.head()"
   ]
  },
  {
   "cell_type": "code",
   "execution_count": null,
   "metadata": {},
   "outputs": [],
   "source": [
    "subttl = subtable.sum(axis=0).astype(float)\n",
    "subttl"
   ]
  },
  {
   "cell_type": "code",
   "execution_count": null,
   "metadata": {},
   "outputs": [],
   "source": [
    "#男孩女孩名字中各个末字母的比例\n",
    "letter_prop = subtable/subttl\n",
    "import matplotlib.pyplot as plt\n",
    "fig,axes = plt.subplots(nrows=2,ncols=1,figsize=(10,8))#先确定画布，再确定坐标轴\n",
    "letter_prop['M'].plot(kind='bar',rot=0,ax=axes[0],title='Male')#在坐标轴上进行绘图\n",
    "letter_prop['F'].plot(kind='bar',rot=0,ax=axes[1],title='Female',legend=False)#在坐标轴上进行绘图"
   ]
  },
  {
   "cell_type": "code",
   "execution_count": null,
   "metadata": {},
   "outputs": [],
   "source": [
    "#可以看出，20世纪60年代开始，以字母“n\"结尾的男孩名字出现了显著的增长\n",
    "#按年度和性别对完整表进行规范化处理，并在男孩名字中选取几个字母，转置做成时间序列\n",
    "letter_prop = table /table.sum().astype(float)\n",
    "dny_ts = letter_prop.loc[['d','n','y'],'M'].T\n",
    "dny_ts.head()"
   ]
  },
  {
   "cell_type": "code",
   "execution_count": null,
   "metadata": {},
   "outputs": [],
   "source": [
    "#各年出生的男孩中名字以d/n/y结尾的人数比例\n",
    "dny_ts.plot()"
   ]
  },
  {
   "cell_type": "markdown",
   "metadata": {},
   "source": [
    "##### 变成女孩名字的男孩名字（以及相反的情况)\n",
    "pandas series s.unique()  \n",
    "numpy Array常规创建 np.array()  \n",
    "pandas series s.isin()"
   ]
  },
  {
   "cell_type": "code",
   "execution_count": null,
   "metadata": {},
   "outputs": [],
   "source": [
    "#找出其中以“lesl\"开头的一组名字\n",
    "all_names = top1000.name.unique()\n",
    "#mask = np.array()\n",
    "mask = np.array(['lesl' in x.lower() for x in all_names])\n",
    "lesley_like = all_names[mask]\n",
    "lesley_like"
   ]
  },
  {
   "cell_type": "code",
   "execution_count": null,
   "metadata": {},
   "outputs": [],
   "source": [
    "#利用这个结果过滤其他的名字，并按名字分组计算出生数以查看相对频率\n",
    "filtered = top1000[top1000.name.isin(lesley_like)]"
   ]
  }
 ],
 "metadata": {
  "kernelspec": {
   "display_name": "Python 3",
   "language": "python",
   "name": "python3"
  },
  "language_info": {
   "codemirror_mode": {
    "name": "ipython",
    "version": 3
   },
   "file_extension": ".py",
   "mimetype": "text/x-python",
   "name": "python",
   "nbconvert_exporter": "python",
   "pygments_lexer": "ipython3",
   "version": "3.7.1"
  }
 },
 "nbformat": 4,
 "nbformat_minor": 2
}
