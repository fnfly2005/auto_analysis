{
 "cells": [
  {
   "cell_type": "markdown",
   "metadata": {},
   "source": [
    "# 1.1 shell还是Notebook\n",
    "## 1.1.1 启动IPython shell\n",
    "ipython\n",
    "## 1.1.2 启动Jupyter Notebook\n",
    "jupyter notebook\n",
    "# 1.2 IPython的帮助和文档\n",
    "技术型思维下，重要的不是知道答案，而是知道如何快速找到答案  \n",
    "ipython和jupyter最大用处之一就是缩短用户于帮助文档和搜索间的距离，帮助用户高效完成工作  \n",
    "+ 我如何调用这个函数？这个函数有哪些参数和选项\n",
    "+ 这个python对象的源码是怎样的？\n",
    "+ 我导入的包中有什么？这个对象有哪些熟悉和方法？ 5\n",
    "\n",
    "### 1.2.1 用符号?获取文档\n",
    "每个python对象都有以恶搞字符串的引用，包含对象的简要介绍和使用方法，python内置的help()函数可以获取这些信息，并且能打印输出结果："
   ]
  },
  {
   "cell_type": "code",
   "execution_count": null,
   "metadata": {},
   "outputs": [],
   "source": [
    "# python Built-in Functions help()\n",
    "help(len)\n",
    "len?"
   ]
  },
  {
   "cell_type": "code",
   "execution_count": null,
   "metadata": {},
   "outputs": [],
   "source": [
    "'''\n",
    "这种表示方式几乎适用于一切，包括对象方法\n",
    "python Sequence Types — list, tuple, range s.insert()\n",
    "'''\n",
    "L = [1,2,3]\n",
    "L.insert?"
   ]
  },
  {
   "cell_type": "code",
   "execution_count": null,
   "metadata": {},
   "outputs": [],
   "source": [
    "# 甚至对于对象本身以及相关类型的文档也适用\n",
    "L?"
   ]
  },
  {
   "cell_type": "code",
   "execution_count": null,
   "metadata": {},
   "outputs": [],
   "source": [
    "# 这种方法也适用于你自己创建的函数或者其他对象 5\n",
    "def square(a):\n",
    "    \"\"\"Return the square of a.\"\"\"\n",
    "    return a ** 2\n",
    "\n",
    "square?"
   ]
  },
  {
   "cell_type": "markdown",
   "metadata": {},
   "source": [
    "### 1.2.2 通过符号??获取源代码  \n",
    "anaconda Dynamic object information word??"
   ]
  },
  {
   "cell_type": "code",
   "execution_count": null,
   "metadata": {},
   "outputs": [],
   "source": [
    "square??"
   ]
  }
 ],
 "metadata": {
  "kernelspec": {
   "display_name": "Python 3",
   "language": "python",
   "name": "python3"
  },
  "language_info": {
   "codemirror_mode": {
    "name": "ipython",
    "version": 3
   },
   "file_extension": ".py",
   "mimetype": "text/x-python",
   "name": "python",
   "nbconvert_exporter": "python",
   "pygments_lexer": "ipython3",
   "version": "3.7.6"
  }
 },
 "nbformat": 4,
 "nbformat_minor": 2
}
