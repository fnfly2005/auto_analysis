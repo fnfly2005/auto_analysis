{
 "cells": [
  {
   "cell_type": "code",
   "execution_count": null,
   "metadata": {},
   "outputs": [],
   "source": [
    "import pandas as pd\n",
    "import numpy as np\n",
    "import pandas_datareader.data as web"
   ]
  },
  {
   "cell_type": "markdown",
   "metadata": {},
   "source": [
    "# 信号前沿分析\n",
    "pandas pandas_datareader.data  pdr.data.get_data_yahoo()  \n",
    "pandas dataframe d.asfreq()  \n",
    "pandas dataframe d.fillna()  \n",
    "pandas dataframe d.head()  "
   ]
  },
  {
   "cell_type": "code",
   "execution_count": null,
   "metadata": {},
   "outputs": [],
   "source": [
    "names  = ['AAPL','GOOG','MSFT','GS','MS','BAC','C']\n",
    "def get_px(stock,start,end):\n",
    "    df =web.get_data_yahoo(stock,start,end)\n",
    "    return df['Adj Close']\n",
    "\n",
    "px = pd.DataFrame({n: get_px(stock=n,start='2009/1/1',end='2012/6/1') for n in names})\n",
    "px = px.asfreq(freq='B').fillna(method='pad')\n",
    "px.head() "
   ]
  },
  {
   "cell_type": "code",
   "execution_count": null,
   "metadata": {
    "scrolled": true
   },
   "outputs": [],
   "source": [
    "'''\n",
    "绘制每只股票的累计收益\n",
    "pandas dataframe d.pct_change()\n",
    "pandas dataframe d.add()\n",
    "pandas dataframe d.cumprod()  \n",
    "pandas dataframe d.sub()\n",
    "pandas dataframe d.plot.line()\n",
    "'''\n",
    "rets = px.pct_change()\n",
    "rets.add(1).cumprod().sub(1).plot.line()"
   ]
  }
 ],
 "metadata": {
  "kernelspec": {
   "display_name": "Python 3",
   "language": "python",
   "name": "python3"
  },
  "language_info": {
   "codemirror_mode": {
    "name": "ipython",
    "version": 3
   },
   "file_extension": ".py",
   "mimetype": "text/x-python",
   "name": "python",
   "nbconvert_exporter": "python",
   "pygments_lexer": "ipython3",
   "version": "3.7.1"
  }
 },
 "nbformat": 4,
 "nbformat_minor": 2
}
