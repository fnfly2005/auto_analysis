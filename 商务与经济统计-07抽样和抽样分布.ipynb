{
 "cells": [
  {
   "cell_type": "code",
   "execution_count": null,
   "metadata": {},
   "outputs": [],
   "source": [
    "import pandas as pd\n",
    "import numpy as np\n",
    "from scipy.stats import norm\n",
    "from scipy.special import comb\n",
    "from matplotlib import pyplot as plt"
   ]
  },
  {
   "cell_type": "markdown",
   "metadata": {},
   "source": [
    "# 实践中的统计\n",
    "MeadWestvaco 公司，是一家生产铜版纸和特种纸、消费品和办公用品以及特种化学制品的企业，是同行业中的领导者  \n",
    "MeadWestvaco 内部的顾问组通过抽样为公司提供大量信息，以保证企业获得可观的产品收益，并在该行业保持竞争力  \n",
    "管理人员需要掌握关于木材及森林准确而可靠的信息，如森林的现有储量如何，森林以往的生长情况如何，森林未来计划生长情况如何，等等  \n",
    "从遍布森林的抽样点手机数据是对公司拥有的树木总体进行了解的基础。为了确定抽样点，首先按照位置和树种将木材林分成三部分，使用地图和随机数，MeadWestvaco的分析人员从每部分森林中选取1/7-1/5英亩的树木组成随机样本  \n",
    "全体林务员参加数据的收集过程。这些抽样数据被录入公司的森林资源永续存货（CFI）计算机系统。该系统所提供的报告汇总了大量数据的频数分布信息，对包括树木类型、现有森林储量、森林以往生产率、未来计划森林生长情况和储量做出统计 5  \n",
    "本章将学习简单随机抽样和样本选择方法。此外，还将介绍抽样分布的重要概念  \n",
    "在第1章中，我们给出了个体、总体和样本的定义  \n",
    "1. 个体是搜集数据的基本单位  \n",
    "2. 总体是所有感兴趣的个体的集合  \n",
    "3. 样本是总体的一个子集 5  \n",
    "\n",
    "我们选择一个样本的目的就是为了收集进行推断的数据，并且回答关于总体的一个研究问题  \n",
    "1. 得克萨斯州某个政治团体的成员正在考虑支持某候选人竞选美国参议员。选取得克萨斯州400名登记选民组成一个样本，其中有160人对该候选人表示支持。因此，登记选民总体中支持该候选人比率的估计值为0.4  \n",
    "2. 一个论坛制造商正在设计开发一种新型轮胎，这种轮胎行驶的里程数超过了企业现有生产线上轮胎的里程数  \n",
    "    制造商选取了120个这种新型轮胎组成样本用于检测，检测结果表明样本均值为36500英里。于是，该新型轮胎总体的平均使用寿命的估计值为36500英里  \n",
    "\n",
    "抽样结果提供的仅仅是相应总体特征值的估计，认识到这一点非常重要。利用适当的抽样方法，抽样结果可以给出关于总体参数的一个“好”的估计。那么，我们希望抽样结果好到什么程度？统计过程对此问题可以做出回答 5  \n",
    "我们定义一些抽样的术语。从中抽取样本的总体叫做**抽样总体**。**抽样框**是用于抽选样本的个体清单。第一个例子中，抽样总体是得克萨斯州所有的登记选民，抽样框是所有登记选民的清单  \n",
    "在轮胎行驶里程的例子中，由于120个轮胎所组成的样本取自某一特定时点的生产过程，定义抽样总体变得尤为困难。我们可以把抽样总体看做一个由生产过程某一特定时点所生产的全部轮胎组成的抽象总体  \n",
    "从这个意义上讲，可以认为抽样总体是无限的，因此无法构建一个抽样框  \n",
    "本章首先阐明如何采用简单随机抽样从一个有限总体中选取样本，以及从一个持续运行过程形成的无限总体中，描述如何从中选取随机样本。然后，我们说明如何利用抽样得到的数据计算总体均值、总体标准差和总体比率的估计值  5  \n",
    "# 7.1 EAI公司的抽样问题  \n",
    "EAI公司的人事部经理被分派一项任务，为公司2500名管理人员制定一份简报，内容包括管理人员的平均年薪和公司中已完成公司管理培训计划的管理人员所占的比率  \n",
    "2500名管理人员构成此项研究的总体，我们可以参考公司的职员记录找到总体中每个人的年薪金额和是否完成管理培训计划  \n",
    "利用EAI的数据和第3章所介绍的公式，可以计算年薪数据的总体均值和总体标准差  "
   ]
  },
  {
   "cell_type": "code",
   "execution_count": null,
   "metadata": {},
   "outputs": [],
   "source": [
    "'''\n",
    "pandas series s.mean()  \n",
    "pandas series s.std()  \n",
    "'''\n",
    "eai = pd.read_csv('../pydata-book-master/statistics_for_business_economics/ch07/EAI.csv')\n",
    "print(eai.columns)\n",
    "eai_salary=eai['Annual Salary']\n",
    "salary_mu=eai_salary.mean()\n",
    "salary_sigma=eai_salary.std()\n",
    "print('总体均值={:.0f}美元，总体标准差={:.0f}美元'.format(salary_mu,salary_sigma))"
   ]
  },
  {
   "cell_type": "code",
   "execution_count": null,
   "metadata": {},
   "outputs": [],
   "source": [
    "'''\n",
    "'''\n",
    "done_training=eai['Training Program'].value_counts()[0]\n",
    "\n",
    "print('2500名管理人员中有{:}人已经完成培训计划，完成培训计划的总体比率是{:.2f}'.format(done_training,done_training/2500))"
   ]
  },
  {
   "cell_type": "markdown",
   "metadata": {},
   "source": [
    "总体的数字特征称作**参数**。将总体中已完成培训计划的职员比率记作p，则p=1500/2500=0.6。总体年薪均值、标准差、完成培训计划的总体比率都是EAI管理人员总体的参数 5  \n",
    "现在，假设我们无法从公司的数据库中获得EAI全体管理人员这些必要的信息。我们考虑的问题是，如果不用总体中全体2500名管理人员，而是用一个样本的话，企业人事部经理将如何获取对这些总体参数的估计呢？  \n",
    "首先，我们从考虑如何取得一个30名管理人员的样本入手，探究利用样本研究EAI问题的可能性 5  \n",
    "# 7.2 抽样  \n",
    "本节我们描述如何选择一个样本。首先，我们描述从有限总体抽样，然后描述从无限总体抽样  \n",
    "## 7.2.1 从有限总体抽样  \n",
    "在从有限总体抽样时，统计学家建议采用概率抽样，因为基于概率抽样的样本可以对总体进行有效的统计推断。从容量为N的有限总体抽取容量为n的简单随机样本的定义如下：  \n",
    "<hr />\n",
    "\n",
    "**简单随机样本（有限总体）**  \n",
    "从容量为N的有限总体中抽取一个容量为n的样本，如果容量为n的每一个可能的样本都以相同的概率被抽到，则称该样本为**简单随机样本**  \n",
    "<hr />\n",
    "\n",
    "从一个有限总体中抽取简单随机样本时，一种方法是每次是只选择一个个体，总体中的每一个个体都以相同的概率被抽到  \n",
    "为了从EAI管理人员组成的有限总体中选择一个简单随机样本，我们首先为每名管理人员指派一个数字构建一个抽样框： 5  \n",
    "在实施简单随机样本的选取过程中，在30名管理人员被选出之前，表中先前已经出现过的随机数可能重复出现  \n",
    "由于该管理人员已经被选入样本了，我们并不想选取一名管理人员超过一次，所以任何以前使用过的随机数将被忽略。这种选择样本的方式叫做**无放回抽样**  \n",
    "如果我们选择样本时，对已经出现过的随机数仍选入样本，某些管理人员可能在样本中被两次货更多次地包括进来，则我们进行的是**有放回抽样**  \n",
    "抽样方法中，有放回抽样是一种取得简单随机样本的有效途径，然而，无放回抽样更为常用。当我们提到简单随机抽样时，我们总是假定抽样是无放回的  "
   ]
  },
  {
   "cell_type": "code",
   "execution_count": null,
   "metadata": {},
   "outputs": [],
   "source": [
    "'''\n",
    "数据分析 常用代码 无放回抽样 5  \n",
    "pandas series s.sample() random_state\n",
    "pandas series s.sample() replace\n",
    "pandas series s.values\n",
    "'''\n",
    "eai['Manager'].sample(n=30,replace=False,random_state=1).values"
   ]
  },
  {
   "cell_type": "markdown",
   "metadata": {},
   "source": [
    "## 7.2.2 从无限总体抽样\n",
    "有时候，我们想从总体中抽取样本，但是总体容量无限大或者总体中的个体是由一个正在运行的过程产生的，从而产生的个体数量是无限的。因此，无法得到总体中所有个体的清单。对于无限总体的情形，统计学家建议抽取一个所谓的随机样本  \n",
    "<hr />\n",
    "\n",
    "**随机样本（无限总体）**  \n",
    "如果从一个无限总体中抽取一个容量为n的样本，使得下面的条件得到满足：  \n",
    "1. 抽取的每个个体来自同一总体;  \n",
    "2. 每个个体的抽取是独立的  \n",
    "\n",
    "则称该样本是一个**随机样本** 5  \n",
    "<hr />\n",
    "\n",
    "当从无限总体中抽取一个随机样本时，必须小心并仔细判断。每一种情况可能需要不同的抽取程序  \n",
    "在普通的质量控制应用中，生产过程中所生产的产品数量是无限的。我们的抽样总体是由正在运行的生产过程生产的全部产品组成，而不仅仅是由那些已经生产的产品组成  \n",
    "在这样一个生产操作中选取一个随机样本时最关心的是条件1，即“抽取的每个个体来自同一个总体”，为了确保这一条件成立，必须在近似相同的时点选择产品  \n",
    "在诸如这样的生产过程中，设计的生产流程应确保每盒麦片的装盒是相互独立的，从而满足条件2，即“每个个体的抽取是独立的”  \n",
    "从无限总体抽取随机样本的另一个例子是，考虑由到达快餐店的顾客组成的总体。顾客光临快餐店是一个正在进行中的过程，因此不能得到总体中所有顾客的一个名单 5  \n",
    "如果设计一种抽样方法，使得样本中的所有个体都是餐厅的顾客并且是独立选择的，那么可以得到一个随机样本。因此，如果调查员是从那些来餐馆消费的人中选取样本的话，那么条件1可以被满足。尤为困难的是，确保独立地选取顾客  \n",
    "随机样本选择方法的第二个条件“每个个体的抽取是独立的”的用意是，防止出现选择偏差。当调查员可以任意自由地选取顾客进入样本时，就可能发生选择偏差。通过确保某一顾客的入选并不影响其他顾客的入选，可以避免这些选择偏差  \n",
    "快餐店的巨头——麦当劳恰好在这种情况下实施了一次随机抽样。抽样方法以一些顾客是否持有优惠券为依据。因为来到麦当劳的顾客出示优惠券是随机的，并且与其他顾客是相互独立的，因此这种抽样方式确保对顾客的选择是独立的   \n",
    "从无限总体抽样的情况总是与某段时间正在进行的不断运转的过程相联系。例如生产线上生产的零部件、实验室中反复进行的实验、银行发生的交易、技术支持中心接到的电话以及进入零售店的顾客  \n",
    "## 注释\n",
    "1. 本节中，我们详细定义了两类样本：来自一个有限总体的一个简单随机样本和来自一个无限总体的一个随机样本。在本书余下的部分中，我们一般这两类样本统称为随机样本或者样本 5  \n",
    "2. 在从有限总体的抽样调查中，统计学家使用的抽样方法得到的是概率样本。在一个概率样本中，每个可能的样本都有一个已知的抽取概率，并且对样本中个体的抽取也试用了随机方法  \n",
    "3. 从一个容量为N的有限总体，可以选取$$\\frac{N!}{n1!(N-n)!}$$个样本容量为n的不同简单随机样本"
   ]
  },
  {
   "cell_type": "code",
   "execution_count": null,
   "metadata": {},
   "outputs": [],
   "source": [
    "'''\n",
    "scipy Special functions (scipy.special) comb()\n",
    "python str s.format() e\n",
    "'''\n",
    "n=30\n",
    "print('由30名EAI管理人员组成的不同的简单随机样本的数目大约为{:.2e}个'.format(comb(2500,n)))"
   ]
  },
  {
   "cell_type": "markdown",
   "metadata": {},
   "source": [
    "4. 计算机软件包可以用来抽取一个随机样本 5  \n",
    "\n",
    "# 7.3 点估计\n",
    "我们已经描述了如何选择一个简单随机样本的方法，现在让我们回到EAI问题。假定，已选取了一个由30名管理人员组成的简单随机样本，他们相应的年薪及参加管理培训的数据入表7-2所示  "
   ]
  },
  {
   "cell_type": "code",
   "execution_count": null,
   "metadata": {},
   "outputs": [],
   "source": [
    "'''\n",
    "pandas dataframe d.sample()\n",
    "pandas dataframe d.sample() random_state\n",
    "'''\n",
    "eai_sap=eai.sample(n,random_state=1).loc[:,['Annual Salary','Training Program']]\n",
    "eai_sap.head()"
   ]
  },
  {
   "cell_type": "markdown",
   "metadata": {},
   "source": [
    "为了估计总体参数，计算相应的样本特征——**样本统计量**。例如，为了估计EAI管理人员年薪的总体均值$\\mu$和总体标准差$\\sigma$，我们用表7-2的数据计算相应的样本统计量：样本均值和样本标准差  "
   ]
  },
  {
   "cell_type": "code",
   "execution_count": null,
   "metadata": {},
   "outputs": [],
   "source": [
    "eai_sap_mu = eai_sap.mean()[0]\n",
    "eai_sap_std = eai_sap.std()[0]\n",
    "print('样本均值为{:.0f},标准差为{:.0f}'.format(eai_sap_mu,eai_sap_std))"
   ]
  },
  {
   "cell_type": "markdown",
   "metadata": {},
   "source": [
    "为了估计总体中完成管理培训计划的管理人员的比率p，我们使用其对应的样本比率$\\bar{p}$。另x标识样本中完成管理培训计划的管理人员的人数 5  "
   ]
  },
  {
   "cell_type": "code",
   "execution_count": null,
   "metadata": {},
   "outputs": [],
   "source": [
    "''' \n",
    "pandas dataframe d.count()\n",
    "'''\n",
    "x = eai_sap[eai_sap['Training Program']=='Yes'].count()[0]\n",
    "print('从而，样本比率为={:.2f}'.format(x/n))"
   ]
  },
  {
   "cell_type": "markdown",
   "metadata": {},
   "source": [
    "通过上述计算过程，我们完成了称为点估计的统计过程  \n",
    "称样本均值$\\bar{x}$为总体均值$\\mu$的**点估计量**，称s为总体标准差$\\sigma$的点估计量，称样本比率$\\bar{p}$为总体比率p的点估计量。$\\bar{x}、s和\\bar{p}$的数值称为参数的**点估计值**  \n",
    "从表7-3可见，点估计值与总体参数的真值在某种程度上是有差异的。这个差异是可以预期的，因为在进行点估计时用的是来自总体的样本而不是对整个总体的普查  \n",
    "\n",
    "<center> 表7-3 30名管理人员组成的简单随机样本的点估计值小结 5</center>\n",
    "\n",
    "|总体参数|参数值|点估计量|点估计值|\n",
    "|:-|:-|:-|:-|\n",
    "|$\\mu$:年薪的总体均值|51800美元|$\\bar{x}$:年薪的样本均值|52040美元|\n",
    "|$\\sigma$:年薪的总体标准差|4100美元|s:年薪的样本标准差|3202美元|\n",
    "|p:已完成管理培训计划的总体比率|0.60|$\\bar{p}$:已完成管理培训计划的样本比率|0.63|\n",
    "\n",
    "## 应用中的建议\n",
    "本书的其余部分大都是关于统计推断的内容。点估计是统计推断的一种形式。我们使用样本统计量对总体参数进行推断  \n",
    "当根据样本对总体进行推断时，抽样总体和目标总体之间具有密切的对应是非常重要的。**目标总体**是指我们想要推断的总体，抽样总体是指实际抽取样本的总体。但是，在一些情形下，并不是容易得到具有密切对应的抽样总体和目标总体    \n",
    "考虑一个游乐园的例子，游乐园抽取其旅客组成一个样本，了解诸如游客的年龄和游园时间这样一些特征。假定所有样本中的个体都选自某一天，而这一天仅对某一大型企业的员工开放。那么，抽样总体应该由该企业的雇员及他们的家庭成员构成 5  \n",
    "如果我们想要推断的模板总体是在一个典型的夏季里有代表性公园的游客，那么我们面对的抽样总体与目标总体存在显著差异。在这种情形下，我们对所做的点估计的有效性产生质疑  \n",
    "总之，当利用样本去推断总体时，我们应该确保所设计的研究中抽样总体与目标总体高度一致。良好的判断是合理统计应用的必要成分 5  \n",
    "# 7.4 抽样分布简介\n",
    "在上一节，我们说样本均值$\\bar{x}$是总体均值$\\mu$的点估计量，样本比率$\\bar{p}$是总体比率p的点估计量。假定我们选取另一个由30名EAI管理人员组成的简单随机样本，得到点估计值  \n",
    "注意，得到了不同的$\\bar{x}$和$\\bar{p}$的值  \n",
    "现在，假定将选取30名管理人员组成一个简单随机样本的过程一而再、再而三地进行下去，每次都计算$\\bar{x}$和$\\bar{p}$的值  \n",
    "表7-4包含了从500个这样的简单随机样本所得到的部分结构。表7-5给出的是500个$\\bar{x}$值的频数及频数分布。图7-1是$\\bar{x}$的数值的相对频率直方图  "
   ]
  },
  {
   "cell_type": "code",
   "execution_count": null,
   "metadata": {},
   "outputs": [],
   "source": [
    "'''\n",
    "表7-4 5\n",
    "pandas dataframe d.sample() random_state  \n",
    "pandas series s.round()  \n",
    "pandas dataframe d.mean()\n",
    "python Sequence Types — list, tuple, range s.append()\n",
    "python Built-in Functions range()\n",
    "'''\n",
    "random_seed=1\n",
    "def eaiSampling(seed):\n",
    "    eai_sap=eai.sample(n,random_state=seed).loc[:,['Annual Salary','Training Program']]\n",
    "    x=eai_sap.mean().round(0)[0]\n",
    "    p=eai_sap[eai_sap['Training Program']=='Yes'].count().div(n).round(2)[0]\n",
    "    return x,p\n",
    "\n",
    "x_list=list()\n",
    "p_list=list()\n",
    "\n",
    "for i in range(500):\n",
    "    x,p=eaiSampling(i)\n",
    "    p_list.append(p)\n",
    "    x_list.append(x)\n",
    "    \n",
    "eai_sp_df = pd.DataFrame({'sampleMean':x_list,'ratio':p_list})\n",
    "eai_sp_df.head()"
   ]
  },
  {
   "cell_type": "code",
   "execution_count": null,
   "metadata": {},
   "outputs": [],
   "source": [
    "'''\n",
    "表7-5 \n",
    "数据分析 常用代码 频数分布 数量型v1\n",
    "pandas series s.max()\n",
    "pandas series s.min()\n",
    "numpy Mathematical functions np.power()\n",
    "numpy Array creation routines np.arange() step\n",
    "pandas series s.sort_index()\n",
    "pandas series s.name\n",
    "pandas series s.sum()\n",
    "pandas dataframe d.round()\n",
    "pandas dataframe d.to_string()\n",
    "'''\n",
    "def freGro(s,group_number,prc=0):\n",
    "    '''\n",
    "        s: 需要分组的数据，series\n",
    "        group_number：需要的组数，int\n",
    "        返回：面元分割完的明细，Categorical\n",
    "    '''    \n",
    "    group_width=np.around((s.max()-s.min())/group_number,prc)\n",
    "    group_list=np.arange(start=np.around(s.min(),prc)-np.power(10,-prc),\n",
    "                         stop=np.around(s.min(),prc)+group_width*group_number+1,\n",
    "                         step=group_width)    \n",
    "    return pd.cut(s,bins=group_list)\n",
    "    \n",
    "def printDataDis(se,group_number,prc=0):\n",
    "    '''\n",
    "        se: 需要分组的数据，series\n",
    "        group_number：需要的组数，int\n",
    "        输出：格式化的频数分布\n",
    "    '''\n",
    "    s = freGro(se,group_number,prc)\n",
    "    st = s.value_counts().sort_index()\n",
    "    st.name='value'\n",
    "    d = pd.DataFrame(st)\n",
    "    d['rate'] = st.div(st.sum()).mul(100)\n",
    "    print(d.round(2).to_string())\n",
    "    \n",
    "    \n",
    "sm_s=eai_sp_df['sampleMean']\n",
    "print(sm_s.max())\n",
    "print(sm_s.min())\n",
    "printDataDis(sm_s,9,-2)"
   ]
  },
  {
   "cell_type": "code",
   "execution_count": null,
   "metadata": {},
   "outputs": [],
   "source": [
    "'''\n",
    "表7-5 \n",
    "数据分析 常用代码 频数分布 数量型v2\n",
    "pandas General functions pd.cut() right\n",
    "'''\n",
    "aas=pd.cut(sm_s,right=False,\n",
    "   bins=np.arange(start=48500,stop=54501,step=500))\n",
    "def freDis(s_input):\n",
    "    '''\n",
    "        se: 需要计算频数分布的数据，series\n",
    "        输出：dataframe 频数分布\n",
    "    '''\n",
    "    s_temp = s_input.value_counts().sort_index()\n",
    "    s_temp.name='value'\n",
    "    d_output = pd.DataFrame(s_temp)\n",
    "    d_output['rate'] = s_temp.div(s_temp.sum())\n",
    "    return d_output\n",
    "\n",
    "eai_freDis=freDis(aas)\n",
    "eai_freDis"
   ]
  },
  {
   "cell_type": "code",
   "execution_count": null,
   "metadata": {},
   "outputs": [],
   "source": [
    "'''\n",
    "图7-1 \n",
    "matplotlib Pyplot function overview plt.bar() width\n",
    "matplotlib Pyplot function overview plt.bar() edgecolor/color\n",
    "matplotlib Pyplot function overview plt.xlabel()\n",
    "'''\n",
    "s_freDis=eai_freDis['rate']\n",
    "s_freDis.index=np.arange(start=48500,stop=54500,step=500)\n",
    "\n",
    "s_freDis.plot.bar(width=1,edgecolor='black',color='gray',figsize=(10,7))\n",
    "plt.ylabel('Relative frequency')\n",
    "plt.xlabel('x value')\n",
    "plt.xticks(rotation=360)\n",
    "plt.show()"
   ]
  },
  {
   "cell_type": "markdown",
   "metadata": {},
   "source": [
    "在第5章中，我们将随机变量定义为对一个试验的结果的数值描述。如果我们将抽取一个简单随机样本的过程看做一个试验，则样本均值$\\bar{x}$就是对试验结果的一个数值描述   \n",
    "从而，样本均值$\\bar{x}$是一个随机变量。因此，就像其他随机变量一样，$\\bar{x}$有均值或数学期望、标准差和概率分布 5  \n",
    "由于各种$\\bar{x}$的可能值是不同简单随机样本的结果，$\\bar{x}$的概率分布叫做$\\bar{x}$的**抽样分布**  \n",
    "让我们回到图7-1，我们需要列举出每一个可能的由30名管理人员组成的样本，并计算每个样本均值来完全确定$\\bar{x}$的抽样分布  \n",
    "从这个近似，我们发现分布形状是钟形的。我们还注意到，$\\bar{x}$值大部分聚集在总体均值$\\mu$附近，500个$\\bar{x}$值得均值在总体均值$\\mu=51800$美元附近  \n",
    "样本比率$\\bar{p}$得500个值得相对频率直方图汇总在图7-2中。与$\\bar{x}$的情形一样，$\\bar{p}$是一个随机变量  \n",
    "如果从总体中将容量为30的每一个可能的样本都选出，并且计算每个样本的$\\bar{p}$值，所得到的概率分布叫$\\bar{p}$的抽样分布 5  \n",
    "500个样本值的相对频率直方图见图7-2，它给出了$\\bar{p}$  的抽样分布的一般外形特点  "
   ]
  },
  {
   "cell_type": "code",
   "execution_count": null,
   "metadata": {},
   "outputs": [],
   "source": [
    "ra=eai_sp_df['ratio']\n",
    "print(ra.max())\n",
    "print(ra.min())"
   ]
  },
  {
   "cell_type": "code",
   "execution_count": null,
   "metadata": {},
   "outputs": [],
   "source": [
    "'''\n",
    "图 7-2\n",
    "'''\n",
    "parray=np.arange(start=0.32,stop=0.88,step=0.08)\n",
    "pcut=pd.cut(ra,right=False,bins=parray)\n",
    "eai_freDis_p=freDis(pcut)\n",
    "p_freDis=eai_freDis_p['rate']\n",
    "p_freDis.index=np.around(np.arange(start=0.32,stop=0.87,step=0.08),2)\n",
    "p_freDis.plot.bar(width=1,edgecolor='black',color='gray')\n",
    "plt.ylabel('Relative frequency')\n",
    "plt.xlabel('p value')\n",
    "plt.xticks(rotation=360)\n",
    "plt.show()"
   ]
  },
  {
   "cell_type": "markdown",
   "metadata": {},
   "source": [
    "在实践中，我们只从总体中抽取一个简单随机样本  \n",
    "在本节我们将抽样过程简单地重复进行了500次，仅仅是为了说明可能取得许多不同的样本，而不同的样本所得到的样本统计量$\\bar{x}$和$\\bar{p}$的值也是各种各样的 5  \n",
    "# 7.5 $\\bar{x}$的抽样分布  \n",
    "在上一节中，我们说样本均值$\\bar{x}$是一个随机变量，称它的概率分布为$\\bar{x}$的抽样分布  \n",
    "本节所描述的$\\bar{x}$的抽样分布的性质，与我们所研究的其他概率分布一样，$\\bar{x}$的抽样分布有均值或数学期望、标准差和形状或形态特征  \n",
    "<hr />\n",
    "\n",
    "**$\\bar{x}$的抽样分布**  \n",
    "$\\bar{x}$的抽样分布式样本均值$\\bar{x}$的所有可能值得概率分布  \n",
    "<hr />\n",
    "\n",
    "## 7.5.1 $\\bar{x}$的数学期望  \n",
    "在EAI抽样问题中，我们看到不同的简单随机样本得出不同的样本均值$\\bar{x}$的值。随机变量$\\bar{x}$的均值式$\\bar{x}$的数学期望。令$E(\\bar{x})$表示$\\bar{x}$的数学期望，$\\mu$表示我们抽取简单随机样本的总体的均值。对简单随机抽样，可以证明$E(\\bar{x})$与$\\bar{x}$相等 5  \n",
    "<hr />\n",
    "\n",
    "**$\\bar{x}$的数学期望** (7-1)$$E(\\bar{x})=\\mu$$  \n",
    "式中，$E(\\bar{x})$代表$\\bar{x}$的数学期望;$\\mu$代表总体均值  \n",
    "<hr />\n",
    "\n",
    "该结果说明，对于简单随机抽样，$\\bar{x}$的抽样分布的均值或数学期望等于总体均值  \n",
    "当点估计量的期望值等于总体参数时，我们称这个点估计量是**无偏的**。于是，式（7-1）说明$\\bar{x}$是总体均值$\\mu$的无偏估计量  \n",
    "## 7.5.2 $\\bar{x}$的标准差  \n",
    "采用以下记号，我们给出$\\bar{x}$抽样分布的标准差的定义 5  \n",
    "$\\sigma_\\bar{x}—\\bar{x}$的标准差  \n",
    "$\\sigma$—总体标准差  \n",
    "n—样本容量  \n",
    "N—总体容量  \n",
    "可以证明，$\\bar{x}$的标准差的公式依赖于总体是否有限。下面给出$\\bar{x}$的标准差的两个公式 5  \n",
    "<hr />\n",
    "\n",
    "**$\\bar{x}$的标准差**(7-2)  \n",
    "有限总体$$\\sigma_\\bar{x}=\\sqrt{\\frac{N-n}{N-1}}\\left(\\frac{\\sigma}{\\sqrt{n}}\\right)$$\n",
    "无限总体$$\\sigma_\\bar{x}=\\frac{\\sigma}{\\sqrt{n}}$$\n",
    "<hr />\n",
    "\n",
    "比较式（7-2）中两个公式，我们看到有限总体需要系数$\\sqrt{(N-n)/(N-1)}$，而无限总体则不需要该系数。通常称该系数为**有限总体修正系数**  \n",
    "在许多实际抽样情况中，我们发现虽然总体是有限的，但容量很“大”，相对而言样本容量很“小”，这时有限总体修正系数$\\sqrt{(N-n)/(N-1)}$趋近于1，可以忽略有限总体$\\bar{x}$的标注差与无限总体$\\bar{x}$的标准差之间的差别  \n",
    "由此观察导致得出下面计算$\\bar{x}$的标准差的一般指导方针或经验法则 5  \n",
    "<hr />\n",
    "\n",
    "**计算$\\bar{x}$的标准差的公式**(7-3)$$\\sigma_\\bar{x}=\\frac{\\sigma}{\\sqrt{n}}$$  \n",
    "当1)总体是无限的；或2)总体是有限的，但样本容量小于等于总体容量的5%，即n/N≤0.05时  \n",
    "<hr />\n",
    "\n",
    "当n/N>0.05时，使用式（7-2）中有限总体的公式计算$\\sigma_\\bar{x}$。除非特别说明，本书中我们假定总体容量足够“大”，使得n/N≤0.05，可以用式(7-3)计算$\\sigma_\\bar{x}$  \n",
    "为了计算$\\sigma_\\bar{x}$，我们必须知道总体标准差$\\sigma$。为了更加强调$\\sigma_\\bar{x}$与$\\sigma$的不同，我们称$\\bar{x}$的标准差$\\sigma_bar{x}$为均值的**标准误差**  \n",
    "一般地，标准误差指的是点估计量的标准差。随后，我们将看到均值的标准误差有助于确定样本均值与总体均值的偏离程度 5  \n",
    "在7.1节，我们看到2500名EAI管理人员年薪数据的总体标准差$\\sigma=4000$美元。这时，总体是有限的，当样本容量为30时，有n/N=0.012  \n",
    "因为样本容量小于总体容量的5%，所以可以忽略有限总体修正系数，采用式（7-3）计算$\\bar{x}$的标准误差  "
   ]
  },
  {
   "cell_type": "code",
   "execution_count": null,
   "metadata": {},
   "outputs": [],
   "source": [
    "'''\n",
    "数据分析 常用代码 标准误差\n",
    "'''\n",
    "def stdError(sigma,n):\n",
    "    return sigma/np.sqrt(n)\n",
    "\n",
    "sigma_xbar=stdError(salary_sigma,n=n)\n",
    "\n",
    "print('标准误差是{:.1f}'.format(sigma_xbar))"
   ]
  },
  {
   "cell_type": "markdown",
   "metadata": {},
   "source": [
    "## 7.5.3 $\\bar{x}$的抽样分布的形态\n",
    "前面关于$\\bar{x}$的抽样分布的数学期望和标准差的结论适用于所有总体。确定$\\bar{x}$抽样分布特征的最后一步是确定$\\bar{x}$的概率分布形式或者形态。我们考虑两种情形：一种为总体服从正态分布，另一种为总体不服从正态分布  \n",
    "**总体分布为正态分布** 在许多情况下，有理由假设，我们抽取简单随机样本的总体服从正态分布或近似服从正态分布。当总体服从正态分布时，在任何样本容量下，$\\bar{x}$的抽样分布都是正态分布 5  \n",
    "**总体分布为非正态分布** 当我们抽取简单随机样本的总体不服从正态分布时，中心极限定理有助于确定$\\bar{x}$的抽样分布的形状  \n",
    "总体分布未知时，**中心极限定理**能帮助我们确定$\\bar{x}$抽样分布。中心定理在$\\bar{x}$抽样分布中的应用如下所述  \n",
    "<hr />\n",
    "\n",
    "**中心极限定理**  \n",
    "从总体中抽取容量为n的简单随机样本，当样本容量很大时，样本均值$\\bar{x}$的抽样分布近似服从正态分布  \n",
    "<hr />\n",
    "\n",
    "图7-3说明中心极限定理对于三个不同总体的作用，每列对应于一个总体  \n",
    "图7-3下面的三幅图给出了当样本容量分别为n=2,n=5和n=30时抽样分布的形状。最后，当样本容量为30时，我们看到是三个抽样分布的形态都近似于正态分布  5   \n",
    "![7-3](../syn_pic/statistics_for_business_economics/7-3.png)\n",
    "<center>图7-3 中心极限定理对三个总体的图示</center>\n",
    "\n",
    "从应用者的角度看，样本容量应该达到多大时，我们才可以应用中心极限定理？才能够假定抽样分布的形态是近似正态的呢？统计研究人员通过分析各种总体不同样本容量下$\\bar{x}$的抽样分布，并对该问题进行了研究  \n",
    "在一般的统计实践中，对于大多数的应用，假定当样本容量大于或等于30时，$\\bar{x}$的抽样分布可用正态分布近似。当总体是严重偏态或者出现异常点时，可能需要样本容量达到50  \n",
    "最后，当总体为离散型时，正态近似中所需样本容量一般依赖于总体的比例   \n",
    "## 7.5.4 EAI问题中$\\bar{x}$的抽样分布  \n",
    "让我们回到EAI问题中，先前给出了$E(\\bar{x})=51800$美元，$\\sigma_{\\bar{x}}=730.3$ 5  \n",
    "从这个角度上将，我们没有关于总体分布的任何信息，它可能服从正态分布，也可能不服从正态分布。在这两种情况下，我们都很容易地得到结论：$\\bar{x}$的抽样分布可以用图7-4中的正态分布来描述    "
   ]
  },
  {
   "cell_type": "code",
   "execution_count": null,
   "metadata": {
    "scrolled": true
   },
   "outputs": [],
   "source": [
    "def normDis(mu,sigma):   \n",
    "    '''\n",
    "    数据分析 常用代码 正态分布图v1\n",
    "    mu: 均值\n",
    "    sigam: 标准差\n",
    "    输出：正态分布图\n",
    "    \n",
    "    scipy Statistical functions (scipy.stats) norm() n.ppf()\n",
    "    scipy Statistical functions (scipy.stats) norm() loc/scale \n",
    "    numpy Array creation routines np.linspace() num \n",
    "    scipy Statistical functions (scipy.stats) norm() n.pdf()\n",
    "    matplotlib axes a.plot()\n",
    "    '''\n",
    "    fig, ax = plt.subplots(1, 1)\n",
    "    x = np.linspace(norm.ppf(0.01,loc=mu,scale=sigma),\n",
    "                    norm.ppf(0.99,loc=mu,scale=sigma), 100)\n",
    "    ax.plot(x, norm.pdf(x,loc=mu,scale=sigma))\n",
    "    plt.show()\n",
    "    \n",
    "normDis(salary_mu,sigma_xbar)"
   ]
  },
  {
   "cell_type": "markdown",
   "metadata": {},
   "source": [
    "## 7.5.5 $\\bar{x}$的抽样分布的实际值\n"
   ]
  }
 ],
 "metadata": {
  "kernelspec": {
   "display_name": "Python 3",
   "language": "python",
   "name": "python3"
  },
  "language_info": {
   "codemirror_mode": {
    "name": "ipython",
    "version": 3
   },
   "file_extension": ".py",
   "mimetype": "text/x-python",
   "name": "python",
   "nbconvert_exporter": "python",
   "pygments_lexer": "ipython3",
   "version": "3.7.1"
  },
  "toc": {
   "base_numbering": 1,
   "nav_menu": {},
   "number_sections": false,
   "sideBar": true,
   "skip_h1_title": false,
   "title_cell": "Table of Contents",
   "title_sidebar": "Contents",
   "toc_cell": false,
   "toc_position": {},
   "toc_section_display": true,
   "toc_window_display": false
  }
 },
 "nbformat": 4,
 "nbformat_minor": 4
}
