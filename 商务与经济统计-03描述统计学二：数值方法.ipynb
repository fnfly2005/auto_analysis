{
 "cells": [
  {
   "cell_type": "code",
   "execution_count": null,
   "metadata": {},
   "outputs": [],
   "source": [
    "import pandas as pd\n",
    "import numpy as np"
   ]
  },
  {
   "cell_type": "markdown",
   "metadata": {},
   "source": [
    "# 实践中的统计\n",
    "Small Fry 设计公司是一家设计和进口婴儿产品的公司，产品包括泰迪熊、悬挂饰物、音乐玩具，在美国设计，中国生产  \n",
    "Small Fry 设计公司使用独立的销售代理，目前Small Fry设计公司的产品遍布美国1000多个零售批发商店  \n",
    "在这家公司的日常运营中个，现金流量管理是最重要的经营活动之一，现金流量管理的一个关键因素是对应收账款的分析和控制  \n",
    "公司设置了以下目标：未付款发票的平均期限不应超过45天，超过60天的未付款发票的资金数额不应超过所有应收账款总额的5%  \n",
    "在最近对应收账款的汇总中，该公司使用了下面的描述统计量来衡量未付款发票的期限 5  \n",
    "\n",
    "|统计量|期限|\n",
    "|--|--|\n",
    "|平均数|40天|\n",
    "|中位数|35天|\n",
    "|众数|31天|\n",
    "\n",
    "对这些统计量的解释表明，一张发票的平均数或平均期限是40天，中位数表明有一半的发票已经超过35天没有付款，最常见的发票期限是众数31天  \n",
    "统计汇总还显示出应收账款总额中只有3%超过60天，基于这些统计信息，管理人员很满意，因为应收账款和收入现金流都处于控制之中  \n",
    "在本章中，你将学会如何计算和理解Small Fry设计公司使用过的一些描述统计量，这些数值策略将有助于读者对数据的理解和解释  \n",
    "在本章中，我们将给出集中描述统计学的数值方法，它们提供了汇总数据的其他可选方法 5  \n",
    "首先，我们对只包含一个变量的数据集建立数值汇总的度量方案，当数据集包含的变量不止一个时，可以对每个变量分布计算同样的数值度量，然而，在两个变量的情况下，我们还将建立变量间的相互关系的度量  \n",
    "本章我们将介绍位置、离散程度、形态和相关程度的数值度量，如果数据来自样本，计算的度量称为**样本统计量**，如果数据来自总体，计算的度量称为**总体参数**，在统计推断中，样本统计量被称为是相应总体参数的**点估计量**    \n",
    "\n",
    "# 3.1 位置的度量\n",
    "## 3.1.1 平均数\n",
    "在位置的数值度量中，最重要的大概要数变量的**平均数**或平均值了，平均数提供了数据中心位置的度量，如果数据来自样本，平均数用$\\bar x$表示，如果数据来自某个总体，则平均数用希腊字母$\\mu$表示  \n",
    "**样本平均数**(3-1) $$\\bar{x}=\\frac{\\Sigma x_i}{n}$$  \n",
    "在式（3-1）中，分子是n个观测值的数值之和，即$\\Sigma x_i=x_1+x_2+\\cdots+x_n$  5  \n",
    "而计算总体平均数的公式也基本相同，但是我们使用不同的符号表示我们是对整个总体计算的  \n",
    "**总体平均数**(3-2) $$\\mu =\\frac{\\Sigma x_i}{N}$$  "
   ]
  },
  {
   "cell_type": "code",
   "execution_count": null,
   "metadata": {},
   "outputs": [],
   "source": [
    "'''\n",
    "pandas Input/Output pd.read_csv() index_col\n",
    "pandas dataframe d.mean()\n",
    "pandas dataframe d.to_string()\n",
    "'''\n",
    "d1 = pd.read_csv('../pydata-book-master/statistics_for_business_economics/ch03/2012StartSalary.csv',index_col=0)\n",
    "print(d1.head().to_string())\n",
    "d1.mean()"
   ]
  },
  {
   "cell_type": "markdown",
   "metadata": {},
   "source": [
    "## 3.1.2 中位数\n",
    "**中位数**是对变量中心位置的另一种度量，将所有数据按升序（从小到大的顺序）排列后，位于中间的数值即为中位数\n",
    "1. 对于奇数个观测值，中位数是中间的数值  \n",
    "2. 对于偶数个观测值，中位数是中间两个数值的平均值 5  \n",
    "\n",
    "虽然在度量数据的中心位置时，最常用的是平均数，但在某些情况下，使用中位数则更为合适（当异常值会夸大平均数时），平均数往往会受到异常大或异常小的数值影响  "
   ]
  }
 ],
 "metadata": {
  "celltoolbar": "Raw Cell Format",
  "kernelspec": {
   "display_name": "Python 3",
   "language": "python",
   "name": "python3"
  },
  "language_info": {
   "codemirror_mode": {
    "name": "ipython",
    "version": 3
   },
   "file_extension": ".py",
   "mimetype": "text/x-python",
   "name": "python",
   "nbconvert_exporter": "python",
   "pygments_lexer": "ipython3",
   "version": "3.7.1"
  }
 },
 "nbformat": 4,
 "nbformat_minor": 4
}
