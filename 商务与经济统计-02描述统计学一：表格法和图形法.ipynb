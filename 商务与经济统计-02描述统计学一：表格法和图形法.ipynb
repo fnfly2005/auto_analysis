{
 "cells": [
  {
   "cell_type": "code",
   "execution_count": null,
   "metadata": {},
   "outputs": [],
   "source": [
    "import pandas as pd\n",
    "import numpy as np\n",
    "from matplotlib import pyplot as plt"
   ]
  },
  {
   "cell_type": "markdown",
   "metadata": {},
   "source": [
    "# 实践中的统计\n",
    "高露洁-棕榄公司除了最著名的品牌高露洁、棕榄、Ajax和Fab外，同时还兼营Mennen、希尔斯科学食品和希尔斯处方食品等产品  \n",
    "高露洁-棕榄公司在加用洗衣粉产品的质量保证计划中使用统计学方法  \n",
    "为了控制洗衣粉密度过大这个问题，需要对洗衣粉密度的可接受范围加以限制  \n",
    "在一周内采集了150个洗衣服密度的样本，得到的密度频数分布和直方图如下所示"
   ]
  },
  {
   "cell_type": "code",
   "execution_count": null,
   "metadata": {},
   "outputs": [],
   "source": [
    "'''\n",
    "5 直方图\n",
    "pandas series pd.Series() name \n",
    "pandas Index pd.Index() name  \n",
    "pandas series s.plot.bar()  \n",
    "matplotlib Pyplot function overview plt.bar() edgecolor/color  \n",
    "matplotlib Pyplot function overview plt.ylabel()  \n",
    "matplotlib Pyplot function overview plt.show()  \n",
    "'''\n",
    "i1=pd.Index([0.30,0.32,0.34,0.36,0.38,0.40],name='density')\n",
    "l1 = [30,75,32,9,3,1]\n",
    "s1 = pd.Series(l1,index=i1,name='frequency')\n",
    "\n",
    "s1.plot.bar(width=1,color='gray',edgecolor='black')\n",
    "plt.xticks(rotation=360)\n",
    "plt.title('Histogram of density data')\n",
    "plt.ylabel('frequency')\n",
    "plt.show()\n",
    "\n",
    "s1"
   ]
  },
  {
   "cell_type": "markdown",
   "metadata": {},
   "source": [
    "本章我们将学习有关描述统计的表格法和图形法，包括频数分布、条形图、直方图、茎叶显示、交叉分组表等内容  \n",
    "本章介绍的是通常用于汇总分类型数据和数量型数据的表格法和图形法    \n",
    "现代统计软件包提供了汇总数据和编制图表的强大功能  \n",
    "## 2.1 分类型数据汇总\n",
    "### 2.1.1 频数分布\n",
    "我们从频数分布的定义开始，讨论如何使用表格法和图形法汇总分类型数据  \n",
    "假设表2-1的数据是在只选择5种软饮料的情况下，50次购买软饮料的样本数据  "
   ]
  },
  {
   "cell_type": "code",
   "execution_count": null,
   "metadata": {},
   "outputs": [],
   "source": [
    "# numpy Random sampling (numpy.random) np.random.randint() low/high\n",
    "l2=['可口可乐','健怡可乐','百事可乐','胡椒博士','雪碧']\n",
    "sampler = np.random.randint(low=0,high=len(l2),size=50)\n",
    "s2=pd.Series([l2[i] for i in sampler],name='频数')\n",
    "d2 = pd.DataFrame(s2.value_counts())\n",
    "d2.index.name='软饮料'\n",
    "d2.loc['总计']=d2.sum()\n",
    "print (\"表2-2 购买软饮料的频数分布\")\n",
    "d2"
   ]
  },
  {
   "cell_type": "markdown",
   "metadata": {},
   "source": [
    "为了编制这些数据的频数分布，我们计算表2-1中每一种软饮料的出现次数，这些数字汇总在表2-2的频数分布  \n",
    "这个频数分布汇总说明了50次购买软饮料的样本中，5中软饮料是如何分配的，提供了比原始数据更多的内涵，还揭示了这5种销量最高的软饮料受欢迎程度的信息 5  \n",
    "### 2.1.2 相对频数分布和百分数频数分布\n",
    "频数分布表明了在几个互不重叠的组别中每一组的项目个数（即频数），然而我们往往对每一组项目所占的比例或百分比更感兴趣，一组的相对频数是属于改组的项目个数的比例  \n",
    "相对频数（2-1）$$ 组的相对频数 = \\frac{ 组频数 }{ n }$$  \n",
    "组的百分数频数是相对频数乘以100  \n",
    "__相对频数分布__ 是各组相对频数数据的表格汇总，__百分数频数分布__ 是各组百分数频数数据的表格汇总，表2-3是软饮料数据的相对频数分布和百分数频数分布  "
   ]
  },
  {
   "cell_type": "code",
   "execution_count": null,
   "metadata": {
    "scrolled": true
   },
   "outputs": [],
   "source": [
    "'''\n",
    "数据分析 常用代码 百分数频数分布\n",
    "pandas series s.mul()\n",
    "'''\n",
    "d3 = d2.div(d2.loc['总计'])\n",
    "d3.columns=['相对频数']\n",
    "d3['百分数频数']=d3['相对频数'].mul(100)\n",
    "print('表2-3 购买软饮料的相对频数和百分频数分布 5')\n",
    "d3"
   ]
  },
  {
   "cell_type": "markdown",
   "metadata": {},
   "source": [
    "### 2.1.3 条形图和饼形图\n",
    "条形图是一种图像方法，用来描绘已汇总的分类学数据的频数分布、相对频数分布或百分数频数分布，图2-1是50次购买软饮料情况的频数分布的条形图，注意图形如何显示最受欢迎的品牌    "
   ]
  },
  {
   "cell_type": "code",
   "execution_count": null,
   "metadata": {},
   "outputs": [],
   "source": [
    "'''\n",
    "数据分析 常用代码 条形图 \n",
    "pandas Indexing and Selecting Data series[]\n",
    "pandas Index i.map()  \n",
    "matplotlib Pyplot function overview plt.xticks() \n",
    "matplotlib text Text.rotation\n",
    "'''\n",
    "dict1={'雪碧':'Sprite', '胡椒博士':'Dr Pepper', '健怡可乐':'Diet Coke', '可口可乐':'Coca Cola', '百事可乐':'Pepsi Cola'}\n",
    "s3 =d2['频数'][:5]\n",
    "s3.index=s3.index.map(dict1)\n",
    "s3.name='frequency'\n",
    "s3.index.name='Soft drink'\n",
    "s3.plot.bar(color='gray',edgecolor='black')\n",
    "plt.xticks(rotation=360)\n",
    "plt.title('Figure 2-1 Bar chart for purchasing soft drinks')\n",
    "plt.ylabel('frequency')\n",
    "plt.show()"
   ]
  },
  {
   "cell_type": "markdown",
   "metadata": {},
   "source": [
    "饼形图（pie chart）是另一种描绘分类型数据的相对频数和百分数频数分布的图形方法，得到了图2-2中饼形图，显示每个扇形部分的数值可以是频数、相对频数或百分数频数  \n",
    "注释：\n",
    "1. 在一个频数分布中，组数通常与在数据中发现的类型数相同，就像本节中购买软饮料数据的情况一样  \n",
    "2. 在任何频数分布中，频数的总和总是等于观测值的数目 5  "
   ]
  },
  {
   "cell_type": "code",
   "execution_count": null,
   "metadata": {
    "scrolled": true
   },
   "outputs": [],
   "source": [
    "'''\n",
    "饼形图 \n",
    "pandas series s.plot.pie() \n",
    "matplotlib Pyplot function overview plt.pie() autopct\n",
    "matplotlib Pyplot function overview plt.title() \n",
    "python str %f\n",
    "'''\n",
    "s3.plot.pie(autopct='%.0f%%')\n",
    "plt.ylabel(ylabel='')\n",
    "plt.title('Figure 2-2 Pie chart for soft drinks')\n",
    "plt.show()"
   ]
  },
  {
   "cell_type": "markdown",
   "metadata": {},
   "source": [
    "## 2.2 数量型数据汇总\n",
    "### 2.2.1 频数分布\n",
    "频数分布是表示在几个互不重叠的组中每一组所包含的项目个数（或频数）的表格汇总，这个定义也适用于数量型数据  \n",
    "考虑表2-4的数量型数据，样本数是一家名叫sac的小型会计师事务所对20位客户完成年末审计所需的时间  \n",
    "对于数量型数据，确定频数分布的分组时，三个必要的步骤是：\n",
    "1. 确定互不重叠组的组数\n",
    "2. 确定每组的组宽\n",
    "3. 确定组限   \n",
    "\n",
    "**组数** 组是通过对数据规定范围而形成的，这个规定的范围用于对数据进行分组，作为一般性原则，建议使用5-20组 5  \n",
    "分组的目的是用足够多的组来揭示自然的分组和数据的变异性，而不是有这多的组却只包含很少的数据项，表2-4的数据项相对较少(n=20)，我们决定选择编制5组的频数分布  \n",
    "**组宽** 编制数量型数据频数分布的第二步是选择组宽，作为一般性原则，建议每组的宽度相同（可以减少使用者不适当的诠释机会）  \n",
    "一旦确定了期望的组数，我们就可以用下面的表达式来确定近似的组宽  \n",
    "$$ 近似组宽=\\frac{最大数据值-最小数据值}{组数} $$(2-2)  \n",
    "由式（2-2）给出的近似组宽，可以根据编制频数分布的人的偏好取整为更方便的值 5  \n",
    "在实践中，组数和近似组宽要通过反复试验确定  \n",
    "**组限** 选择组限必须使每个数据项属于且只属于一组，对于数量型数据，组限对确定每个数据值的归属很有必要  \n",
    "对于表2-4的审计实际数据，我们对第一组选择10天为下组限和14天为上组限，该组在表2-5只能给记为10-14  \n",
    "一旦确定了组数、组宽和组限，计算属于每一组的数据值的个数，我们可以得到频数分布。利用表2-5这个频数分布，我们可以观察到：\n",
    "1. 最频繁发生的审计时间在15-19天这一组，在20个审计时间中有8个属于这一组 5  \n",
    "2. 只有一次审计需要30天或更多时间  \n",
    "\n",
    "根据人们观察频数分布的兴趣，可能得到其他结论，而直接观察原始的未经组织的数据，是无法获得这种深刻理解的  \n",
    "**组中值** 我们想知道数量型数据频数分布的组中值，组中值是下组限和上组限的中间值  "
   ]
  },
  {
   "cell_type": "code",
   "execution_count": null,
   "metadata": {
    "scrolled": false
   },
   "outputs": [],
   "source": [
    "'''\n",
    "数据分析 常用代码 频数分布 数量型\n",
    "numpy Mathematical functions np.maximum()\n",
    "numpy Mathematical functions np.minimum()\n",
    "numpy Mathematical functions np.ceil() \n",
    "numpy Array creation routines np.arange() step\n",
    "pandas Pandas arrays Categorical.value_counts()\n",
    "numpy Indexing basic slice\n",
    "'''\n",
    "l3=[12,14,19,18,15,15,18,17,20,27,22,23,22,21,33,28,14,18,16,13]\n",
    "print ('表2-4 年末审计时间（单位：天）')\n",
    "print(l3)\n",
    "w1=np.ceil((np.max(l3)-np.min(l3))/5)\n",
    "print('我们决定以%.0f天作为频数分布的组宽' % (w1))\n",
    "a1=np.arange(start=9,stop=35,step=w1)\n",
    "c1=pd.cut(x=l3,bins=a1)\n",
    "s4=c1.value_counts()\n",
    "print(s4)\n",
    "print(s4.sum())\n",
    "print('组中值 %s' % (a1[:-1]+np.ceil(w1/2)))"
   ]
  },
  {
   "cell_type": "markdown",
   "metadata": {},
   "source": [
    "### 2.2.2 相对频数分布和百分数频数分布\n",
    "我们以分类型数据同样的方式来定义数量型数据的相对频数和百分数频数分布 5  \n",
    "通过使用表2-6，我们还能够得到其他解释和理解，有0.40或40%审计需要15-19天时间，只有0.05或5%的审计需要30天或更多时间"
   ]
  },
  {
   "cell_type": "code",
   "execution_count": null,
   "metadata": {
    "scrolled": true
   },
   "outputs": [],
   "source": [
    "'''\n",
    "数据分析 常用代码 百分数频数分布\n",
    "'''\n",
    "d4=pd.DataFrame(s4/s4.sum(),columns=['Relative frequency'])\n",
    "d4['Percentage frequency']=d4['Relative frequency'].mul(100)\n",
    "d4.index.name='Audit time (days)'\n",
    "print('表2-6 审计时间数据的相对频数和百分数频数分布')\n",
    "print(d4)\n",
    "print(d4.sum())"
   ]
  }
 ],
 "metadata": {
  "kernelspec": {
   "display_name": "Python 3",
   "language": "python",
   "name": "python3"
  },
  "language_info": {
   "codemirror_mode": {
    "name": "ipython",
    "version": 3
   },
   "file_extension": ".py",
   "mimetype": "text/x-python",
   "name": "python",
   "nbconvert_exporter": "python",
   "pygments_lexer": "ipython3",
   "version": "3.7.1"
  }
 },
 "nbformat": 4,
 "nbformat_minor": 2
}
