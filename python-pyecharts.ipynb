{
 "cells": [
  {
   "cell_type": "code",
   "execution_count": null,
   "metadata": {},
   "outputs": [],
   "source": [
    "from pyecharts import options as opts\n",
    "from pyecharts.charts import BMap\n",
    "import pandas as pd\n",
    "import numpy as np"
   ]
  },
  {
   "cell_type": "code",
   "execution_count": null,
   "metadata": {},
   "outputs": [],
   "source": [
    "df=pd.read_excel(io='../syc_data/Data Science/showUserCity2019.xlsx',engine=\"openpyxl\")\n",
    "df=df.dropna()\n",
    "df['num']=np.sqrt(df['num']).mul(100)\n",
    "df.head()"
   ]
  },
  {
   "cell_type": "code",
   "execution_count": null,
   "metadata": {},
   "outputs": [],
   "source": [
    "\n",
    "c = (\n",
    "    BMap()\n",
    "    .add_schema(baidu_ak='82nTCSUk7eYmaYbj7lwHbfC6an1Pk0lN', center=[120.13066322374, 30.240018034923])\n",
    "    .add(\n",
    "        \"演出购票人数\",\n",
    "        [list(z) for z in zip(df['province_name'].tolist(), df['num'].tolist())],\n",
    "        type_=\"heatmap\",\n",
    "        label_opts=opts.LabelOpts(formatter=\"{b}\"),\n",
    "    )\n",
    "    .set_global_opts(\n",
    "        title_opts=opts.TitleOpts(title=\"演出用户购票城市分布\"), visualmap_opts=opts.VisualMapOpts()\n",
    "    )\n",
    "    .render(\"../syn_pic/Data Science/bmap_heatmap.html\")\n",
    ")"
   ]
  }
 ],
 "metadata": {
  "kernelspec": {
   "display_name": "Python 3",
   "language": "python",
   "name": "python3"
  },
  "language_info": {
   "codemirror_mode": {
    "name": "ipython",
    "version": 3
   },
   "file_extension": ".py",
   "mimetype": "text/x-python",
   "name": "python",
   "nbconvert_exporter": "python",
   "pygments_lexer": "ipython3",
   "version": "3.7.1"
  },
  "toc": {
   "base_numbering": 1,
   "nav_menu": {},
   "number_sections": false,
   "sideBar": true,
   "skip_h1_title": false,
   "title_cell": "Table of Contents",
   "title_sidebar": "Contents",
   "toc_cell": false,
   "toc_position": {},
   "toc_section_display": true,
   "toc_window_display": false
  }
 },
 "nbformat": 4,
 "nbformat_minor": 4
}
