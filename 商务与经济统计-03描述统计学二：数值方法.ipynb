{
 "cells": [
  {
   "cell_type": "markdown",
   "metadata": {},
   "source": [
    "# 实践中的统计\n",
    "Small Fry 设计公司是一家设计和进口婴儿产品的公司，产品包括泰迪熊、悬挂饰物、音乐玩具，在美国设计，中国生产  \n",
    "Small Fry 设计公司使用独立的销售代理，目前Small Fry设计公司的产品遍布美国1000多个零售批发商店  \n",
    "在这家公司的日常运营中个，现金流量管理是最重要的经营活动之一，现金流量管理的一个关键因素是对应收账款的分析和控制  \n",
    "公司设置了以下目标：未付款发票的平均期限不应超过45天，超过60天的未付款发票的资金数额不应超过所有应收账款总额的5%  \n",
    "在最近对应收账款的汇总中，该公司使用了下面的描述统计量来衡量未付款发票的期限 5  \n",
    "\n",
    "|统计量|期限|\n",
    "|--|--|\n",
    "|平均数|40天|\n",
    "|中位数|35天|\n",
    "|众数|31天|\n",
    "\n",
    "对这些统计量的解释表明，一张发票的平均数或平均期限是40天，中位数表明有一半的发票已经超过35天没有付款，最常见的发票期限是众数31天  \n",
    "统计汇总还显示出应收账款总额中只有3%超过60天，基于这些统计信息，管理人员很满意，因为应收账款和收入现金流都处于控制之中  \n",
    "在本章中，你将学会如何计算和理解Small Fry设计公司使用过的一些描述统计量，这些数值策略将有助于读者对数据的理解和解释  \n",
    "在本章中，我们将给出集中描述统计学的数值方法，它们提供了汇总数据的其他可选方法 5  "
   ]
  }
 ],
 "metadata": {
  "celltoolbar": "Raw Cell Format",
  "kernelspec": {
   "display_name": "Python 3",
   "language": "python",
   "name": "python3"
  },
  "language_info": {
   "codemirror_mode": {
    "name": "ipython",
    "version": 3
   },
   "file_extension": ".py",
   "mimetype": "text/x-python",
   "name": "python",
   "nbconvert_exporter": "python",
   "pygments_lexer": "ipython3",
   "version": "3.7.1"
  }
 },
 "nbformat": 4,
 "nbformat_minor": 4
}
