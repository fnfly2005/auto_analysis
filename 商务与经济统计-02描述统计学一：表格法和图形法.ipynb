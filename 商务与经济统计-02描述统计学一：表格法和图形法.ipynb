{
 "cells": [
  {
   "cell_type": "code",
   "execution_count": null,
   "metadata": {},
   "outputs": [],
   "source": [
    "import pandas as pd\n",
    "import numpy as np\n",
    "from matplotlib import pyplot as plt"
   ]
  },
  {
   "cell_type": "markdown",
   "metadata": {},
   "source": [
    "# 实践中的统计\n",
    "高露洁-棕榄公司除了最著名的品牌高露洁、棕榄、Ajax和Fab外，同时还兼营Mennen、希尔斯科学食品和希尔斯处方食品等产品  \n",
    "高露洁-棕榄公司在加用洗衣粉产品的质量保证计划中使用统计学方法  \n",
    "为了控制洗衣粉密度过大这个问题，需要对洗衣粉密度的可接受范围加以限制  \n",
    "在一周内采集了150个洗衣服密度的样本，得到的密度频数分布和直方图如下所示"
   ]
  },
  {
   "cell_type": "code",
   "execution_count": null,
   "metadata": {},
   "outputs": [],
   "source": [
    "'''\n",
    "5 直方图\n",
    "pandas series pd.Series() name \n",
    "pandas Index pd.Index() name  \n",
    "pandas series s.plot.bar()  \n",
    "matplotlib Pyplot function overview plt.bar() edgecolor/color  \n",
    "matplotlib Pyplot function overview plt.ylabel()  \n",
    "matplotlib Pyplot function overview plt.show()  \n",
    "'''\n",
    "i1=pd.Index([0.30,0.32,0.34,0.36,0.38,0.40],name='density')\n",
    "l1 = [30,75,32,9,3,1]\n",
    "s1 = pd.Series(l1,index=i1,name='frequency')\n",
    "\n",
    "s1.plot.bar(width=1,color='gray',edgecolor='black')\n",
    "plt.xticks(rotation=360)\n",
    "plt.title('Histogram of density data')\n",
    "plt.ylabel('frequency')\n",
    "plt.show()\n",
    "\n",
    "s1"
   ]
  },
  {
   "cell_type": "markdown",
   "metadata": {},
   "source": [
    "本章我们将学习有关描述统计的表格法和图形法，包括频数分布、条形图、直方图、茎叶显示、交叉分组表等内容  \n",
    "本章介绍的是通常用于汇总分类型数据和数量型数据的表格法和图形法    \n",
    "现代统计软件包提供了汇总数据和编制图表的强大功能  \n",
    "## 2.1 分类型数据汇总\n",
    "### 2.1.1 频数分布\n",
    "我们从频数分布的定义开始，讨论如何使用表格法和图形法汇总分类型数据  \n",
    "假设表2-1的数据是在只选择5种软饮料的情况下，50次购买软饮料的样本数据  "
   ]
  },
  {
   "cell_type": "code",
   "execution_count": null,
   "metadata": {},
   "outputs": [],
   "source": [
    "# numpy Random sampling (numpy.random) np.random.randint() low/high\n",
    "l2=['可口可乐','健怡可乐','百事可乐','胡椒博士','雪碧']\n",
    "sampler = np.random.randint(low=0,high=len(l2),size=50)\n",
    "s2=pd.Series([l2[i] for i in sampler],name='频数')\n",
    "d2 = pd.DataFrame(s2.value_counts())\n",
    "d2.index.name='软饮料'\n",
    "d2.loc['总计']=d2.sum()\n",
    "d2"
   ]
  }
 ],
 "metadata": {
  "kernelspec": {
   "display_name": "Python 3",
   "language": "python",
   "name": "python3"
  },
  "language_info": {
   "codemirror_mode": {
    "name": "ipython",
    "version": 3
   },
   "file_extension": ".py",
   "mimetype": "text/x-python",
   "name": "python",
   "nbconvert_exporter": "python",
   "pygments_lexer": "ipython3",
   "version": "3.7.6"
  }
 },
 "nbformat": 4,
 "nbformat_minor": 2
}
