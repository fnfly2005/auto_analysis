{
 "cells": [
  {
   "cell_type": "markdown",
   "metadata": {},
   "source": [
    "# 时间序列绘图"
   ]
  },
  {
   "cell_type": "code",
   "execution_count": null,
   "metadata": {},
   "outputs": [],
   "source": [
    "import pandas as pd\n",
    "import numpy as np"
   ]
  },
  {
   "cell_type": "code",
   "execution_count": null,
   "metadata": {},
   "outputs": [],
   "source": [
    "# pandas dataframe d.resample()\n",
    "# pandas Resampling r.ffill()\n",
    "# pandas dataframe d.info()\n",
    "close_px_all = pd.read_csv('../pydata-book-master/ch09/stock_px.csv',parse_dates=True,index_col=0)\n",
    "close_px = close_px_all.loc[:,['AAPL','MSFT','XOM']]\n",
    "close_px = close_px.resample(rule='B').ffill()\n",
    "close_px.info()"
   ]
  },
  {
   "cell_type": "code",
   "execution_count": null,
   "metadata": {
    "scrolled": true
   },
   "outputs": [],
   "source": [
    "# pandas Indexing and Selecting Data Dataframe[colname]\n",
    "# pandas series s.plot.line()\n",
    "close_px['AAPL'].plot.line()"
   ]
  },
  {
   "cell_type": "code",
   "execution_count": null,
   "metadata": {
    "scrolled": true
   },
   "outputs": [],
   "source": [
    "# pandas dataframe d.plot.line()\n",
    "close_px.loc['2009'].plot.line()"
   ]
  },
  {
   "cell_type": "code",
   "execution_count": null,
   "metadata": {},
   "outputs": [],
   "source": [
    "close_px['AAPL'].loc['2011-01':'2011-03'].plot.line()"
   ]
  },
  {
   "cell_type": "code",
   "execution_count": null,
   "metadata": {
    "scrolled": true
   },
   "outputs": [],
   "source": [
    "appl_q = close_px['AAPL'].resample(rule='Q-DEC').ffill()\n",
    "appl_q.loc['2009':].plot.line()"
   ]
  },
  {
   "cell_type": "markdown",
   "metadata": {},
   "source": [
    "## 移动窗口函数\n",
    "pandas series s.rolling()  \n",
    "pandas Window Rolling.mean()"
   ]
  },
  {
   "cell_type": "code",
   "execution_count": null,
   "metadata": {
    "scrolled": false
   },
   "outputs": [],
   "source": [
    "close_px['AAPL'].plot.line()\n",
    "close_px['AAPL'].rolling(window=250,center=False).mean().plot.line()"
   ]
  },
  {
   "cell_type": "code",
   "execution_count": null,
   "metadata": {},
   "outputs": [],
   "source": [
    "# pandas series s.head()\n",
    "# pandas Window Rolling.std()\n",
    "appl_std250 = close_px['AAPL'].rolling(window=250,min_periods=10).std()\n",
    "appl_std250.head(12)"
   ]
  }
 ],
 "metadata": {
  "kernelspec": {
   "display_name": "Python 3",
   "language": "python",
   "name": "python3"
  },
  "language_info": {
   "codemirror_mode": {
    "name": "ipython",
    "version": 3
   },
   "file_extension": ".py",
   "mimetype": "text/x-python",
   "name": "python",
   "nbconvert_exporter": "python",
   "pygments_lexer": "ipython3",
   "version": "3.7.6"
  }
 },
 "nbformat": 4,
 "nbformat_minor": 2
}
