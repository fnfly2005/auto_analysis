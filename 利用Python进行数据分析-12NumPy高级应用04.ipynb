{
 "cells": [
  {
   "cell_type": "code",
   "execution_count": null,
   "metadata": {},
   "outputs": [],
   "source": [
    "import pandas as pd\n",
    "import numpy as np"
   ]
  },
  {
   "cell_type": "markdown",
   "metadata": {},
   "source": [
    "# NumPy的matrix类"
   ]
  },
  {
   "cell_type": "code",
   "execution_count": null,
   "metadata": {},
   "outputs": [],
   "source": [
    "X = np.random.randn(4,4)\n",
    "X"
   ]
  },
  {
   "cell_type": "code",
   "execution_count": null,
   "metadata": {},
   "outputs": [],
   "source": [
    "X[:,0]"
   ]
  },
  {
   "cell_type": "code",
   "execution_count": null,
   "metadata": {},
   "outputs": [],
   "source": [
    "# numpy Indexing Other indexing options\n",
    "y = X[:,:1]\n",
    "y"
   ]
  },
  {
   "cell_type": "code",
   "execution_count": null,
   "metadata": {},
   "outputs": [],
   "source": [
    "# numpy The N-dimensional array (ndarray) ndarray.T\n",
    "y.T"
   ]
  },
  {
   "cell_type": "code",
   "execution_count": null,
   "metadata": {},
   "outputs": [],
   "source": [
    "# numpy Linear algebra (numpy.linalg)  np.dot()\n",
    "np.dot(y.T,np.dot(X,y))"
   ]
  },
  {
   "cell_type": "code",
   "execution_count": null,
   "metadata": {},
   "outputs": [],
   "source": [
    "# numpy Standard array subclasses np.matrix()\n",
    "# numpy Indexing Single element indexing  \n",
    "Xm = np.matrix(X)\n",
    "ym = Xm[:,0]\n",
    "Xm"
   ]
  },
  {
   "cell_type": "code",
   "execution_count": null,
   "metadata": {},
   "outputs": [],
   "source": [
    "ym"
   ]
  },
  {
   "cell_type": "code",
   "execution_count": null,
   "metadata": {},
   "outputs": [],
   "source": [
    "# numpy Standard array subclasses np.matrix.T\n",
    "ym.T * Xm * ym"
   ]
  },
  {
   "cell_type": "code",
   "execution_count": null,
   "metadata": {
    "scrolled": true
   },
   "outputs": [],
   "source": [
    "# numpy Standard array subclasses np.matrix.I\n",
    "Xm.I * X"
   ]
  },
  {
   "cell_type": "markdown",
   "metadata": {},
   "source": [
    "# 高级数组输入输出\n",
    "## 内存映像文件  \n",
    "numpy Standard array subclasses np.memmap()  \n",
    "numpy Standard array subclasses np.memmap() dtype  \n",
    "numpy Standard array subclasses np.memmap() mode  \n",
    "numpy Standard array subclasses np.memmap() shape"
   ]
  },
  {
   "cell_type": "code",
   "execution_count": null,
   "metadata": {},
   "outputs": [],
   "source": [
    "mmap = np.memmap(filename='mymmap',dtype='float64',mode='w+',shape=(10000,10000))\n",
    "mmap"
   ]
  },
  {
   "cell_type": "code",
   "execution_count": null,
   "metadata": {},
   "outputs": [],
   "source": [
    "# numpy Standard array subclasses memmap.flush()\n",
    "section = mmap[:5]\n",
    "section[:] = np.random.randn(5,10000)\n",
    "mmap.flush()\n",
    "mmap"
   ]
  },
  {
   "cell_type": "code",
   "execution_count": null,
   "metadata": {},
   "outputs": [],
   "source": [
    "# numpy Simple statements The del statement\n",
    "del mmap"
   ]
  },
  {
   "cell_type": "code",
   "execution_count": null,
   "metadata": {},
   "outputs": [],
   "source": [
    "# numpy Standard array subclasses np.memmap() dtype\n",
    "# numpy Standard array subclasses np.memmap() shape\n",
    "mmap = np.memmap('mymmap',dtype=np.float64,shape=(10000,10000))\n",
    "mmap"
   ]
  },
  {
   "cell_type": "markdown",
   "metadata": {},
   "source": [
    "## HDF5及其他数组存储方式\n",
    "PyTables和h5py可以将numpy数组数据存储为高效可压缩HDF5格式，可以将几百GB甚至TB的数据存储为HDF5格式  \n",
    "# 性能建议\n",
    "Numpy代码的性能一般都很不错，下面大致列出了一些需要注意的事项：  \n",
    "+ 将python循环和条件逻辑转换为数组运算和布尔数组运算\n",
    "+ 尽量使用广播\n",
    "+ 避免复制数据，尽量使用数组视图 5\n",
    "+ 利用ufunc及其各种方法 \n",
    "\n",
    "如果单用Numpy无论如何都达不到所需的性能指标，就可以考虑用C、Fortran或Cython来编写代码  \n",
    "## 连续内存的重要性\n",
    "NumPy的C语言基础代码对连续存储的情况进行了优化处理，避免一些跨越式内存访问  \n",
    "一个数组的内存布局是连续的，就是说元素是以它们在数组中出现的顺序（Fortran列优先或C型行优先存储在内存中的），通过ndarray的flags属性即可查看这些信息 5  \n",
    "numpy Array creation routines np.ones() order  \n",
    "numpy The N-dimensional array (ndarray) ndarray.flags"
   ]
  },
  {
   "cell_type": "code",
   "execution_count": null,
   "metadata": {},
   "outputs": [],
   "source": [
    "arr_c = np.ones((1000,1000),order='C')\n",
    "arr_f = np.ones((1000,1000),order='F')\n",
    "arr_c.flags"
   ]
  },
  {
   "cell_type": "code",
   "execution_count": null,
   "metadata": {},
   "outputs": [],
   "source": [
    "arr_f.flags"
   ]
  }
 ],
 "metadata": {
  "kernelspec": {
   "display_name": "Python 3",
   "language": "python",
   "name": "python3"
  },
  "language_info": {
   "codemirror_mode": {
    "name": "ipython",
    "version": 3
   },
   "file_extension": ".py",
   "mimetype": "text/x-python",
   "name": "python",
   "nbconvert_exporter": "python",
   "pygments_lexer": "ipython3",
   "version": "3.7.6"
  }
 },
 "nbformat": 4,
 "nbformat_minor": 2
}
