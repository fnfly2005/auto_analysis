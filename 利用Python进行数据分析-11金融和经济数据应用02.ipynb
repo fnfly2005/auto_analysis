{
 "cells": [
  {
   "cell_type": "markdown",
   "metadata": {},
   "source": [
    "# 分组变换和分析"
   ]
  },
  {
   "cell_type": "code",
   "execution_count": null,
   "metadata": {},
   "outputs": [],
   "source": [
    "import pandas as pd\n",
    "import numpy as np\n",
    "import random\n",
    "import string"
   ]
  },
  {
   "cell_type": "code",
   "execution_count": null,
   "metadata": {},
   "outputs": [],
   "source": [
    "'''\n",
    "随机生成1000个股票代码\n",
    "python random r.seed()\n",
    "python string s.ascii_uppercase\n",
    "python random r.choice()\n",
    "python str s.join()\n",
    "numpy Array creation routines np.array()\n",
    "''' \n",
    "random.seed(0)\n",
    "N=1000\n",
    "def rands(n):\n",
    "    choices = string.ascii_uppercase\n",
    "    return ''.join([random.choice(choices) for _ in range(n)])\n",
    "tickers = np.array([rands(5) for _ in range(N)])\n",
    "\n",
    "'''\n",
    "创建一个含有3列的DataFrame来承载这些假想数据，不过只选择部分股票组成该投资组合\n",
    "numpy indexing Other indexing options\n",
    "numpy Broadcasting 标量\n",
    "'''\n",
    "M=500\n",
    "df = pd.DataFrame({'Momentum':np.random.randn(M)/200 +0.03,\n",
    "                  'Value':np.random.randn(M)/200 +0.08,\n",
    "                  'ShortInterest':np.random.randn(M)/200 -0.02},\n",
    "                  index = tickers[:M])\n",
    "'''\n",
    "为这些股票随机创建一个行业分类，为了简单起见，只选用两个行业，并将映射关系保存在Series中\n",
    "numpy Random sampling (numpy.random) np.random.randint() low/high \n",
    "pandas series pd.Series() name\n",
    "numpy Indexing 整数索引\n",
    "'''\n",
    "ind_names = np.array(['FINANCIAL','TECH'])\n",
    "sampler = np.random.randint(low=0,high=len(ind_names),size=N)\n",
    "industries = pd.Series(ind_names[sampler],index=tickers,\n",
    "                      name='industry')\n",
    "# 现在可以根据行业分类进行分组并执行分组聚合和变换了\n",
    "by_industry = df.groupby(industries)\n",
    "by_industry.mean()"
   ]
  }
 ],
 "metadata": {
  "kernelspec": {
   "display_name": "Python 3",
   "language": "python",
   "name": "python3"
  },
  "language_info": {
   "codemirror_mode": {
    "name": "ipython",
    "version": 3
   },
   "file_extension": ".py",
   "mimetype": "text/x-python",
   "name": "python",
   "nbconvert_exporter": "python",
   "pygments_lexer": "ipython3",
   "version": "3.7.6"
  }
 },
 "nbformat": 4,
 "nbformat_minor": 2
}
