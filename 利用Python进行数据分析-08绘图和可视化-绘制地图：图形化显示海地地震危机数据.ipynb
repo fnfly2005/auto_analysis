{
 "cells": [
  {
   "cell_type": "code",
   "execution_count": null,
   "metadata": {},
   "outputs": [],
   "source": [
    "import pandas as pd\n",
    "import numpy as np\n",
    "#import matplotlib.pyplot as plt"
   ]
  },
  {
   "cell_type": "code",
   "execution_count": null,
   "metadata": {
    "scrolled": true
   },
   "outputs": [],
   "source": [
    "data= pd.read_csv('../pydata-book-master/ch08/Haiti.csv')\n",
    "data.info()"
   ]
  },
  {
   "cell_type": "code",
   "execution_count": null,
   "metadata": {},
   "outputs": [],
   "source": [
    "data.loc[:,['INCIDENT DATE','LATITUDE','LONGITUDE']].iloc[:10,:]"
   ]
  },
  {
   "cell_type": "code",
   "execution_count": null,
   "metadata": {},
   "outputs": [],
   "source": [
    "#pandas series s.iloc[]\n",
    "data.loc[:,'CATEGORY'].iloc[:6]"
   ]
  },
  {
   "cell_type": "code",
   "execution_count": null,
   "metadata": {},
   "outputs": [],
   "source": [
    "#pandas dataframe d.describe()\n",
    "data.describe()"
   ]
  },
  {
   "cell_type": "code",
   "execution_count": null,
   "metadata": {},
   "outputs": [],
   "source": [
    "# pandas series s.notna()  \n",
    "# pandas series s.lt()\n",
    "# pandas series s.gt()\n",
    "data =data.loc[(data.loc[:,'LATITUDE'].gt(18)) & (data.loc[:,'LATITUDE'].lt(20) ) & \n",
    "               (data.loc[:,'LONGITUDE'].gt(-75)) & (data.loc[:,'LONGITUDE'].lt(-70)) &\n",
    "              data.loc[:,'CATEGORY'].notna()]\n",
    "data.describe()"
   ]
  },
  {
   "cell_type": "code",
   "execution_count": null,
   "metadata": {},
   "outputs": [],
   "source": [
    "# 分步骤\n",
    "# python Built-in Function set()\n",
    "# python Sequence Types — list, tuple, range s.append()\n",
    "# python set set.union()\n",
    "# python Built-in Functions sorted()\n",
    "# python str s.split()\n",
    "# python Comparisons in and not in\n",
    "# python str s.strip()\n",
    "cat = '2. Urgences logistiques | Vital Lines'\n",
    "code,names = cat.split('.')\n",
    "print('|' in names)\n",
    "names =names.split('|')[1]\n",
    "print((code,names.strip()))\n",
    "cat_series = data.loc[:,'CATEGORY']\n",
    "catstr = cat_series.iloc[0]\n",
    "stripped=[]\n",
    "stripped.append(catstr.split(',')[0].strip())\n",
    "print (stripped)\n",
    "stripped.append(catstr.split(',')[1].strip())\n",
    "print (stripped)\n",
    "print(catstr.split(',')[2].strip()!='')\n",
    "print (set(stripped))\n",
    "catstr1 = cat_series.iloc[1]\n",
    "stripped1=[]\n",
    "stripped1.append(catstr1.split(',')[0].strip())\n",
    "print (stripped1)\n",
    "print(catstr1.split(',')[1].strip()!='')\n",
    "print (set(stripped1))\n",
    "print((set(stripped),set(stripped1)))\n",
    "\n",
    "cats = sorted(set.union(*(set(stripped),set(stripped1))))\n",
    "cat1=cats[0]\n",
    "cat2=cats[1]\n",
    "print(cats)\n",
    "code,names = cat1.split('.')\n",
    "names =names.split('|')[1]\n",
    "dic =dict()\n",
    "dic[code]=names\n",
    "code,names = cat2.split('.')\n",
    "dic[code]=names\n",
    "print(dic)"
   ]
  },
  {
   "cell_type": "code",
   "execution_count": null,
   "metadata": {},
   "outputs": [],
   "source": [
    "def to_cat_list(catstr):\n",
    "    stripped=(x.strip() for x in catstr.split(','))\n",
    "    return [x for x in stripped if x]\n",
    "\n",
    "def get_all_categories(cat_series):\n",
    "    cat_sets = (set(to_cat_list(x)) for x in cat_series)\n",
    "    return sorted(set.union(*cat_sets))\n",
    "\n",
    "def get_english(cat):\n",
    "    code,names = cat.split('.')\n",
    "    if '|' in names:\n",
    "        names = names.split('|')[1]\n",
    "    return code,names.strip()\n",
    "all_cats = get_all_categories(data.loc[:,'CATEGORY'])\n",
    "english_mapping = dict(get_english(x) for x in all_cats)\n",
    "print(english_mapping['2a'])\n",
    "print(english_mapping['6c'])"
   ]
  },
  {
   "cell_type": "code",
   "execution_count": null,
   "metadata": {
    "scrolled": false
   },
   "outputs": [],
   "source": [
    "# numpy Array manipulation routines np.unique()\n",
    "# pandas Index pd.Index  \n",
    "# numpy Array creation routines np.zeros()\n",
    "# python Built-in Functions len()\n",
    "# pandas dataframe d.index\n",
    "# python IndexError IndexError: single positional indexer is out-of-bounds\n",
    "# pandas dataframe ValueError: columns overlap but no suffix specified\n",
    "# python Built-in Functions zip()\n",
    "# python The break statement break\n",
    "\n",
    "def get_code(seq):\n",
    "    return [x.split('.')[0] for x in seq if x]\n",
    "all_codes = get_code(all_cats)\n",
    "code_index = pd.Index(np.unique(all_codes))\n",
    "dummy_frame = pd.DataFrame(np.zeros((len(data),len(code_index))),index=data.index,\n",
    "                          columns=code_index)\n",
    "\n",
    "print(dummy_frame.iloc[:,:6].info())\n",
    "\n",
    "for row,cat in zip(data.index,data.loc[:,'CATEGORY']):\n",
    "    if row >= len(data.index):\n",
    "        break\n",
    "    codes = get_code(to_cat_list(cat))\n",
    "    dummy_frame.loc[:,codes].iloc[row]=1\n",
    "    \n",
    "data=data.join(dummy_frame.add_prefix('category_'))\n",
    "data.iloc[:,10:15].info()"
   ]
  },
  {
   "cell_type": "markdown",
   "metadata": {},
   "source": [
    "def basic_haiti_map(ax=None,lllat=17.25,urlat=20.25,\n",
    "                    lllon=-75,urlon=-71):\n",
    "    # 创建极球面投影的Basemap实例\n",
    "    m = Basemap(ax=ax,projection='stere',\n",
    "               lon_0=(urlon + lllon)/2,\n",
    "               lat_0=(urlat + lllat)/2,\n",
    "               llcrnrlat=lllat,urcrnrlat=urlat,\n",
    "               llcrnrlon=lllon,urcrnrlon=urlon,\n",
    "               resolution='f')\n",
    "    # 绘制海岸线、州界、国界以及地图边界\n",
    "    m.drawcoastlines()\n",
    "    m.drawstates()\n",
    "    m.drawcountries()\n",
    "    return m\n",
    "fig, axes = plt.subplots(nrow=2,ncols=2,figsize=(12,10))\n",
    "fig.subplots_adjust(hspace=0.05,wspace=0.05)\n",
    "\n",
    "to_plot=['2a','1','3c','7a']\n",
    "\n",
    "lllat=17.25;urlat=20.25;lllon=-75;urlon=-71\n",
    "\n",
    "for code,ax in zip(to_plot,axes.flat):\n",
    "    m = basic_haiti_map(ax,lllat=lllat,urlat=urlat,\n",
    "                       lllon=lllon,urlon=urlon)\n",
    "    cat_data = data[data['category_%s' % code] ==1]\n",
    "    # 计算地图的投影坐标\n",
    "    x,y =m(cat_data.LONGITUDE.values,cat_data.LATITUDE.values)\n",
    "    \n",
    "    m.plot(x,y,'k.',alpha=0.5)\n",
    "    ax.set_title('%s: %s' % (code,english_mapping[code]))\n",
    "    \n",
    "    shapefile_path='../pydata-book-master/ch08/PortAuPrince_Roads/PortAuPrince_Roads'\n",
    "    m.readshapefile(shapefile_path,'roads')"
   ]
  },
  {
   "cell_type": "markdown",
   "metadata": {},
   "source": [
    "# Python图形化工具生态系统\n",
    "## Chaco\n",
    "![avater](8-26.png)\n",
    "## mayavi\n",
    "## 其他库\n",
    "PyQwt, Veusz, gunplot-py, biggles\n",
    "## 图形化工具的未来\n",
    "基于Web技术的图形化是必然的发展趋势，非Web式的图形化开发工作近几年减慢了许多  \n",
    "python以及其他数据分析和统计计算环境R都是如此  \n",
    "开发方向就变成了实现数据分析和准备工具与Web浏览器之间更为紧密的集成"
   ]
  }
 ],
 "metadata": {
  "kernelspec": {
   "display_name": "Python 3",
   "language": "python",
   "name": "python3"
  },
  "language_info": {
   "codemirror_mode": {
    "name": "ipython",
    "version": 3
   },
   "file_extension": ".py",
   "mimetype": "text/x-python",
   "name": "python",
   "nbconvert_exporter": "python",
   "pygments_lexer": "ipython3",
   "version": "3.7.1"
  }
 },
 "nbformat": 4,
 "nbformat_minor": 2
}
