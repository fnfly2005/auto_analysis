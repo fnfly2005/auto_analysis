{
 "cells": [
  {
   "cell_type": "markdown",
   "metadata": {},
   "source": [
    "# 实践中的统计\n",
    "John Morrell公司于1827年创建于英国，是历史最悠久的肉类制造商。每种地区品牌都在消费者中拥有很高的品牌认知度和忠诚度  \n",
    "John Morrell公司的市场研究部门负责管理公司各类产品的大量信息，并将这些产品与同类品牌的竞争产品进行对比。在这三种产品的对比检验中，消费者样本根据口感、外观、香味和整体偏好，对产品进行评价  \n",
    "公司关注的一个研究问题是：消费者总体中是否有超过50%的人偏爱John Morrell公司生产的炖牛肉食品。令p表示偏爱John Morrell产品的总体比率，研究中问题的假设检验是：  \n",
    "$$H_0:p\\le0.50$$\n",
    "$$H_a:p\\gt0.50$$\n",
    "原假设$H_0$表示，偏爱John Morrell产品的总体比率≤50% 5  \n",
    "如果样本数据支持拒绝$H_0$，从而接受备择假设$H_a$，则John Morrell会得出研究结论：通过三种产品的比较，消费者总体中超过50%以上的人偏爱John Morrell公司的产品  \n",
    "在一项独立的口感检验的研究中，来自辛辛那提、密尔沃基和洛杉矶的224名消费者组成一个样本，其中有150人选择John Morrell公司生产的炖牛肉为自己最喜爱的食品  \n",
    "利用统计假设检验的步骤，原假设$H_0$被拒绝。研究提供统计证据支持$H_a$，得出的结论是：消费者总体中超过50%的人偏爱John Morrell公司的产品  \n",
    "总体比率的点估计$\\bar{p}=150/224=0.67$。因此，样本数据支持食品杂志的广告，认为在三种产品的口味比较重，John Morrell公司生产的炖牛肉“在竞争中受欢迎程度为2：1”  \n",
    "本章我们将介绍如何提出假设，如何像John Morrell公司那样进行假设检验。通过分析样本数据，我们可以确定是否拒绝一个假设 5  \n",
    "在第7章和第8章中，我们说明了如何利用样本对总体参数进行点估计和区间估计。本章，我们将继续讨论在统计推断中如何利用假设检验来确定是否应拒绝关于总体参数值的说法  \n",
    "在假设检验中，我们首先对总体参数做一个尝试性的假设。该尝试性的假设称为**原假设**记作$H_0$。然后，定义另一个与原假设的内容完全对立的假设，记作$H_a$，称之为**备择假设**  \n",
    "假设检验的过程就是根据样本数据对这两个对立的假设$H_0$和$H_a$进行检验  \n",
    "本章说明如何对总体均值和总体比率进行假设检验 5  \n",
    "# 9.1 原假设和备择假设的建立\n"
   ]
  }
 ],
 "metadata": {
  "kernelspec": {
   "display_name": "Python 3",
   "language": "python",
   "name": "python3"
  },
  "language_info": {
   "codemirror_mode": {
    "name": "ipython",
    "version": 3
   },
   "file_extension": ".py",
   "mimetype": "text/x-python",
   "name": "python",
   "nbconvert_exporter": "python",
   "pygments_lexer": "ipython3",
   "version": "3.7.1"
  },
  "toc": {
   "base_numbering": 1,
   "nav_menu": {},
   "number_sections": false,
   "sideBar": true,
   "skip_h1_title": false,
   "title_cell": "Table of Contents",
   "title_sidebar": "Contents",
   "toc_cell": false,
   "toc_position": {},
   "toc_section_display": true,
   "toc_window_display": false
  }
 },
 "nbformat": 4,
 "nbformat_minor": 4
}
