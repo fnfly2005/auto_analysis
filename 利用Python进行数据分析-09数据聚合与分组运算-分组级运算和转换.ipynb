{
 "cells": [
  {
   "cell_type": "code",
   "execution_count": null,
   "metadata": {},
   "outputs": [],
   "source": [
    "import pandas as pd\n",
    "import numpy as np\n",
    "import statsmodels.api as sm"
   ]
  },
  {
   "cell_type": "code",
   "execution_count": null,
   "metadata": {
    "scrolled": true
   },
   "outputs": [],
   "source": [
    "# 想要为一个DataFrame添加一个用于存放各索引分组平均值的列，一个办法是先聚合再合并\n",
    "df = pd.DataFrame({'key1':['a','a','b','b','a'],\n",
    "                  'key2':['one','two','one','two','one'],\n",
    "                  'data1':np.random.randn(5),\n",
    "                  'data2':np.random.randn(5)})\n",
    "\n",
    "df"
   ]
  },
  {
   "cell_type": "code",
   "execution_count": null,
   "metadata": {},
   "outputs": [],
   "source": [
    "df.groupby('key1').mean()"
   ]
  },
  {
   "cell_type": "code",
   "execution_count": null,
   "metadata": {
    "scrolled": true
   },
   "outputs": [],
   "source": [
    "# pandas dataframe d.add_prefix()\n",
    "k1_means = df.groupby('key1').mean().add_prefix('mean_')\n",
    "k1_means"
   ]
  },
  {
   "cell_type": "code",
   "execution_count": null,
   "metadata": {},
   "outputs": [],
   "source": [
    "# pandas General functions pd.merge()\n",
    "pd.merge(df,k1_means,left_on='key1',right_index=True)"
   ]
  },
  {
   "cell_type": "code",
   "execution_count": null,
   "metadata": {},
   "outputs": [],
   "source": [
    "#但这样不够灵活，这次我们使用transform方法\n",
    "key = ['one','two','one','two','one']\n",
    "people = pd.DataFrame(np.random.randn(5,5),\n",
    "                     columns=['a','b','c','d','e'],\n",
    "                     index=['Joe','Steve','Wes','Jim','Travis'])\n",
    "people.groupby(key).mean()"
   ]
  },
  {
   "cell_type": "code",
   "execution_count": null,
   "metadata": {},
   "outputs": [],
   "source": [
    "# pandas GroupBy g.transform()\n",
    "# numpy Statistics np.mean()\n",
    "people.groupby(key).transform(np.mean)"
   ]
  },
  {
   "cell_type": "code",
   "execution_count": null,
   "metadata": {},
   "outputs": [],
   "source": [
    "def demean(arr):\n",
    "    return arr - arr.mean()\n",
    "\n",
    "demeaned = people.groupby(key).transform(demean)\n",
    "demeaned"
   ]
  },
  {
   "cell_type": "code",
   "execution_count": null,
   "metadata": {},
   "outputs": [],
   "source": [
    "demeaned.groupby(key).mean()"
   ]
  },
  {
   "cell_type": "markdown",
   "metadata": {},
   "source": [
    "# apply: 一般性的“拆分-应用-合并”"
   ]
  },
  {
   "cell_type": "code",
   "execution_count": null,
   "metadata": {},
   "outputs": [],
   "source": [
    "tips = pd.read_csv('../pydata-book-master/ch08/tips.csv')\n",
    "tips.loc[:,'tip_pct']=tips.loc[:,'tip'].div(tips.loc[:,'total_bill'])\n",
    "\n",
    "# pandas dataframe d.sort_values()\n",
    "def top(df, n=5,column='tip_pct'):\n",
    "    return df.sort_values(by=column).iloc[-n:,:]\n",
    "\n",
    "top(tips,n=6)"
   ]
  },
  {
   "cell_type": "code",
   "execution_count": null,
   "metadata": {},
   "outputs": [],
   "source": [
    "# pandas GroupBy g.apply()\n",
    "tips.groupby('smoker').apply(top)"
   ]
  },
  {
   "cell_type": "code",
   "execution_count": null,
   "metadata": {},
   "outputs": [],
   "source": [
    "# pandas GroupBy g.apply(top,n=1,column='total_bill')\n",
    "tips.groupby(['smoker','day']).apply(top,n=1,column='total_bill')"
   ]
  },
  {
   "cell_type": "code",
   "execution_count": null,
   "metadata": {},
   "outputs": [],
   "source": [
    "# pandas GroupBy g.describe()  \n",
    "result =tips.groupby('smoker')['tip_pct'].describe()\n",
    "result"
   ]
  },
  {
   "cell_type": "code",
   "execution_count": null,
   "metadata": {
    "scrolled": true
   },
   "outputs": [],
   "source": [
    "# pandas dataframe d.T\n",
    "result.T"
   ]
  },
  {
   "cell_type": "markdown",
   "metadata": {},
   "source": [
    "## 禁止分组键"
   ]
  },
  {
   "cell_type": "code",
   "execution_count": null,
   "metadata": {},
   "outputs": [],
   "source": [
    "tips.groupby('smoker').apply(top)"
   ]
  },
  {
   "cell_type": "code",
   "execution_count": null,
   "metadata": {},
   "outputs": [],
   "source": [
    "# pandas dataframe d.groupby()\n",
    "tips.groupby('smoker',group_keys=False).apply(top)"
   ]
  },
  {
   "cell_type": "markdown",
   "metadata": {},
   "source": [
    "# 分位数和桶分析"
   ]
  },
  {
   "cell_type": "code",
   "execution_count": null,
   "metadata": {
    "scrolled": false
   },
   "outputs": [],
   "source": [
    "# pandas General functions pd.cut()\n",
    "# pandas Pandas arrays Categorical[]\n",
    "frame = pd.DataFrame({'data1':np.random.randn(1000),\n",
    "                     'data2':np.random.randn(1000)})\n",
    "frame.iloc[:10,]"
   ]
  },
  {
   "cell_type": "code",
   "execution_count": null,
   "metadata": {},
   "outputs": [],
   "source": [
    "factor = pd.cut(x=frame.loc[:,'data1'],bins=4)\n",
    "factor[:10]"
   ]
  },
  {
   "cell_type": "code",
   "execution_count": null,
   "metadata": {},
   "outputs": [],
   "source": [
    "# pandas GroupBy g.max()\n",
    "# pandas GroupBy g.min()\n",
    "# pandas GroupBy g.count()\n",
    "# pandas series s.unstack()\n",
    "def get_stats(group):\n",
    "        return {'min':group.min(),'max':group.max(),\n",
    "               'count':group.count(),'mean':group.mean()}\n",
    "grouped = frame.loc[:,'data2'].groupby(factor)\n",
    "grouped.apply(get_stats).unstack()"
   ]
  },
  {
   "cell_type": "code",
   "execution_count": null,
   "metadata": {},
   "outputs": [],
   "source": [
    "# pandas General functions pd.qcut()\n",
    "grouping = pd.qcut(x=frame.loc[:,'data1'],q=10,labels=False)\n",
    "grouped = frame.loc[:,'data2'].groupby(grouping)\n",
    "grouped.apply(get_stats).unstack()"
   ]
  },
  {
   "cell_type": "markdown",
   "metadata": {},
   "source": [
    "# 示例：用特定于分组的值填充缺失值\n",
    "pandas series s.iloc[]  \n",
    "numpy Constants np.nan"
   ]
  },
  {
   "cell_type": "code",
   "execution_count": null,
   "metadata": {},
   "outputs": [],
   "source": [
    "s = pd.Series(np.random.randn(6))\n",
    "s.iloc[::2]=np.nan\n",
    "s"
   ]
  },
  {
   "cell_type": "code",
   "execution_count": null,
   "metadata": {},
   "outputs": [],
   "source": [
    "# pandas series s.fiilna()\n",
    "# pandas series s.mean()\n",
    "s.fillna(s.mean())"
   ]
  },
  {
   "cell_type": "code",
   "execution_count": null,
   "metadata": {},
   "outputs": [],
   "source": [
    "states = ['Ohio','New York','Vermont','Florida',\n",
    "          'Oregon','Nevada','California','Idaho']\n",
    "group_key = ['East'] * 4 + ['West'] * 4\n",
    "\n",
    "data =pd.Series(np.random.randn(8),index=states)\n",
    "data.loc[['Vermont','Nevada','Idaho']] =np.nan\n",
    "data"
   ]
  },
  {
   "cell_type": "code",
   "execution_count": null,
   "metadata": {
    "scrolled": false
   },
   "outputs": [],
   "source": [
    "data.groupby(group_key).mean()"
   ]
  },
  {
   "cell_type": "code",
   "execution_count": null,
   "metadata": {
    "scrolled": false
   },
   "outputs": [],
   "source": [
    "# python More on Defining Functions lambda a, b: a+b\n",
    "fill_mean = lambda g: g.fillna(g.mean())\n",
    "data.groupby(group_key).apply(fill_mean)"
   ]
  },
  {
   "cell_type": "code",
   "execution_count": null,
   "metadata": {},
   "outputs": [],
   "source": [
    "# pandas series s.name\n",
    "fill_values = {'East':0.5,'West':-1}\n",
    "fill_func = lambda g: g.fillna(fill_values[g.name])\n",
    "data.groupby(group_key).apply(fill_func)"
   ]
  },
  {
   "cell_type": "markdown",
   "metadata": {},
   "source": [
    "# 示例：随机采样和排列\n",
    "python Built-in Function list()  \n",
    "python Built-in Function range()  \n",
    "python Sequence Types — list, tuple, range s.extend()"
   ]
  },
  {
   "cell_type": "code",
   "execution_count": null,
   "metadata": {},
   "outputs": [],
   "source": [
    "# 红桃 H，黑桃 S，梅花 C，方片 D 构造一副英语型扑克牌\n",
    "suits = ['H','S','C','D']\n",
    "card_val = (list(range(1,11))+ [10] *3)*4\n",
    "base_names =['A'] + list(range(2,11)) + ['J','K','Q']\n",
    "cards = []\n",
    "for suit in ['H','S','C','D']:\n",
    "    cards.extend(str(num) + suit for num in base_names)\n",
    "deck = pd.Series(card_val,index=cards)\n",
    "deck.iloc[:13]"
   ]
  },
  {
   "cell_type": "code",
   "execution_count": null,
   "metadata": {},
   "outputs": [],
   "source": [
    "# python Built-in Function len()\n",
    "# numpy Random sampling (numpy.random) np.random.permutation()\n",
    "# pandas series s.take()\n",
    "def draw(deck,n=5):\n",
    "    return deck.take(indices=np.random.permutation(len(deck))[:n])\n",
    "\n",
    "draw(deck)"
   ]
  },
  {
   "cell_type": "code",
   "execution_count": null,
   "metadata": {},
   "outputs": [],
   "source": [
    "#从每种花色中随机抽取两张牌，花色是牌名的最后一个字符\n",
    "get_suit = lambda card: card[-1] #只要最后一个字母\n",
    "deck.groupby(get_suit).apply(draw,n=2)"
   ]
  },
  {
   "cell_type": "code",
   "execution_count": null,
   "metadata": {},
   "outputs": [],
   "source": [
    "# pandas GroupBy g.apply()\n",
    "deck.groupby(get_suit,group_keys=False).apply(draw,n=2)"
   ]
  },
  {
   "cell_type": "markdown",
   "metadata": {},
   "source": [
    "# 示例：分组加权平均数和相关系数"
   ]
  },
  {
   "cell_type": "code",
   "execution_count": null,
   "metadata": {
    "scrolled": true
   },
   "outputs": [],
   "source": [
    "df = pd.DataFrame({'category':['a','a','a','a','b','b','b','b'],\n",
    "                  'data':np.random.randn(8),\n",
    "                  'weights':np.random.rand(8)})\n",
    "df"
   ]
  },
  {
   "cell_type": "code",
   "execution_count": null,
   "metadata": {},
   "outputs": [],
   "source": [
    "# numpy statistics np.average()\n",
    "grouped = df.groupby('category')\n",
    "get_wavg = lambda g:np.average(g['data'],weights=g['weights'])\n",
    "grouped.apply(get_wavg)"
   ]
  },
  {
   "cell_type": "code",
   "execution_count": null,
   "metadata": {},
   "outputs": [],
   "source": [
    "# pandas dataframe d.info()\n",
    "close_px =pd.read_csv('../pydata-book-master/ch09/stock_px.csv',parse_dates=True,index_col=0)\n",
    "close_px.info()"
   ]
  },
  {
   "cell_type": "code",
   "execution_count": null,
   "metadata": {},
   "outputs": [],
   "source": [
    "# pandas dataframe d.tail()\n",
    "close_px.tail()"
   ]
  },
  {
   "cell_type": "code",
   "execution_count": null,
   "metadata": {
    "scrolled": true
   },
   "outputs": [],
   "source": [
    "#计算一个由日收益率与SPX之间的年度相关系数组成的DataFrame\n",
    "# pandas dataframe d.pct_change()\n",
    "# pandas dataframe d.dropna()\n",
    "# pandas Index DatetimeIndex.year\n",
    "# pandas dataframe d.corrwith()\n",
    "rets =close_px.pct_change().dropna()\n",
    "spx_corr = lambda x: x.corrwith(x.loc[:,'SPX'])\n",
    "by_year = rets.groupby(lambda x: x.year)\n",
    "by_year.apply(spx_corr)"
   ]
  },
  {
   "cell_type": "code",
   "execution_count": null,
   "metadata": {},
   "outputs": [],
   "source": [
    "# pandas series s.corr()\n",
    "by_year.apply(lambda g: g.loc[:,'AAPL'].corr(g.loc[:,'MSFT']))"
   ]
  },
  {
   "cell_type": "markdown",
   "metadata": {},
   "source": [
    "# 示例：面向分组的线性回归\n",
    "statsmodels OLS sm.OLS()  \n",
    "statsmodels OLS OLS.fit()  \n",
    "statsmodels RegressionResults RegressionResults.params"
   ]
  },
  {
   "cell_type": "code",
   "execution_count": null,
   "metadata": {},
   "outputs": [],
   "source": [
    "def regress(data,yvar,xvars):\n",
    "    Y = data.loc[:,yvar]\n",
    "    X = data.loc[:,xvars]\n",
    "    X.loc[:,'intercept'] = 1.\n",
    "    result = sm.OLS(endog=Y,exog=X).fit()\n",
    "    return result.params\n",
    "\n",
    "by_year.apply(regress,'AAPL',['SPX'])"
   ]
  }
 ],
 "metadata": {
  "kernelspec": {
   "display_name": "Python 3",
   "language": "python",
   "name": "python3"
  },
  "language_info": {
   "codemirror_mode": {
    "name": "ipython",
    "version": 3
   },
   "file_extension": ".py",
   "mimetype": "text/x-python",
   "name": "python",
   "nbconvert_exporter": "python",
   "pygments_lexer": "ipython3",
   "version": "3.7.1"
  }
 },
 "nbformat": 4,
 "nbformat_minor": 2
}
