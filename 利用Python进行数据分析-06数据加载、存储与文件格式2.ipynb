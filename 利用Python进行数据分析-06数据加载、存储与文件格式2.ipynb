{
 "cells": [
  {
   "cell_type": "markdown",
   "metadata": {},
   "source": [
    "# 二进制数据格式\n",
    "pandas dataframe d.to_pickle()  \n",
    "pandas Input/Output pd.read_pickle()"
   ]
  },
  {
   "cell_type": "code",
   "execution_count": null,
   "metadata": {},
   "outputs": [],
   "source": [
    "import pandas as pd\n",
    "frame = pd.read_csv('ch06/ex1.csv')\n",
    "frame "
   ]
  },
  {
   "cell_type": "code",
   "execution_count": null,
   "metadata": {
    "scrolled": true
   },
   "outputs": [],
   "source": [
    "frame.to_pickle('ch06/frame_pickle')\n",
    "pd.read_pickle('ch06/frame_pickle')"
   ]
  },
  {
   "cell_type": "markdown",
   "metadata": {},
   "source": [
    "## 使用HDF5格式\n",
    "pandas dataframe d.to_hdf()  \n",
    "pandas Input/Output pd.HDFStore()  \n",
    "pandas Input/Output HDFStore.keys()"
   ]
  },
  {
   "cell_type": "code",
   "execution_count": null,
   "metadata": {},
   "outputs": [],
   "source": [
    "frame.to_hdf('ch06/mydata.h5','obj2')\n",
    "store=pd.HDFStore('ch06/mydata.h5')\n",
    "print(store.keys()[0])\n",
    "store['obj2']"
   ]
  },
  {
   "cell_type": "markdown",
   "metadata": {},
   "source": [
    "## 读取Microsoft Excel文件\n",
    "pandas dataframe d.to_excel()  \n",
    "pandas Input/Output pd.read_excel()"
   ]
  },
  {
   "cell_type": "code",
   "execution_count": null,
   "metadata": {
    "scrolled": false
   },
   "outputs": [],
   "source": [
    "frame.to_excel('ch06/data.xls',sheet_name='Sheet1')\n",
    "pd.read_excel('ch06/data.xls',sheet_name='Sheet1')"
   ]
  },
  {
   "cell_type": "markdown",
   "metadata": {},
   "source": [
    "# 使用HTML和Web API\n",
    "requests requests.get() requests.get()  \n",
    "python json json.loads()  \n",
    "python Mapping Types — dict d.keys()  \n",
    "pandas dataframe d.iloc[]"
   ]
  },
  {
   "cell_type": "code",
   "execution_count": null,
   "metadata": {},
   "outputs": [],
   "source": [
    "import requests\n",
    "url = 'http://api.avatardata.cn/Weather/Query?key=18528d941c854a95ab013b0daaec3d35&cityname=上海'\n",
    "resp = requests.get(url)\n",
    "resp"
   ]
  },
  {
   "cell_type": "code",
   "execution_count": null,
   "metadata": {},
   "outputs": [],
   "source": [
    "import json\n",
    "data = json.loads(resp.text)\n",
    "data.keys()"
   ]
  },
  {
   "cell_type": "code",
   "execution_count": null,
   "metadata": {},
   "outputs": [],
   "source": [
    "data['result']['weather']"
   ]
  },
  {
   "cell_type": "code",
   "execution_count": null,
   "metadata": {},
   "outputs": [],
   "source": [
    "tweet_fields = ['date','info','week','nongli']\n",
    "tweets = pd.DataFrame(data['result']['weather'],columns=tweet_fields)\n",
    "tweets"
   ]
  },
  {
   "cell_type": "code",
   "execution_count": null,
   "metadata": {
    "scrolled": true
   },
   "outputs": [],
   "source": [
    "tweets.iloc[3]"
   ]
  },
  {
   "cell_type": "markdown",
   "metadata": {},
   "source": [
    "# 使用数据库\n",
    "python sqlite3 sqlite3.connect()  \n",
    "python sqlite3 Recognized Query Parameters mode  \n",
    "python sqlite3 Connection.execute()  \n",
    "python sqlite3 Connection.commit()  \n",
    "python sqlite3 Cursor.executemany()  \n",
    "python sqlite3 Cursor.fetchall()  \n",
    "python sqlite3 Cursor.description  \n",
    "python Built-in Functions zip()  \n",
    "python Built-in Functions next()  \n",
    "python Iterator Types i.\\_\\_next\\_\\_()  \n",
    "pandas Input/Output pd.read_sql()"
   ]
  },
  {
   "cell_type": "code",
   "execution_count": null,
   "metadata": {},
   "outputs": [],
   "source": [
    "import sqlite3\n",
    "query = \"\"\"\n",
    "create table test0\n",
    "(a varchar(20),\n",
    "b varchar(20),\n",
    "c real,\n",
    "d integer);\"\"\"\n",
    "con = sqlite3.connect(':memory:')\n",
    "con.execute(query)\n",
    "con.commit()"
   ]
  },
  {
   "cell_type": "code",
   "execution_count": null,
   "metadata": {},
   "outputs": [],
   "source": [
    "data =[('Atlanta','Georgia',1.25,6),\n",
    "      ('Tallahassee','Florida',2.6,3),\n",
    "      ('Sacramento','California',1.7,5)]\n",
    "stmt = \"insert into test0 values(?,?,?,?)\"\n",
    "\n",
    "con.executemany(stmt,data)\n",
    "con.commit()"
   ]
  },
  {
   "cell_type": "code",
   "execution_count": null,
   "metadata": {},
   "outputs": [],
   "source": [
    "cursor = con.execute('select * from test0')\n",
    "rows = cursor.fetchall()\n",
    "rows"
   ]
  },
  {
   "cell_type": "code",
   "execution_count": null,
   "metadata": {
    "scrolled": true
   },
   "outputs": [],
   "source": [
    "cursor.description"
   ]
  },
  {
   "cell_type": "code",
   "execution_count": null,
   "metadata": {
    "scrolled": true
   },
   "outputs": [],
   "source": [
    "pd.DataFrame(rows,columns=next(zip(*cursor.description)))"
   ]
  },
  {
   "cell_type": "code",
   "execution_count": null,
   "metadata": {},
   "outputs": [],
   "source": [
    "pd.read_sql('select * from test0',con)"
   ]
  },
  {
   "cell_type": "markdown",
   "metadata": {},
   "source": [
    "## 存取MongoDB中的数据\n",
    "mongodb mongo_client mc.MongoClient()  \n",
    "mongodb mongo_client c.db_name  \n",
    "mongodb database db.collection_name  \n",
    "mongodb collections c.insert_one()  \n",
    "mongodb collections c.find()  \n",
    "python Built-in Functions list()"
   ]
  },
  {
   "cell_type": "code",
   "execution_count": null,
   "metadata": {},
   "outputs": [],
   "source": [
    "from pymongo import mongo_client as mc\n",
    "con = mc.MongoClient('localhost',port=27017)\n",
    "tweets = con.db.tweets\n",
    "data = json.loads(resp.text)\n",
    "for tweet in data['result']['weather']:\n",
    "    tweets.insert_one(tweet)"
   ]
  },
  {
   "cell_type": "code",
   "execution_count": null,
   "metadata": {
    "scrolled": false
   },
   "outputs": [],
   "source": [
    "cursor = tweets.find()\n",
    "tweet_fields =  ['date','info','week','nongli']\n",
    "result=pd.DataFrame(list(cursor),columns=tweet_fields)\n",
    "result"
   ]
  }
 ],
 "metadata": {
  "kernelspec": {
   "display_name": "Python 3",
   "language": "python",
   "name": "python3"
  },
  "language_info": {
   "codemirror_mode": {
    "name": "ipython",
    "version": 3
   },
   "file_extension": ".py",
   "mimetype": "text/x-python",
   "name": "python",
   "nbconvert_exporter": "python",
   "pygments_lexer": "ipython3",
   "version": "3.7.1"
  }
 },
 "nbformat": 4,
 "nbformat_minor": 2
}
