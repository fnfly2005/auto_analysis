{
 "cells": [
  {
   "cell_type": "markdown",
   "metadata": {},
   "source": [
    "# MovieLens 1M数据集\n",
    "pandas dataframe pd.read_table()  \n",
    "pandas dataframe pd.merge()  \n",
    "pandas dataframe d.iloc[]  \n",
    "pandas dataframe d.pivot_table()  \n",
    "pandas dataframe d.groupby()  \n",
    "pandas DataFrameGroupBy d[].size()  \n",
    "pandas series s.index  \n",
    "pandas series s.index[s]  \n",
    "pandas series s>=250  \n",
    "pandas dataframe d.loc[index,:]  \n",
    "pandas dataframe sort_index()  \n",
    "pandas dataframe sort_values()"
   ]
  },
  {
   "cell_type": "code",
   "execution_count": null,
   "metadata": {},
   "outputs": [],
   "source": [
    "import pandas as pd\n",
    "unames = ['user_id','gender','age','occupation','zip']\n",
    "users = pd.read_table('ch02/users.dat',sep='::',header=None,names= unames)\n",
    "\n",
    "rnames = ['user_id','movie_id','rating','timestamp']\n",
    "ratings = pd.read_table('ch02/ratings.dat',sep='::',header=None,names=rnames)\n",
    "\n",
    "mnames = ['movie_id','title','genres']\n",
    "movies = pd.read_table('ch02/movies.dat',sep='::',header=None,names=mnames)\n",
    "\n",
    "type(users)"
   ]
  },
  {
   "cell_type": "code",
   "execution_count": null,
   "metadata": {},
   "outputs": [],
   "source": [
    "print(users[:5],'\\r',ratings[:5],'\\r',movies[:5])\n",
    "ratings.info()"
   ]
  },
  {
   "cell_type": "code",
   "execution_count": null,
   "metadata": {},
   "outputs": [],
   "source": [
    "data=pd.merge(pd.merge(ratings,users),movies)\n",
    "print(data.info())\n",
    "data.iloc[0,:]"
   ]
  },
  {
   "cell_type": "code",
   "execution_count": null,
   "metadata": {},
   "outputs": [],
   "source": [
    "#按性别计算每部电影的平均得分\n",
    "mean_ratings = data.pivot_table('rating',index='title',columns='gender',aggfunc='mean')\n",
    "mean_ratings[:5]"
   ]
  },
  {
   "cell_type": "code",
   "execution_count": null,
   "metadata": {},
   "outputs": [],
   "source": [
    "#过滤掉评分数据不够250条的电影\n",
    "ratings_by_title = data.groupby('title').size()\n",
    "ratings_by_title[:10]"
   ]
  },
  {
   "cell_type": "code",
   "execution_count": null,
   "metadata": {},
   "outputs": [],
   "source": [
    "active_titles = ratings_by_title.index[ratings_by_title>=250]\n",
    "active_titles"
   ]
  },
  {
   "cell_type": "code",
   "execution_count": null,
   "metadata": {},
   "outputs": [],
   "source": [
    "mean_ratings = mean_ratings.loc[active_titles,:]\n",
    "mean_ratings.info()"
   ]
  },
  {
   "cell_type": "code",
   "execution_count": null,
   "metadata": {
    "scrolled": true
   },
   "outputs": [],
   "source": [
    "#女性观众最喜欢的电影\n",
    "top_female_ratings = mean_ratings.sort_values(by='F',ascending=False)\n",
    "top_female_ratings[:10]"
   ]
  },
  {
   "cell_type": "markdown",
   "metadata": {},
   "source": [
    "### 计算评分分歧  \n",
    "pandas series 符号运算  \n",
    "python sequence切片 s[start:end:step]  \n",
    "pandas DataFrameGroupBy d[].std()  \n",
    "pandas series s.sort_values()  "
   ]
  },
  {
   "cell_type": "code",
   "execution_count": null,
   "metadata": {},
   "outputs": [],
   "source": [
    "mean_ratings['diff'] = mean_ratings['M'] - mean_ratings['F']\n",
    "sorted_by_diff = mean_ratings.sort_values(by='diff')\n",
    "sorted_by_diff[:15]"
   ]
  },
  {
   "cell_type": "code",
   "execution_count": null,
   "metadata": {},
   "outputs": [],
   "source": [
    "sorted_by_diff[::-1][:15]"
   ]
  },
  {
   "cell_type": "code",
   "execution_count": null,
   "metadata": {},
   "outputs": [],
   "source": [
    "#根据电影名称分组的得分数据的标准差\n",
    "rating_std_by_title = data.groupby(['title'])['rating'].std()\n",
    "#根据active_titles进行过滤\n",
    "rating_std_by_title = rating_std_by_title.loc[active_titles]\n",
    "\n",
    "#根据值对Series进行降序排序\n",
    "rating_std_by_title.sort_values(ascending=False)[:10]"
   ]
  },
  {
   "cell_type": "markdown",
   "metadata": {},
   "source": [
    "# 1880-2010年间全美婴儿姓名"
   ]
  }
 ],
 "metadata": {
  "kernelspec": {
   "display_name": "Python 3",
   "language": "python",
   "name": "python3"
  },
  "language_info": {
   "codemirror_mode": {
    "name": "ipython",
    "version": 3
   },
   "file_extension": ".py",
   "mimetype": "text/x-python",
   "name": "python",
   "nbconvert_exporter": "python",
   "pygments_lexer": "ipython3",
   "version": "3.7.1"
  }
 },
 "nbformat": 4,
 "nbformat_minor": 2
}
