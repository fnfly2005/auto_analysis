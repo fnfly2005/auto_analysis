{
 "cells": [
  {
   "cell_type": "code",
   "execution_count": null,
   "metadata": {},
   "outputs": [],
   "source": [
    "import pandas as pd\n",
    "import numpy as np"
   ]
  },
  {
   "cell_type": "code",
   "execution_count": null,
   "metadata": {},
   "outputs": [],
   "source": [
    "df = pd.DataFrame({'key1':['a','a','b','b','a'],\n",
    "                  'key2':['one','two','one','two','one'],\n",
    "                  'data1':np.random.randn(5),\n",
    "                  'data2':np.random.randn(5)})\n",
    "df"
   ]
  },
  {
   "cell_type": "code",
   "execution_count": null,
   "metadata": {},
   "outputs": [],
   "source": [
    "# pandas GroupBy DataFrameGroupBy[]\n",
    "# pandas GroupBy g.quantile()\n",
    "# 如果传入的百分位上没有值，则quantile会进行线性插值\n",
    "grouped = df.groupby('key1')\n",
    "grouped['data1'].quantile(q=0.9)"
   ]
  },
  {
   "cell_type": "code",
   "execution_count": null,
   "metadata": {},
   "outputs": [],
   "source": [
    "# 如果要使用自己的聚合函数，只需将其传入aggregate或agg方法即可\n",
    "# pandas GroupBy g.agg()\n",
    "# pandas dataframe d.max()\n",
    "# pandas dataframe d.min()\n",
    "def peak_to_peak(arr):\n",
    "    return arr.max() -arr.min()\n",
    "\n",
    "grouped.agg(peak_to_peak)"
   ]
  },
  {
   "cell_type": "code",
   "execution_count": null,
   "metadata": {
    "scrolled": true
   },
   "outputs": [],
   "source": [
    "# pandas GroupBy g.describe()\n",
    "grouped.describe()"
   ]
  },
  {
   "cell_type": "code",
   "execution_count": null,
   "metadata": {
    "scrolled": true
   },
   "outputs": [],
   "source": [
    "tips = pd.read_csv('../pydata-book-master/ch08/tips.csv')\n",
    "# 计算小费 总额比例\n",
    "# pandas series s.div()\n",
    "# pandas dataframe d.head()\n",
    "tips.loc[:,'tip_pct']=tips.loc[:,'tip'].div(tips.loc[:,'total_bill'])\n",
    "tips.head()"
   ]
  },
  {
   "cell_type": "markdown",
   "metadata": {},
   "source": [
    "![avater](9-1-table.png)"
   ]
  },
  {
   "cell_type": "markdown",
   "metadata": {},
   "source": [
    "# 面向列的多函数应用"
   ]
  },
  {
   "cell_type": "code",
   "execution_count": null,
   "metadata": {},
   "outputs": [],
   "source": [
    "grouped = tips.groupby(['sex','smoker'])\n",
    "grouped_pct =grouped['tip_pct']\n",
    "#描述统计，也可以将函数名以字符串的形式传入\n",
    "# pandas GroupBy g.agg()\n",
    "grouped_pct.agg('mean')"
   ]
  },
  {
   "cell_type": "code",
   "execution_count": null,
   "metadata": {},
   "outputs": [],
   "source": [
    "#传入一组函数或函数名，得到的DataFrame的列就会以相应的函数命名\n",
    "# g.add([func])\n",
    "grouped_pct.agg(['mean','std',peak_to_peak])"
   ]
  },
  {
   "cell_type": "code",
   "execution_count": null,
   "metadata": {},
   "outputs": [],
   "source": [
    "# 传入一个由（name，function)元组组成的列表，则各元组的第一个元素就会被用作dataframe的列名\n",
    "# pandas GroupBy g.add([(name,func)])\n",
    "# numpy Statistics np.std()\n",
    "grouped_pct.agg([('foo','mean'),('bar',np.std)])"
   ]
  },
  {
   "cell_type": "code",
   "execution_count": null,
   "metadata": {},
   "outputs": [],
   "source": [
    "functions = ['count','mean','max']\n",
    "result = grouped['tip_pct','total_bill'].agg(functions)\n",
    "result"
   ]
  },
  {
   "cell_type": "code",
   "execution_count": null,
   "metadata": {
    "scrolled": true
   },
   "outputs": [],
   "source": [
    "result.loc[:,'tip_pct']"
   ]
  },
  {
   "cell_type": "code",
   "execution_count": null,
   "metadata": {
    "scrolled": true
   },
   "outputs": [],
   "source": [
    "# numpy Statistics np.std()\n",
    "ftuples = [('Durchschnitt','mean'),('Abweichung',np.var)]\n",
    "grouped['tip_pct','total_bill'].agg(ftuples)"
   ]
  },
  {
   "cell_type": "code",
   "execution_count": null,
   "metadata": {
    "scrolled": true
   },
   "outputs": [],
   "source": [
    "# 对不同的列应用不同的函数\n",
    "# pandas GroupBy g.add(dict)\n",
    "grouped.agg({'tip':np.max,'size':'sum'})"
   ]
  },
  {
   "cell_type": "markdown",
   "metadata": {},
   "source": [
    "# 以“无索引”的形式返回聚合数据"
   ]
  }
 ],
 "metadata": {
  "kernelspec": {
   "display_name": "Python 3",
   "language": "python",
   "name": "python3"
  },
  "language_info": {
   "codemirror_mode": {
    "name": "ipython",
    "version": 3
   },
   "file_extension": ".py",
   "mimetype": "text/x-python",
   "name": "python",
   "nbconvert_exporter": "python",
   "pygments_lexer": "ipython3",
   "version": "3.7.1"
  }
 },
 "nbformat": 4,
 "nbformat_minor": 2
}
