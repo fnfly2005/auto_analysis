{
 "cells": [
  {
   "cell_type": "code",
   "execution_count": null,
   "metadata": {},
   "outputs": [],
   "source": [
    "import pandas as pd\n",
    "import numpy as np"
   ]
  },
  {
   "cell_type": "code",
   "execution_count": null,
   "metadata": {
    "scrolled": true
   },
   "outputs": [],
   "source": [
    "# pandas series s.div()  \n",
    "# pandas dataframe d.pivot_table()\n",
    "tips = pd.read_csv('../pydata-book-master/ch08/tips.csv')\n",
    "tips.loc[:,'tip_pct']=tips.loc[:,'tip'].div(tips.loc[:,'total_bill'])\n",
    "tips.pivot_table(index=['sex','smoker'],aggfunc='mean')"
   ]
  },
  {
   "cell_type": "code",
   "execution_count": null,
   "metadata": {
    "scrolled": false
   },
   "outputs": [],
   "source": [
    "tips.pivot_table(values=['tip_pct','size'],index=['sex','day'],columns='smoker',aggfunc='mean')"
   ]
  },
  {
   "cell_type": "code",
   "execution_count": null,
   "metadata": {
    "scrolled": true
   },
   "outputs": [],
   "source": [
    "tips.pivot_table(values=['tip_pct','size'],index=['sex','day'],columns='smoker',aggfunc='mean',margins=True)"
   ]
  },
  {
   "cell_type": "code",
   "execution_count": null,
   "metadata": {
    "scrolled": true
   },
   "outputs": [],
   "source": [
    "tips.pivot_table(values=['tip_pct'],index=['sex','smoker'],columns='day',aggfunc=len,margins=True)"
   ]
  },
  {
   "cell_type": "code",
   "execution_count": null,
   "metadata": {
    "scrolled": true
   },
   "outputs": [],
   "source": [
    "tips.pivot_table(values=['size'],index=['time','sex','smoker'],columns='day',aggfunc='sum',fill_value=0)"
   ]
  },
  {
   "cell_type": "markdown",
   "metadata": {},
   "source": [
    "# 交叉表：crosstab\n",
    "python Built-in Functions range()  \n",
    "pandas General function pd.crosstab()"
   ]
  },
  {
   "cell_type": "code",
   "execution_count": null,
   "metadata": {},
   "outputs": [],
   "source": [
    "data =pd.DataFrame({'Sample':list(range(1,11)),\n",
    "                  'Gender':['Female','Male','Female','Male','Male','Male','Female','Female','Male','Female'],\n",
    "                  'Handedness':['Right-handed','Left-handed','Right-handed','Right-handed','Left-handed','Right-handed','Right-handed','Left-handed','Right-handed','Right-handed']})\n",
    "data"
   ]
  },
  {
   "cell_type": "code",
   "execution_count": null,
   "metadata": {},
   "outputs": [],
   "source": [
    "pd.crosstab(index=data.loc[:,'Gender'],columns=data.loc[:,'Handedness'],margins=True)"
   ]
  },
  {
   "cell_type": "code",
   "execution_count": null,
   "metadata": {},
   "outputs": [],
   "source": [
    "pd.crosstab(index=[tips.loc[:,'time'],tips.loc[:,'day']],\n",
    "            columns=tips.loc[:,'smoker'],margins=True)"
   ]
  },
  {
   "cell_type": "markdown",
   "metadata": {},
   "source": [
    "# 示例：2012联邦选举委员会数据库\n",
    "pandas Input/Output pd.read_csv()"
   ]
  },
  {
   "cell_type": "code",
   "execution_count": null,
   "metadata": {},
   "outputs": [],
   "source": [
    "fec = pd.read_csv('../pydata-book-master/ch09/P00000001-ALL.csv',low_memory=False)\n",
    "fec.info()"
   ]
  },
  {
   "cell_type": "code",
   "execution_count": null,
   "metadata": {},
   "outputs": [],
   "source": [
    "# pandas dataframe d.iloc[]\n",
    "fec.iloc[123456]"
   ]
  },
  {
   "cell_type": "code",
   "execution_count": null,
   "metadata": {},
   "outputs": [],
   "source": [
    "# pandas dataframe d.columns\n",
    "fec.columns"
   ]
  },
  {
   "cell_type": "code",
   "execution_count": null,
   "metadata": {},
   "outputs": [],
   "source": [
    "# pandas series s.unique()\n",
    "unique_cands = fec.loc[:,'cand_nm'].unique()\n",
    "print(unique_cands[2])\n",
    "unique_cands"
   ]
  },
  {
   "cell_type": "code",
   "execution_count": null,
   "metadata": {},
   "outputs": [],
   "source": [
    "parties ={'Bachmann, Michelle':'Republican',\n",
    "            'Romney, Mitt':'Republican',\n",
    "            'Obama, Barack':'Democrat',\n",
    "            \"Roemer, Charles E. 'Buddy' III\":'Republican',\n",
    "            'Pawlenty, Timothy':'Republican',\n",
    "            'Johnson, Gary Earl':'Republican',\n",
    "            'Paul, Ron':'Republican',\n",
    "            'Santorum, Rick':'Republican',\n",
    "            'Cain, Herman':'Republican',\n",
    "            'Gingrich, Newt':'Republican',\n",
    "            'McCotter, Thaddeus G':'Republican',\n",
    "            'Huntsman, Jon':'Republican',\n",
    "            'Perry, Rick':'Republican'\n",
    "         }\n",
    "fec.loc[:,'cand_nm'].iloc[123456:123461]"
   ]
  },
  {
   "cell_type": "code",
   "execution_count": null,
   "metadata": {},
   "outputs": [],
   "source": [
    "# pandas series s.map()\n",
    "fec.loc[:,'cand_nm'].iloc[123456:123461].map(parties)"
   ]
  },
  {
   "cell_type": "code",
   "execution_count": null,
   "metadata": {},
   "outputs": [],
   "source": [
    "# pandas series s.value_counts()\n",
    "fec.loc[:,'party']=fec.loc[:,'cand_nm'].map(parties)\n",
    "fec.loc[:,'party'].value_counts()"
   ]
  },
  {
   "cell_type": "code",
   "execution_count": null,
   "metadata": {},
   "outputs": [],
   "source": [
    "# pandas series s.gt()\n",
    "(fec.loc[:,'contb_receipt_amt'].gt(0)).value_counts()"
   ]
  },
  {
   "cell_type": "code",
   "execution_count": null,
   "metadata": {},
   "outputs": [],
   "source": [
    "#为了简化分析，限定该数据集只能由正的出资额\n",
    "# pandas series s.isin()\n",
    "fec = fec.loc[fec.loc[:,'contb_receipt_amt']>0]\n",
    "fec_mrbo = fec.loc[fec.loc[:,'cand_nm'].isin(['Obama, Barack','Romney, Mitt'])]"
   ]
  },
  {
   "cell_type": "markdown",
   "metadata": {},
   "source": [
    "## 根据职业和雇主统计赞助信息"
   ]
  },
  {
   "cell_type": "code",
   "execution_count": null,
   "metadata": {
    "scrolled": true
   },
   "outputs": [],
   "source": [
    "fec.loc[:,'contbr_occupation'].value_counts().iloc[:10]"
   ]
  },
  {
   "cell_type": "code",
   "execution_count": null,
   "metadata": {},
   "outputs": [],
   "source": [
    "# pandas series s.loc[]\n",
    "tes = fec.loc[:,'contbr_occupation'].value_counts()\n",
    "print(tes.loc['INFORMATION REQUESTED (BEST EFFORTS)'])\n",
    "print(tes.loc['C.E.O'])"
   ]
  },
  {
   "cell_type": "code",
   "execution_count": null,
   "metadata": {
    "scrolled": true
   },
   "outputs": [],
   "source": [
    "# python dict d.get()\n",
    "# pandas dataframe d.sum()\n",
    "occ_mapping = {\n",
    "    'INFORMATION REQUESTED PER BEST EFFORTS':'NOT PROVIDED',\n",
    "    'INFORMATION REQUESTED':'NOT PROVIDED',\n",
    "    'INFORMATION REQUESTED (BEST EFFORTS)':'NOT PROVIDED',\n",
    "    'C.E.O':'CEO'\n",
    "}\n",
    "f = lambda x: occ_mapping.get(x,x)\n",
    "fec.loc[:,'contbr_occupation']=fec.loc[:,'contbr_occupation'].map(f)\n",
    "\n",
    "emp_mapping = {\n",
    "    'INFORMATION REQUESTED PER BEST EFFORTS':'NOT PROVIDED',\n",
    "    'INFORMATION REQUESTED':'NOT PROVIDED',\n",
    "    'SELF':'SELF-EMPLOYED',\n",
    "    'SELF EMPLOYED':'SELF-EMPLOYED',\n",
    "}\n",
    "\n",
    "f = lambda x:emp_mapping.get(x,x)\n",
    "fec.loc[:,'contbr_employer'] = fec.loc[:,'contbr_employer'].map(f)\n",
    "\n",
    "by_occupation = fec.pivot_table(values='contb_receipt_amt',\n",
    "                                index='contbr_occupation',\n",
    "                                columns='party',aggfunc='sum')\n",
    "over_2mm = by_occupation.loc[by_occupation.sum(axis=1).gt(2000000)]\n",
    "over_2mm"
   ]
  },
  {
   "cell_type": "code",
   "execution_count": null,
   "metadata": {
    "scrolled": true
   },
   "outputs": [],
   "source": [
    "# pandas dataframe d.plot.barh()\n",
    "# 对各党派总出资额最高的职业\n",
    "over_2mm.plot.barh()"
   ]
  },
  {
   "cell_type": "code",
   "execution_count": null,
   "metadata": {},
   "outputs": [],
   "source": [
    "# 获取对Obama和Romney总出资额最高的职业和企业\n",
    "# pandas GroupBy g.sum()\n",
    "# pandas series s.sort_values()\n",
    "# pandas series s.head()\n",
    "def get_top_amounts(group,key,n=5):\n",
    "    totals = group.groupby(key)['contb_receipt_amt'].sum()\n",
    "    return totals.sort_values(ascending=False).head(n)\n",
    "\n",
    "grouped = fec_mrbo.groupby('cand_nm')\n",
    "grouped.apply(get_top_amounts,'contbr_occupation',n=7)"
   ]
  },
  {
   "cell_type": "code",
   "execution_count": null,
   "metadata": {},
   "outputs": [],
   "source": [
    "grouped.apply(get_top_amounts,'contbr_employer',n=10)"
   ]
  },
  {
   "cell_type": "markdown",
   "metadata": {},
   "source": [
    "## 对出资额分组"
   ]
  },
  {
   "cell_type": "code",
   "execution_count": null,
   "metadata": {},
   "outputs": [],
   "source": [
    "bins = np.array([0,1,10,100,1000,10000,100000,1000000,10000000])\n",
    "labels = pd.cut(fec_mrbo.loc[:,'contb_receipt_amt'],bins)\n",
    "labels"
   ]
  },
  {
   "cell_type": "code",
   "execution_count": null,
   "metadata": {},
   "outputs": [],
   "source": [
    "# pandas GroupBy g.size()\n",
    "# pandas series s.unstack()\n",
    "grouped = fec_mrbo.groupby(['cand_nm',labels])\n",
    "grouped.size().unstack(level=0)"
   ]
  },
  {
   "cell_type": "code",
   "execution_count": null,
   "metadata": {},
   "outputs": [],
   "source": [
    "bucket_sums = grouped['contb_receipt_amt'].sum().unstack(level=0)\n",
    "bucket_sums"
   ]
  },
  {
   "cell_type": "code",
   "execution_count": null,
   "metadata": {
    "scrolled": true
   },
   "outputs": [],
   "source": [
    "#pandas dataframe d.div()\n",
    "normed_sums = bucket_sums.div(bucket_sums.sum(axis=1),axis=0)\n",
    "normed_sums"
   ]
  },
  {
   "cell_type": "code",
   "execution_count": null,
   "metadata": {
    "scrolled": false
   },
   "outputs": [],
   "source": [
    "normed_sums.iloc[:-2].plot.barh(stacked=True)"
   ]
  },
  {
   "cell_type": "markdown",
   "metadata": {},
   "source": [
    "## 根据州统计赞助信息\n",
    "pandas dataframe d.fillna()  \n",
    "pandas dataframe d.head()"
   ]
  },
  {
   "cell_type": "code",
   "execution_count": null,
   "metadata": {
    "scrolled": true
   },
   "outputs": [],
   "source": [
    "grouped = fec_mrbo.groupby(['cand_nm','contbr_st'])\n",
    "totals = grouped['contb_receipt_amt'].sum().unstack(level=0).fillna(0)\n",
    "totals.head(10)"
   ]
  },
  {
   "cell_type": "code",
   "execution_count": null,
   "metadata": {},
   "outputs": [],
   "source": [
    "percent = totals.div(totals.sum(1),axis=0)\n",
    "percent.head(10)"
   ]
  }
 ],
 "metadata": {
  "kernelspec": {
   "display_name": "Python 3",
   "language": "python",
   "name": "python3"
  },
  "language_info": {
   "codemirror_mode": {
    "name": "ipython",
    "version": 3
   },
   "file_extension": ".py",
   "mimetype": "text/x-python",
   "name": "python",
   "nbconvert_exporter": "python",
   "pygments_lexer": "ipython3",
   "version": "3.7.1"
  }
 },
 "nbformat": 4,
 "nbformat_minor": 2
}
