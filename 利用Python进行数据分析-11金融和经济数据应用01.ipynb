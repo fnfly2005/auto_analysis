{
 "cells": [
  {
   "cell_type": "markdown",
   "metadata": {},
   "source": [
    "# 数据规整话方面的话题\n",
    "## 时间序列以及截面对齐"
   ]
  },
  {
   "cell_type": "code",
   "execution_count": null,
   "metadata": {},
   "outputs": [],
   "source": [
    "import pandas as pd\n",
    "import numpy as np\n",
    "from datetime import time"
   ]
  },
  {
   "cell_type": "code",
   "execution_count": null,
   "metadata": {
    "scrolled": true
   },
   "outputs": [],
   "source": [
    "! head ../pydata-book-master/ch11/volume.csv"
   ]
  },
  {
   "cell_type": "code",
   "execution_count": null,
   "metadata": {},
   "outputs": [],
   "source": [
    "# 成交价格\n",
    "close_px=pd.read_csv(filepath_or_buffer='../pydata-book-master/ch11/stock_px.csv',\n",
    "                     parse_dates=True,index_col=0)\n",
    "volume=pd.read_csv(filepath_or_buffer='../pydata-book-master/ch11/volume.csv',\n",
    "                     parse_dates=True,index_col=0)\n",
    "prices = close_px.loc['2011-09-05':'2011-09-14', ['AAPL', 'JNJ', 'SPX', 'XOM']]\n",
    "volume = volume.loc['2011-09-05':'2011-09-12', ['AAPL', 'JNJ', 'XOM']]\n",
    "prices"
   ]
  },
  {
   "cell_type": "code",
   "execution_count": null,
   "metadata": {},
   "outputs": [],
   "source": [
    "# 成交量\n",
    "volume"
   ]
  },
  {
   "cell_type": "code",
   "execution_count": null,
   "metadata": {},
   "outputs": [],
   "source": [
    "# pandas dataframe d.mul()\n",
    "prices.mul(other=volume)"
   ]
  },
  {
   "cell_type": "code",
   "execution_count": null,
   "metadata": {},
   "outputs": [],
   "source": [
    "# 计算各个公司股票的加权平均价格\n",
    "# pandas series s.div()\n",
    "vwap = prices.mul(other=volume).sum().div(volume.sum())\n",
    "vwap"
   ]
  },
  {
   "cell_type": "code",
   "execution_count": null,
   "metadata": {},
   "outputs": [],
   "source": [
    "# pandas series s.dropna()\n",
    "# 显式丢弃SPX的缺失值\n",
    "vwap.dropna()"
   ]
  },
  {
   "cell_type": "code",
   "execution_count": null,
   "metadata": {},
   "outputs": [],
   "source": [
    "# 手工对齐\n",
    "# pandas dataframe d.align() join\n",
    "prices.align(other=volume,join='inner')"
   ]
  },
  {
   "cell_type": "code",
   "execution_count": null,
   "metadata": {},
   "outputs": [],
   "source": [
    "# python Built-in Functions range()\n",
    "s1 = pd.Series(range(3),index=['a','b','c'])\n",
    "s2 = pd.Series(range(4),index=['d','b','c','e'])\n",
    "s3 = pd.Series(range(3),index=['f','a','c'])\n",
    "pd.DataFrame({'one':s1,'two':s2,'three':s3})"
   ]
  },
  {
   "cell_type": "code",
   "execution_count": null,
   "metadata": {
    "scrolled": true
   },
   "outputs": [],
   "source": [
    "# python Built-in Functions list()\n",
    "pd.DataFrame({'one':s1,'two':s2,'three':s3},index=list('face'))"
   ]
  },
  {
   "cell_type": "markdown",
   "metadata": {},
   "source": [
    "## 频率不同的时间序列的运算"
   ]
  },
  {
   "cell_type": "code",
   "execution_count": null,
   "metadata": {},
   "outputs": [],
   "source": [
    "ts1 = pd.Series(np.random.randn(3),\n",
    "                index=pd.date_range(start='2012-6-13',periods=3,freq='W-WED'))\n",
    "ts1"
   ]
  },
  {
   "cell_type": "code",
   "execution_count": null,
   "metadata": {
    "scrolled": true
   },
   "outputs": [],
   "source": [
    "# pandas series s.resample()\n",
    "# pandas Resampling r.mean()\n",
    "ts1.resample(rule='B').mean()"
   ]
  },
  {
   "cell_type": "code",
   "execution_count": null,
   "metadata": {
    "scrolled": true
   },
   "outputs": [],
   "source": [
    "# pandas Resampling r.mean()\n",
    "ts1.resample(rule='B').ffill()"
   ]
  },
  {
   "cell_type": "code",
   "execution_count": null,
   "metadata": {},
   "outputs": [],
   "source": [
    "# pandas Index pd.DatetimeIndex()\n",
    "dates = pd.DatetimeIndex(['2012-6-12','2012-6-17','2012-6-18','2012-6-21','2012-6-22','2012-6-29'])\n",
    "ts2 = pd.Series(np.random.randn(6),index=dates)\n",
    "ts2"
   ]
  },
  {
   "cell_type": "code",
   "execution_count": null,
   "metadata": {},
   "outputs": [],
   "source": [
    "# pandas series s.reindex()\n",
    "ts1.reindex(ts2.index,method='ffill')"
   ]
  },
  {
   "cell_type": "code",
   "execution_count": null,
   "metadata": {},
   "outputs": [],
   "source": [
    "# pandas series s.add()\n",
    "ts2.add(ts1.reindex(ts2.index,method='ffill'))"
   ]
  },
  {
   "cell_type": "markdown",
   "metadata": {},
   "source": [
    "## 使用Period\n",
    "pandas General funciton pd.period_range() periods"
   ]
  },
  {
   "cell_type": "code",
   "execution_count": null,
   "metadata": {},
   "outputs": [],
   "source": [
    "gdp = pd.Series([1.78,1.94,2.08,2.01,2.15,2.31,2.46],\n",
    "               index=pd.period_range(start='1984Q2',periods=7,freq='Q-SEP'))\n",
    "infl = pd.Series([0.025,0.045,0.037,0.04],\n",
    "                index=pd.period_range(start='1982',periods=4,freq='A-DEC'))\n",
    "gdp"
   ]
  },
  {
   "cell_type": "code",
   "execution_count": null,
   "metadata": {},
   "outputs": [],
   "source": [
    "infl"
   ]
  },
  {
   "cell_type": "code",
   "execution_count": null,
   "metadata": {
    "scrolled": true
   },
   "outputs": [],
   "source": [
    "# pandas series s.asfreq() how\n",
    "infl_q = infl.asfreq(freq='Q-SEP',how='end')\n",
    "infl_q"
   ]
  },
  {
   "cell_type": "code",
   "execution_count": null,
   "metadata": {
    "scrolled": true
   },
   "outputs": [],
   "source": [
    "infl_q.reindex(gdp.index,method='ffill')"
   ]
  },
  {
   "cell_type": "markdown",
   "metadata": {},
   "source": [
    "## 时间和“最当前”数据选取\n",
    "pandas index i.append()  \n",
    "python Built-in Functions range()  \n",
    "pandas Date offsets tseries.offsets.BusinessDay() BDay  \n",
    "python List Comprehensions 列表推导  \n",
    "numpy Array creation routines np.arange() dtype  \n",
    "python Built-in Functions float()"
   ]
  },
  {
   "cell_type": "code",
   "execution_count": null,
   "metadata": {},
   "outputs": [],
   "source": [
    "# 生成一个交易日内的日期范围和时间索引\n",
    "rng = pd.date_range(start='2012-06-01 09:30',end='2012-06-01 15:59',freq='T')\n",
    "# 生成5天的时间点（9：30-15：59之间的值）\n",
    "rng = rng.append([rng + pd.offsets.BDay(i) for i in range(1,4)])\n",
    "ts = pd.Series(np.arange(len(rng),dtype=float),index=rng)\n",
    "ts.head()"
   ]
  },
  {
   "cell_type": "code",
   "execution_count": null,
   "metadata": {
    "scrolled": true
   },
   "outputs": [],
   "source": [
    "# pandas Indexing and Selecting Data series[label]\n",
    "# python datetime time()\n",
    "ts[time(hour=10,minute=0)]"
   ]
  },
  {
   "cell_type": "code",
   "execution_count": null,
   "metadata": {},
   "outputs": [],
   "source": [
    "# python datetime time()\n",
    "# pandas series s.at_time()\n",
    "ts.at_time(time(hour=10,minute=0))"
   ]
  },
  {
   "cell_type": "code",
   "execution_count": null,
   "metadata": {},
   "outputs": [],
   "source": [
    "# pandas series s.between_time()\n",
    "ts.between_time(time(hour=10,minute=0),time(hour=10,minute=1))"
   ]
  },
  {
   "cell_type": "code",
   "execution_count": null,
   "metadata": {},
   "outputs": [],
   "source": [
    "# 可能刚好就没有任何数据落在某个具体的时间上，这时您可能会希望得到上午10点之前最后出现的哪个值\n",
    "# 将该时间序列的大部分内容随机设置为NA\n",
    "# numpy Random sampling (numpy.random) np.random.permutation()\n",
    "# numpy Sorting, searching, and counting np.sort()\n",
    "# pandas series s.copy()\n",
    "indexer = np.sort(np.random.permutation(len(ts))[700:])\n",
    "irr_ts = ts.copy()\n",
    "irr_ts[indexer] = np.nan\n",
    "irr_ts['2012-06-01 09:50':'2012-06-01 10:00']"
   ]
  },
  {
   "cell_type": "code",
   "execution_count": null,
   "metadata": {},
   "outputs": [],
   "source": [
    "# pandas General functions pd.date_range()\n",
    "# pandas series s.asof()\n",
    "selection = pd.date_range(start='2012-06-01 10:00',periods=4,freq='B')\n",
    "irr_ts.asof(where=selection)"
   ]
  },
  {
   "cell_type": "markdown",
   "metadata": {},
   "source": [
    "## 拼接多个数据源\n",
    "经常出现的情况\n",
    "+ 在一个特定的时间点上，从一个数据源切换到另一个数据源\n",
    "+ 用另一个时间序列对当前时间序列中的缺失值打补丁\n",
    "+ 将数据中的符号（国家、资产代码等）替换为实际数据\n",
    "\n",
    "python Built-in Functions float()  \n",
    "numpy Array creation routines np.ones() dtype  \n",
    "numpy Broadcasting 标量  \n",
    "pandas General functions pd.concat()  "
   ]
  },
  {
   "cell_type": "code",
   "execution_count": null,
   "metadata": {},
   "outputs": [],
   "source": [
    "data1 = pd.DataFrame(np.ones((6,3),dtype=float),\n",
    "                    columns=['a','b','c'],\n",
    "                    index=pd.date_range(start='2012/6/12',periods=6))\n",
    "data2 = pd.DataFrame(np.ones((6,3),dtype=float)*2,\n",
    "                    columns=['a','b','c'],\n",
    "                    index=pd.date_range(start='2012/6/13',periods=6))\n",
    "spliced = pd.concat([data1.loc[:'2012-06-14'],data2.loc['2012-06-15':]])\n",
    "spliced"
   ]
  },
  {
   "cell_type": "code",
   "execution_count": null,
   "metadata": {},
   "outputs": [],
   "source": [
    "data2 = pd.DataFrame(np.ones((6,4),dtype=float)*2,\n",
    "                    columns=['a','b','c','d'],\n",
    "                    index=pd.date_range(start='2012/6/13',periods=6))\n",
    "spliced = pd.concat([data1.loc[:'2012-06-14'],data2.loc['2012-06-15':]],sort=False)\n",
    "spliced"
   ]
  },
  {
   "cell_type": "code",
   "execution_count": null,
   "metadata": {},
   "outputs": [],
   "source": [
    "# combine_first可以引入合并点之前的数据，这样也就扩展了'd'项的历史\n",
    "# 由于data2没有关于2012-06-12的数据，所以也就没有值被填充到那一天\n",
    "# pandas series s.combine_first()\n",
    "spliced_filled=spliced.combine_first(data2)\n",
    "spliced_filled"
   ]
  },
  {
   "cell_type": "markdown",
   "metadata": {},
   "source": [
    "# 分组变化和分析"
   ]
  }
 ],
 "metadata": {
  "kernelspec": {
   "display_name": "Python 3",
   "language": "python",
   "name": "python3"
  },
  "language_info": {
   "codemirror_mode": {
    "name": "ipython",
    "version": 3
   },
   "file_extension": ".py",
   "mimetype": "text/x-python",
   "name": "python",
   "nbconvert_exporter": "python",
   "pygments_lexer": "ipython3",
   "version": "3.7.6"
  }
 },
 "nbformat": 4,
 "nbformat_minor": 2
}
