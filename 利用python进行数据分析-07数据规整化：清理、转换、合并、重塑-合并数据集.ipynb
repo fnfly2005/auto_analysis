{
 "cells": [
  {
   "cell_type": "markdown",
   "metadata": {},
   "source": [
    "# 数据库风格的DataFrame合并\n",
    "pandas General functions pd.merge()"
   ]
  },
  {
   "cell_type": "code",
   "execution_count": null,
   "metadata": {
    "scrolled": true
   },
   "outputs": [],
   "source": [
    "import pandas as pd\n",
    "df1 = pd.DataFrame({'key':['b','b','a','c','a','a','b'],\n",
    "                   'data1':range(7)})\n",
    "df2 = pd.DataFrame({'key':['a','b','d'],\n",
    "                   'data2':range(3)})\n",
    "df1"
   ]
  },
  {
   "cell_type": "code",
   "execution_count": null,
   "metadata": {},
   "outputs": [],
   "source": [
    "df2"
   ]
  },
  {
   "cell_type": "code",
   "execution_count": null,
   "metadata": {},
   "outputs": [],
   "source": [
    "pd.merge(df1,df2,on='key')"
   ]
  },
  {
   "cell_type": "code",
   "execution_count": null,
   "metadata": {},
   "outputs": [],
   "source": [
    "df3 = pd.DataFrame({'lkey':['b','b','a','c','a','a','b'],\n",
    "                   'data1':range(7)})\n",
    "df4 = pd.DataFrame({'rkey':['a','b','d'],\n",
    "                   'data2':range(3)})\n",
    "pd.merge(df3,df4,left_on='lkey',right_on='rkey')"
   ]
  },
  {
   "cell_type": "code",
   "execution_count": null,
   "metadata": {
    "scrolled": true
   },
   "outputs": [],
   "source": [
    "pd.merge(df1,df2,how='outer')"
   ]
  },
  {
   "cell_type": "code",
   "execution_count": null,
   "metadata": {
    "scrolled": true
   },
   "outputs": [],
   "source": [
    "df1 = pd.DataFrame({'key':['b','b','a','c','a','b'],\n",
    "                   'data1':range(6)})\n",
    "df2 = pd.DataFrame({'key':['a','b','a','b','d'],\n",
    "                   'data2':range(5)})\n",
    "df1"
   ]
  },
  {
   "cell_type": "code",
   "execution_count": null,
   "metadata": {
    "scrolled": true
   },
   "outputs": [],
   "source": [
    "df2"
   ]
  },
  {
   "cell_type": "code",
   "execution_count": null,
   "metadata": {},
   "outputs": [],
   "source": [
    "pd.merge(df1,df2,on='key',how='left')#笛卡尔积"
   ]
  },
  {
   "cell_type": "code",
   "execution_count": null,
   "metadata": {
    "scrolled": true
   },
   "outputs": [],
   "source": [
    "pd.merge(df1,df2,on='key',how='inner')#笛卡尔积"
   ]
  },
  {
   "cell_type": "code",
   "execution_count": null,
   "metadata": {},
   "outputs": [],
   "source": [
    "left = pd.DataFrame({'key1':['foo','foo','bar'],\n",
    "                    'key2':['one','two','one'],\n",
    "                    'lval':[1,2,3]})\n",
    "right=pd.DataFrame({'key1':['foo','foo','bar','bar'],\n",
    "                    'key2':['one','one','one','two'],\n",
    "                    'rval':[4,5,6,7]})\n",
    "pd.merge(left,right,on=['key1','key2'],how='outer')"
   ]
  },
  {
   "cell_type": "code",
   "execution_count": null,
   "metadata": {
    "scrolled": false
   },
   "outputs": [],
   "source": [
    "pd.merge(left,right,on='key1')"
   ]
  },
  {
   "cell_type": "code",
   "execution_count": null,
   "metadata": {
    "scrolled": true
   },
   "outputs": [],
   "source": [
    "pd.merge(left,right,on='key1',suffixes=('_left','_right'))"
   ]
  },
  {
   "cell_type": "markdown",
   "metadata": {},
   "source": [
    "# 索引上的合并\n",
    "numpy Array creation routines np.arange()  \n",
    "numpy The N-dimensional array (ndarray) ndarray.reshape()   \n",
    "pandas dataframe d.join()"
   ]
  },
  {
   "cell_type": "code",
   "execution_count": null,
   "metadata": {},
   "outputs": [],
   "source": [
    "left1 = pd.DataFrame({'key':['a','b','a','a','b','c'],\n",
    "                     'value':range(6)})\n",
    "right1 = pd.DataFrame({'group_val':[3.5,7]},index=['a','b'])\n",
    "left1"
   ]
  },
  {
   "cell_type": "code",
   "execution_count": null,
   "metadata": {},
   "outputs": [],
   "source": [
    "right1"
   ]
  },
  {
   "cell_type": "code",
   "execution_count": null,
   "metadata": {
    "scrolled": true
   },
   "outputs": [],
   "source": [
    "pd.merge(left1,right1,left_on='key',right_index=True)"
   ]
  },
  {
   "cell_type": "code",
   "execution_count": null,
   "metadata": {
    "scrolled": true
   },
   "outputs": [],
   "source": [
    "pd.merge(left1,right1,left_on='key',right_index=True,how='outer')"
   ]
  },
  {
   "cell_type": "code",
   "execution_count": null,
   "metadata": {},
   "outputs": [],
   "source": [
    "import numpy as np\n",
    "lefth = pd.DataFrame({'key1':['Ohio','Ohio','Ohio','Nevada','Nevada'],\n",
    "                     'key2':[2000,2001,2002,2001,2002],\n",
    "                     'data':np.arange(5.)})\n",
    "righth = pd.DataFrame(np.arange(12).reshape((6,2)),\n",
    "                     index=[['Nevada','Nevada','Ohio','Ohio','Ohio','Ohio'],\n",
    "                           [2001,2000,2000,2000,2001,2002]],\n",
    "                     columns=['event1','event2'])\n",
    "lefth"
   ]
  },
  {
   "cell_type": "code",
   "execution_count": null,
   "metadata": {},
   "outputs": [],
   "source": [
    "righth"
   ]
  },
  {
   "cell_type": "code",
   "execution_count": null,
   "metadata": {},
   "outputs": [],
   "source": [
    "pd.merge(lefth,righth,left_on=['key1','key2'],right_index=True)"
   ]
  },
  {
   "cell_type": "code",
   "execution_count": null,
   "metadata": {
    "scrolled": true
   },
   "outputs": [],
   "source": [
    "pd.merge(lefth,righth,left_on=['key1','key2'],right_index=True,how='outer')"
   ]
  },
  {
   "cell_type": "code",
   "execution_count": null,
   "metadata": {},
   "outputs": [],
   "source": [
    "left2 = pd.DataFrame([[1.,2.],[3.,4.],[5.,6.]],index=['a','c','e'],columns=['Ohio','Nevada'])\n",
    "right2 = pd.DataFrame([[7.,8.],[9.,10.],[11.,12.],[13,14]],\n",
    "                     index=['b','c','d','e'],columns=['Missouri','Alabama'])\n",
    "left2"
   ]
  },
  {
   "cell_type": "code",
   "execution_count": null,
   "metadata": {},
   "outputs": [],
   "source": [
    "right2"
   ]
  },
  {
   "cell_type": "code",
   "execution_count": null,
   "metadata": {},
   "outputs": [],
   "source": [
    "pd.merge(left2,right2,how='outer',left_index=True,right_index=True)"
   ]
  },
  {
   "cell_type": "code",
   "execution_count": null,
   "metadata": {
    "scrolled": true
   },
   "outputs": [],
   "source": [
    "left2.join(right2,how='outer')"
   ]
  },
  {
   "cell_type": "code",
   "execution_count": null,
   "metadata": {},
   "outputs": [],
   "source": [
    "another = pd.DataFrame([[7.,8.],[9.,10.],[11.,12.],[16,17]],\n",
    "                     index=['a','c','e','f'],columns=['New York','Oregon'])\n",
    "left2.join([right2,another])"
   ]
  },
  {
   "cell_type": "code",
   "execution_count": null,
   "metadata": {},
   "outputs": [],
   "source": [
    "left2.join([right2,another],how='outer',sort=False)"
   ]
  },
  {
   "cell_type": "markdown",
   "metadata": {},
   "source": [
    "# 轴向连接\n",
    "numpy Array manipulation routines np.concatenate()  \n",
    "pandas series pd.Series()  \n",
    "pandas General functions pd.concat()  \n",
    "pandas dataframe d.reindex()  \n",
    "pandas series s.unstack()  \n",
    "pandas General functions pd.concat()  \n",
    "numpy Random sampling (numpy.random) np.random.randn()  "
   ]
  },
  {
   "cell_type": "code",
   "execution_count": null,
   "metadata": {},
   "outputs": [],
   "source": [
    "arr = np.arange(12).reshape((3,4))\n",
    "arr"
   ]
  },
  {
   "cell_type": "code",
   "execution_count": null,
   "metadata": {
    "scrolled": true
   },
   "outputs": [],
   "source": [
    "np.concatenate([arr,arr],axis=1)"
   ]
  },
  {
   "cell_type": "code",
   "execution_count": null,
   "metadata": {},
   "outputs": [],
   "source": [
    "s1 = pd.Series([0,1],index=['a','b'])\n",
    "s2 = pd.Series([2,3,4],index=['c','d','e'])\n",
    "s3 = pd.Series([5,6],index=['f','g'])\n",
    "pd.concat([s1,s2,s3])"
   ]
  },
  {
   "cell_type": "code",
   "execution_count": null,
   "metadata": {},
   "outputs": [],
   "source": [
    "pd.concat([s1,s2,s3],axis=1,sort=True)"
   ]
  },
  {
   "cell_type": "code",
   "execution_count": null,
   "metadata": {},
   "outputs": [],
   "source": [
    "s4 = pd.concat([s1*5,s3])\n",
    "pd.concat([s1,s4],axis=1,sort=True)"
   ]
  },
  {
   "cell_type": "code",
   "execution_count": null,
   "metadata": {},
   "outputs": [],
   "source": [
    "pd.concat([s1,s4],axis=1,join='inner')"
   ]
  },
  {
   "cell_type": "code",
   "execution_count": null,
   "metadata": {},
   "outputs": [],
   "source": [
    "pd.concat([s1,s4],axis=1,sort=True).reindex(['a','c','b','e'])"
   ]
  },
  {
   "cell_type": "code",
   "execution_count": null,
   "metadata": {},
   "outputs": [],
   "source": [
    "result=pd.concat([s1,s1,s3],keys=['one','two','three'])\n",
    "result"
   ]
  },
  {
   "cell_type": "code",
   "execution_count": null,
   "metadata": {
    "scrolled": true
   },
   "outputs": [],
   "source": [
    "result.unstack()"
   ]
  },
  {
   "cell_type": "code",
   "execution_count": null,
   "metadata": {},
   "outputs": [],
   "source": [
    "pd.concat([s1,s1,s3],axis=1,sort=False,keys=['one','two','three'])"
   ]
  },
  {
   "cell_type": "code",
   "execution_count": null,
   "metadata": {},
   "outputs": [],
   "source": [
    "df1 = pd.DataFrame(np.arange(6).reshape(3,2),index=['a','b','c'],\n",
    "                  columns=['one','two'])\n",
    "df2 = pd.DataFrame(5 + np.arange(4).reshape(2,2),index=['a','c'],\n",
    "                  columns=['three','four'])\n",
    "pd.concat([df1,df2],axis=1,sort=False,keys=['level1','level2'])"
   ]
  },
  {
   "cell_type": "code",
   "execution_count": null,
   "metadata": {},
   "outputs": [],
   "source": [
    "pd.concat({'level1':df1,'level2':df2},axis=1,sort=False)"
   ]
  },
  {
   "cell_type": "code",
   "execution_count": null,
   "metadata": {},
   "outputs": [],
   "source": [
    "pd.concat([df1,df2],axis=1,sort=False,keys=['level1','level2'],names=['upper','lower'])"
   ]
  },
  {
   "cell_type": "code",
   "execution_count": null,
   "metadata": {},
   "outputs": [],
   "source": [
    "df1 = pd.DataFrame(np.random.randn(3,4),columns=['a','b','c','d'])\n",
    "df2 = pd.DataFrame(np.random.randn(2,3),columns=['b','d','a'])\n",
    "df1"
   ]
  },
  {
   "cell_type": "code",
   "execution_count": null,
   "metadata": {},
   "outputs": [],
   "source": [
    "df2"
   ]
  },
  {
   "cell_type": "code",
   "execution_count": null,
   "metadata": {
    "scrolled": true
   },
   "outputs": [],
   "source": [
    "pd.concat([df1,df2],sort=False,ignore_index=True)"
   ]
  },
  {
   "cell_type": "markdown",
   "metadata": {},
   "source": [
    "# 合并重叠数据\n",
    "numpy Constants np.nan  \n",
    "numpy Data type objects (dtype) np.float64  \n",
    "python Built-in Functions len()  \n",
    "numpy Indexing routines np.where()  \n",
    "pandas General functions pd.isna()  \n",
    "pandas series s.combine_first()  \n",
    "pandas dataframe d.combine_first()"
   ]
  },
  {
   "cell_type": "code",
   "execution_count": null,
   "metadata": {},
   "outputs": [],
   "source": [
    "a= pd.Series([np.nan,2.5,np.nan,3.5,4.5,np.nan],\n",
    "            index=['f','e','d','c','b','a'])\n",
    "b= pd.Series(np.arange(len(a),dtype=np.float64),\n",
    "            index=['f','e','d','c','b','a'])\n",
    "b[-1]=np.nan\n",
    "a"
   ]
  },
  {
   "cell_type": "code",
   "execution_count": null,
   "metadata": {
    "scrolled": true
   },
   "outputs": [],
   "source": [
    "b"
   ]
  },
  {
   "cell_type": "code",
   "execution_count": null,
   "metadata": {},
   "outputs": [],
   "source": [
    "np.where(pd.isnull(a),b,a)"
   ]
  },
  {
   "cell_type": "code",
   "execution_count": null,
   "metadata": {},
   "outputs": [],
   "source": [
    "b.iloc[:-2].combine_first(a.iloc[2:])"
   ]
  },
  {
   "cell_type": "code",
   "execution_count": null,
   "metadata": {},
   "outputs": [],
   "source": [
    "df1=pd.DataFrame({'a':[1.,np.nan,5.,np.nan],\n",
    "                 'b':[np.nan,2.,np.nan,6.],\n",
    "                 'c':range(2,18,4)})\n",
    "df2=pd.DataFrame({'a':[5.,4.,np.nan,3.,7.],\n",
    "                 'b':[np.nan,3.,4.,6.,8.]})\n",
    "df1.combine_first(df2)"
   ]
  }
 ],
 "metadata": {
  "kernelspec": {
   "display_name": "Python 3",
   "language": "python",
   "name": "python3"
  },
  "language_info": {
   "codemirror_mode": {
    "name": "ipython",
    "version": 3
   },
   "file_extension": ".py",
   "mimetype": "text/x-python",
   "name": "python",
   "nbconvert_exporter": "python",
   "pygments_lexer": "ipython3",
   "version": "3.7.1"
  }
 },
 "nbformat": 4,
 "nbformat_minor": 2
}
