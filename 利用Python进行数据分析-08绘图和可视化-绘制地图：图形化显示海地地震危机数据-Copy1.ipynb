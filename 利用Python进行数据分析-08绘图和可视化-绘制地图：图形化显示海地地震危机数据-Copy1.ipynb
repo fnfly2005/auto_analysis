{
 "cells": [
  {
   "cell_type": "code",
   "execution_count": null,
   "metadata": {},
   "outputs": [],
   "source": [
    "import pandas as pd\n",
    "import numpy as np\n",
    "import matplotlib.pyplot as plt"
   ]
  },
  {
   "cell_type": "code",
   "execution_count": null,
   "metadata": {},
   "outputs": [],
   "source": [
    "data= pd.read_csv('../pydata-book-master/ch08/Haiti.csv')\n",
    "data.info()"
   ]
  },
  {
   "cell_type": "code",
   "execution_count": null,
   "metadata": {},
   "outputs": [],
   "source": [
    "data.loc[:,['INCIDENT DATE','LATITUDE','LONGITUDE']].iloc[:10,:]"
   ]
  },
  {
   "cell_type": "code",
   "execution_count": null,
   "metadata": {},
   "outputs": [],
   "source": [
    "#pandas series s.iloc[]\n",
    "data.loc[:,'CATEGORY'].iloc[:6]"
   ]
  },
  {
   "cell_type": "code",
   "execution_count": null,
   "metadata": {},
   "outputs": [],
   "source": [
    "#pandas dataframe d.describe()\n",
    "data.describe()"
   ]
  },
  {
   "cell_type": "code",
   "execution_count": null,
   "metadata": {},
   "outputs": [],
   "source": [
    "# pandas series s.notna()\n",
    "data =data.loc[(data.loc[:,'LATITUDE']>18) & (data.loc[:,'LATITUDE']<20) & \n",
    "               (data.loc[:,'LONGITUDE']>-75) & (data.loc[:,'LONGITUDE']<-70) &\n",
    "              data.loc[:,'CATEGORY'].notna()]\n",
    "data.describe()"
   ]
  },
  {
   "cell_type": "code",
   "execution_count": null,
   "metadata": {},
   "outputs": [],
   "source": [
    "# python set sunion()\n",
    "# python Built-in Functions sorted()\n",
    "def to_cat_list(catstr):\n",
    "    stripped=(x.strip() for x in catstr.split(','))\n",
    "    return [x for x in stripped if x]\n",
    "\n",
    "def get_all_categories(cat_series):\n",
    "    cat_sets = (set(to_cat_list(x)) for x in cat_series)\n",
    "    return sorted(set.union(*cat_sets))\n",
    "\n",
    "def get_english(cat):\n",
    "    code,names = cat.split('.')\n",
    "    if '|' in names:\n",
    "        names = names.split('|')[1]\n",
    "    return code,names.strip()\n",
    "\n",
    "get_english('2. Urgences logistiques | Vital Lines')"
   ]
  },
  {
   "cell_type": "code",
   "execution_count": null,
   "metadata": {},
   "outputs": [],
   "source": [
    "# python Built-in Functions dict()\n",
    "all_cats = get_all_categories(data.loc[:,'CATEGORY'])\n",
    "english_mapping = dict(get_english(x) for x in all_cats)\n",
    "english_mapping['2a']"
   ]
  },
  {
   "cell_type": "code",
   "execution_count": null,
   "metadata": {},
   "outputs": [],
   "source": [
    "english_mapping['6c']"
   ]
  },
  {
   "cell_type": "code",
   "execution_count": null,
   "metadata": {},
   "outputs": [],
   "source": [
    "# numpy Array manipulation routines np.unique()\n",
    "# pandas Index pd.Index  \n",
    "# numpy Array creation routines np.zeros()\n",
    "# python Built-in Functions len()\n",
    "# pandas dataframe d.index\n",
    "# python IndexError IndexError: single positional indexer is out-of-bounds\n",
    "# pandas dataframe ValueError: columns overlap but no suffix specified\n",
    "def get_code(seq):\n",
    "    return [x.split('.')[0] for x in seq if x]\n",
    "\n",
    "all_codes = get_code(all_cats)\n",
    "code_index = pd.Index(np.unique(all_codes))\n",
    "dummy_frame = pd.DataFrame(np.zeros((len(data),len(code_index))),index=data.index,\n",
    "                          columns=code_index)\n",
    "\n",
    "dummy_frame.iloc[:,:6].info()"
   ]
  },
  {
   "cell_type": "code",
   "execution_count": null,
   "metadata": {},
   "outputs": [],
   "source": [
    "for row,cat in zip(data.index,data.loc[:,'CATEGORY']):\n",
    "    if row >= len(data.index):\n",
    "        break\n",
    "    codes = get_code(to_cat_list(cat))\n",
    "    dummy_frame.loc[:,codes].iloc[row]=1\n",
    "    \n",
    "data=data.join(dummy_frame.add_prefix('category_'))\n",
    "data.iloc[:,10:15].info()"
   ]
  }
 ],
 "metadata": {
  "kernelspec": {
   "display_name": "Python 3",
   "language": "python",
   "name": "python3"
  },
  "language_info": {
   "codemirror_mode": {
    "name": "ipython",
    "version": 3
   },
   "file_extension": ".py",
   "mimetype": "text/x-python",
   "name": "python",
   "nbconvert_exporter": "python",
   "pygments_lexer": "ipython3",
   "version": "3.7.1"
  }
 },
 "nbformat": 4,
 "nbformat_minor": 2
}
