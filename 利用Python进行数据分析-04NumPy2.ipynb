{
 "cells": [
  {
   "cell_type": "markdown",
   "metadata": {},
   "source": [
    "# 利用数组进行数据处理\n",
    "numpy Array creation routines np.meshgrid()  \n",
    "anaconda jupyter html语法   \n",
    "html img src  \n",
    "html css float  \n",
    "numpy Mathematical functions np.sqrt()  \n",
    "matplotlib Pyplot function overview plt.imshow()/plt.matshow()  \n",
    "matplotlib cm(colormap) plt.cm.gray"
   ]
  },
  {
   "cell_type": "code",
   "execution_count": null,
   "metadata": {},
   "outputs": [],
   "source": [
    "import numpy as np\n",
    "import matplotlib.pyplot as plt\n",
    "p1 = np.arange(0,3,1)\n",
    "p2 = np.arange(0,4,1)\n",
    "xs,ys = np.meshgrid(p1,p2)\n",
    "print(xs)\n",
    "print(ys)"
   ]
  },
  {
   "cell_type": "markdown",
   "metadata": {},
   "source": [
    "<img src='ch04/np_meshgrid01.jpg' style='float:left'>\n",
    "<img src='ch04/np_meshgrid.jpeg' width=360>"
   ]
  },
  {
   "cell_type": "code",
   "execution_count": null,
   "metadata": {},
   "outputs": [],
   "source": [
    "z = np.sqrt(xs ** 2 + ys ** 2)\n",
    "print(z)\n",
    "plt.imshow(z,cmap=plt.cm.gray)\n",
    "plt.colorbar()\n",
    "plt.title(\"Image plot of $\\sqrt{x^2+y^2}$ for a grid of values\")"
   ]
  }
 ],
 "metadata": {
  "kernelspec": {
   "display_name": "Python 3",
   "language": "python",
   "name": "python3"
  },
  "language_info": {
   "codemirror_mode": {
    "name": "ipython",
    "version": 3
   },
   "file_extension": ".py",
   "mimetype": "text/x-python",
   "name": "python",
   "nbconvert_exporter": "python",
   "pygments_lexer": "ipython3",
   "version": "3.7.1"
  }
 },
 "nbformat": 4,
 "nbformat_minor": 2
}
