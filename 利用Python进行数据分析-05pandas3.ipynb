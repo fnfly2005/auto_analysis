{
 "cells": [
  {
   "cell_type": "markdown",
   "metadata": {},
   "source": [
    "# 汇总和计算描述统计\n",
    "pandas dataframe pd.DataFrame()  \n",
    "numpy Constants np.nan  \n",
    "pandas dataframe d.sum()  \n",
    "pandas dataframe d.mean()  \n",
    "pandas dataframe d.idxmax()  \n",
    "pandas dataframe d.cumsum()  \n",
    "pandas dataframe d.describe()  \n",
    "pandas series s.describe() "
   ]
  },
  {
   "cell_type": "code",
   "execution_count": null,
   "metadata": {},
   "outputs": [],
   "source": [
    "import numpy as np\n",
    "import pandas as pd\n",
    "df = pd.DataFrame([[1.4,np.nan],[7.1,-4.5],\n",
    "                  [np.nan,np.nan],[0.75,-1.3]],index=['a','b','c','d'],columns=['one','two'])\n",
    "df"
   ]
  },
  {
   "cell_type": "code",
   "execution_count": null,
   "metadata": {},
   "outputs": [],
   "source": [
    "df.sum(axis=1)"
   ]
  },
  {
   "cell_type": "code",
   "execution_count": null,
   "metadata": {},
   "outputs": [],
   "source": [
    "df.mean(axis=1,skipna=False)"
   ]
  },
  {
   "cell_type": "code",
   "execution_count": null,
   "metadata": {},
   "outputs": [],
   "source": [
    "df.idxmax()#返回最大值所在对应轴索引"
   ]
  },
  {
   "cell_type": "code",
   "execution_count": null,
   "metadata": {},
   "outputs": [],
   "source": [
    "df.cumsum()"
   ]
  },
  {
   "cell_type": "code",
   "execution_count": null,
   "metadata": {
    "scrolled": true
   },
   "outputs": [],
   "source": [
    "df.describe()"
   ]
  },
  {
   "cell_type": "code",
   "execution_count": null,
   "metadata": {},
   "outputs": [],
   "source": [
    "obj = pd.Series(['a','a','b','c']*4)\n",
    "obj.describe()"
   ]
  },
  {
   "cell_type": "markdown",
   "metadata": {},
   "source": [
    "# 相关系数与协方差\n",
    "pandas pandas_datareader.data pdr.data.get_data_yahoo()  \n",
    "python Mapping Types — dict d.items()  \n",
    "pandas dataframe d.pct_change()  \n",
    "pandas series s.corr()  \n",
    "pandas series s.cov()  \n",
    "pandas dataframe d.corr()"
   ]
  },
  {
   "cell_type": "code",
   "execution_count": null,
   "metadata": {
    "scrolled": false
   },
   "outputs": [],
   "source": [
    "import pandas_datareader.data as web\n",
    "all_data={}\n",
    "for ticker in ['AAPL','IBM','MSFT','GOOG']:\n",
    "    all_data[ticker] =web.get_data_yahoo(ticker,'1/1/2000','1/1/2010')\n",
    "\n",
    "price = pd.DataFrame({tic:data['Adj Close'] for tic,data in all_data.items()})\n",
    "volume = pd.DataFrame({tic:data['Volume'] for tic,data in all_data.items()})\n",
    "\n",
    "returns = price.pct_change()\n",
    "returns.tail()"
   ]
  },
  {
   "cell_type": "code",
   "execution_count": null,
   "metadata": {},
   "outputs": [],
   "source": [
    "returns.loc[:,'MSFT'].corr(returns.loc[:,'IBM'])"
   ]
  },
  {
   "cell_type": "code",
   "execution_count": null,
   "metadata": {},
   "outputs": [],
   "source": [
    "returns.loc[:,'MSFT'].cov(returns.loc[:,'IBM'])"
   ]
  },
  {
   "cell_type": "code",
   "execution_count": null,
   "metadata": {},
   "outputs": [],
   "source": [
    "returns.corr()"
   ]
  }
 ],
 "metadata": {
  "kernelspec": {
   "display_name": "Python 3",
   "language": "python",
   "name": "python3"
  },
  "language_info": {
   "codemirror_mode": {
    "name": "ipython",
    "version": 3
   },
   "file_extension": ".py",
   "mimetype": "text/x-python",
   "name": "python",
   "nbconvert_exporter": "python",
   "pygments_lexer": "ipython3",
   "version": "3.7.1"
  }
 },
 "nbformat": 4,
 "nbformat_minor": 2
}
