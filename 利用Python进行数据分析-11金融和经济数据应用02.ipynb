{
 "cells": [
  {
   "cell_type": "markdown",
   "metadata": {},
   "source": [
    "# 分组变换和分析"
   ]
  },
  {
   "cell_type": "code",
   "execution_count": null,
   "metadata": {},
   "outputs": [],
   "source": [
    "# statsmodels api api\n",
    "import pandas as pd\n",
    "import numpy as np\n",
    "import random\n",
    "import string\n",
    "import statsmodels.api as sm"
   ]
  },
  {
   "cell_type": "code",
   "execution_count": null,
   "metadata": {},
   "outputs": [],
   "source": [
    "'''\n",
    "随机生成1000个股票代码\n",
    "python random r.seed()\n",
    "python string s.ascii_uppercase\n",
    "python random r.choice()\n",
    "python str s.join()\n",
    "numpy Array creation routines np.array()\n",
    "''' \n",
    "random.seed(0)\n",
    "N=1000\n",
    "def rands(n):\n",
    "    choices = string.ascii_uppercase\n",
    "    return ''.join([random.choice(choices) for _ in range(n)])\n",
    "tickers = np.array([rands(5) for _ in range(N)])\n",
    "\n",
    "'''\n",
    "创建一个含有3列的DataFrame来承载这些假想数据，不过只选择部分股票组成该投资组合\n",
    "numpy indexing Other indexing options\n",
    "numpy Broadcasting 标量\n",
    "'''\n",
    "M=500\n",
    "df = pd.DataFrame({'Momentum':np.random.randn(M)/200 +0.03,\n",
    "                  'Value':np.random.randn(M)/200 +0.08,\n",
    "                  'ShortInterest':np.random.randn(M)/200 -0.02},\n",
    "                  index = tickers[:M])\n",
    "'''\n",
    "为这些股票随机创建一个行业分类，为了简单起见，只选用两个行业，并将映射关系保存在Series中\n",
    "numpy Random sampling (numpy.random) np.random.randint() low/high \n",
    "pandas series pd.Series() name\n",
    "numpy Indexing 整数索引\n",
    "'''\n",
    "ind_names = np.array(['FINANCIAL','TECH'])\n",
    "sampler = np.random.randint(low=0,high=len(ind_names),size=N)\n",
    "industries = pd.Series(ind_names[sampler],index=tickers,\n",
    "                      name='industry')\n",
    "# 现在可以根据行业分类进行分组并执行分组聚合和变换了\n",
    "by_industry = df.groupby(industries)\n",
    "by_industry.mean()"
   ]
  },
  {
   "cell_type": "code",
   "execution_count": null,
   "metadata": {
    "scrolled": true
   },
   "outputs": [],
   "source": [
    "# pandas dataframe d.describe()\n",
    "by_industry.describe()"
   ]
  },
  {
   "cell_type": "code",
   "execution_count": null,
   "metadata": {},
   "outputs": [],
   "source": [
    "'''\n",
    "行业内标准化处理，广泛用于股票资产投资组合的构建过程 \n",
    "pandas dataframe d.sub()  \n",
    "pandas dataframe d.mean()\n",
    "pandas dataframe d.div()\n",
    "pandas dataframe d.std()\n",
    "pandas GroupBy g.apply() [func]\n",
    "'''\n",
    "def zscore(group):\n",
    "    return group.sub(group.mean()).div(group.std())\n",
    "\n",
    "df_stand=by_industry.apply(zscore)\n",
    "df_stand.groupby(industries).agg(['mean','std'])"
   ]
  },
  {
   "cell_type": "code",
   "execution_count": null,
   "metadata": {},
   "outputs": [],
   "source": [
    "'''\n",
    "行业内降序排名\n",
    "内置变换函数的用法会更简洁一些\n",
    "pandas GroupBy g.rank() \n",
    "pandas dataframe d.min()\n",
    "pandas dataframe d.max()\n",
    "'''\n",
    "ind_rank = by_industry.rank(ascending=False)\n",
    "ind_rank.groupby(industries).agg(['min','max'])"
   ]
  },
  {
   "cell_type": "code",
   "execution_count": null,
   "metadata": {},
   "outputs": [],
   "source": [
    "# 行业内排名和标准化\n",
    "rank_industry=by_industry.apply(lambda x: zscore(x.rank()))\n",
    "rank_industry.info()"
   ]
  },
  {
   "cell_type": "markdown",
   "metadata": {},
   "source": [
    "## 分组因子暴露\n",
    "因子分析是投资组合定量管理中的一种技术  \n",
    "投资组合的持有量和性能可以被分解为一个或多个表示投资组合权重的因子  \n",
    "numpy Random sampling (numpy.random) np.random.rand()  \n",
    "numpy Random sampling (numpy.random) np.random.permutation()  \n",
    "numpy Broadcasting 同型矩阵  \n",
    "numpy Indexing routines np.take()"
   ]
  },
  {
   "cell_type": "code",
   "execution_count": null,
   "metadata": {},
   "outputs": [],
   "source": [
    "fac1,fac2,fac3=np.random.rand(3,1000)\n",
    "ticker_subset = tickers.take(np.random.permutation(N)[:1000])\n",
    "\n",
    "# 因子加权和以及噪声\n",
    "port = pd.Series(0.7*fac1 -1.2*fac2+0.3*fac3+np.random.rand(1000),index=ticker_subset)\n",
    "factors = pd.DataFrame({'f1':fac1,'f2':fac2,'f3':fac3},\n",
    "                      index=ticker_subset)\n",
    "factors.corrwith(port)"
   ]
  },
  {
   "cell_type": "code",
   "execution_count": null,
   "metadata": {},
   "outputs": [],
   "source": [
    "# statsmodels OLS sm.OLS()  \n",
    "# statsmodels OLS OLS.fit()  \n",
    "# statsmodels RegressionResults RegressionResults.params\n",
    "model=sm.OLS(endog=port,exog=factors)\n",
    "results=model.fit()\n",
    "results.params"
   ]
  },
  {
   "cell_type": "markdown",
   "metadata": {},
   "source": [
    "# 更多示例应用"
   ]
  }
 ],
 "metadata": {
  "kernelspec": {
   "display_name": "Python 3",
   "language": "python",
   "name": "python3"
  },
  "language_info": {
   "codemirror_mode": {
    "name": "ipython",
    "version": 3
   },
   "file_extension": ".py",
   "mimetype": "text/x-python",
   "name": "python",
   "nbconvert_exporter": "python",
   "pygments_lexer": "ipython3",
   "version": "3.7.6"
  }
 },
 "nbformat": 4,
 "nbformat_minor": 2
}
