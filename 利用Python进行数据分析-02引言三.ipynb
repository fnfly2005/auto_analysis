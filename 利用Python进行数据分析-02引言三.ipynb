{
 "cells": [
  {
   "cell_type": "markdown",
   "metadata": {},
   "source": [
    "# 1880-2010年间全美婴儿姓名  \n",
    "pandas dataframe pd.read_csv()  \n",
    "python 字符串插值 数字  \n",
    "pandas dataframe pd.concat()  \n",
    "pandas dataframe d.pivot_table()  \n",
    "pandas dataframe d.tail()  \n",
    "pandas dataframe d.plot()  \n",
    "pandas DataFrameGroupBy d.apply(func)  \n",
    "pandas dataframe d.xxx  \n",
    "pandas series s.astype()  \n",
    "pandas series s.sum()"
   ]
  },
  {
   "cell_type": "code",
   "execution_count": null,
   "metadata": {
    "scrolled": true
   },
   "outputs": [],
   "source": [
    "import pandas as pd\n",
    "names1880 = pd.read_csv('ch02/yob1880.txt',names=['name','sex','births'],header=None)\n",
    "names1880[:10]"
   ]
  },
  {
   "cell_type": "code",
   "execution_count": null,
   "metadata": {},
   "outputs": [],
   "source": [
    "names1880.info()"
   ]
  },
  {
   "cell_type": "code",
   "execution_count": null,
   "metadata": {},
   "outputs": [],
   "source": [
    "#获取按sex分组统计\n",
    "names1880.groupby('sex').births.sum()"
   ]
  },
  {
   "cell_type": "code",
   "execution_count": null,
   "metadata": {},
   "outputs": [],
   "source": [
    "#将各个年份的数据合并\n",
    "years = range(1880,2011)\n",
    "\n",
    "pieces = []\n",
    "columns = ['name','sex','births']\n",
    "\n",
    "for year in years:\n",
    "    path = 'ch02/yob%d.txt' % year\n",
    "    frame = pd.read_csv(path,names=columns,header=None)\n",
    "    \n",
    "    frame['year']=year\n",
    "    pieces.append(frame)\n",
    "\n",
    "#将所有数据整合到单个DataFrame中\n",
    "names = pd.concat(pieces,ignore_index=True)\n",
    "names.info()"
   ]
  },
  {
   "cell_type": "code",
   "execution_count": null,
   "metadata": {},
   "outputs": [],
   "source": [
    "total_births = names.pivot_table(values ='births',columns='sex',index='year',aggfunc=sum)\n",
    "total_births.tail()"
   ]
  },
  {
   "cell_type": "code",
   "execution_count": null,
   "metadata": {},
   "outputs": [],
   "source": [
    "total_births.plot(kind='line',title='Total births by sex and year')"
   ]
  },
  {
   "cell_type": "code",
   "execution_count": null,
   "metadata": {
    "scrolled": true
   },
   "outputs": [],
   "source": [
    "def add_prop(group):\n",
    "    #用于插入一个prop列，存放指定名字的婴儿数相对于总出生数的比例\n",
    "    births = group.births.astype(float)\n",
    "    group['prop'] = births/births.sum()\n",
    "    return group\n",
    "\n",
    "names = names.groupby(['year','sex']).apply(add_prop)\n",
    "names.info()"
   ]
  }
 ],
 "metadata": {
  "kernelspec": {
   "display_name": "Python 3",
   "language": "python",
   "name": "python3"
  },
  "language_info": {
   "codemirror_mode": {
    "name": "ipython",
    "version": 3
   },
   "file_extension": ".py",
   "mimetype": "text/x-python",
   "name": "python",
   "nbconvert_exporter": "python",
   "pygments_lexer": "ipython3",
   "version": "3.7.1"
  }
 },
 "nbformat": 4,
 "nbformat_minor": 2
}
