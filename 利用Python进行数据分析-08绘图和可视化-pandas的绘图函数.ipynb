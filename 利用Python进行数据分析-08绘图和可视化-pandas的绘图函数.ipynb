{
 "cells": [
  {
   "cell_type": "code",
   "execution_count": null,
   "metadata": {},
   "outputs": [],
   "source": [
    "import pandas as pd\n",
    "import numpy as np\n",
    "import matplotlib.pyplot as plt"
   ]
  },
  {
   "cell_type": "markdown",
   "metadata": {},
   "source": [
    "# 线形图\n",
    "pandas series s.plot()  \n",
    "pandas dataframe d.plot()"
   ]
  },
  {
   "cell_type": "code",
   "execution_count": null,
   "metadata": {},
   "outputs": [],
   "source": [
    "s =pd.Series(np.random.randn(10).cumsum(),index=np.arange(0,100,10))\n",
    "s.plot()"
   ]
  },
  {
   "cell_type": "code",
   "execution_count": null,
   "metadata": {
    "scrolled": true
   },
   "outputs": [],
   "source": [
    "df=pd.DataFrame(np.random.randn(10,4).cumsum(0),columns=['A','B','C','D'],index=np.arange(0,100,10))\n",
    "df.plot()"
   ]
  },
  {
   "cell_type": "markdown",
   "metadata": {},
   "source": [
    "# 柱状图\n",
    "python Built-in Functions list()  \n",
    "matplotlib Pyplot function overview plt.subplots()  \n",
    "numpy Random sampling (numpy.random) np.random.rand()  \n",
    "matplotlib patches alpha  \n",
    "matplotlib patches color"
   ]
  },
  {
   "cell_type": "code",
   "execution_count": null,
   "metadata": {
    "scrolled": true
   },
   "outputs": [],
   "source": [
    "fig,axes = plt.subplots(2,1)\n",
    "data = pd.Series(np.random.rand(16),index=list('abcdefghijklmnop'))\n",
    "data.plot(kind='bar',ax=axes[0],color='k',alpha=0.7)\n",
    "data.plot(kind='barh',ax=axes[1],color='k',alpha=0.7)"
   ]
  },
  {
   "cell_type": "code",
   "execution_count": null,
   "metadata": {
    "scrolled": false
   },
   "outputs": [],
   "source": [
    "#pandas Index pd.Index\n",
    "df = pd.DataFrame(np.random.rand(6,4),\n",
    "                 index=['one','two','three','four','five','six'],\n",
    "                 columns=pd.Index(['A','B','C','D'],name='Genus'))\n",
    "df"
   ]
  },
  {
   "cell_type": "code",
   "execution_count": null,
   "metadata": {
    "scrolled": false
   },
   "outputs": [],
   "source": [
    "#设置stacked=True 即可生成堆积柱状图\n",
    "#pandas dataframe d.plot.barh()\n",
    "df.plot.barh(stacked=True,alpha=0.5)"
   ]
  },
  {
   "cell_type": "code",
   "execution_count": null,
   "metadata": {},
   "outputs": [],
   "source": [
    "#pandas General functions pd.crosstab()\n",
    "#pandas dataframe d.iloc[]\n",
    "tips =pd.read_csv('../pydata-book-master/ch08/tips.csv')\n",
    "party_counts = pd.crosstab(tips.loc[:,'day'],tips.loc[:,'size'])\n",
    "party_counts.iloc[:,2:5]"
   ]
  },
  {
   "cell_type": "code",
   "execution_count": null,
   "metadata": {},
   "outputs": [],
   "source": [
    "#进行规格化，使得各行的和为1，必须转换成浮点数\n",
    "# pandas dataframe d.sum()\n",
    "# pandas dataframe d.astype()\n",
    "# pandas dataframe d.div()\n",
    "party_pcts = party_counts.div(party_counts.sum(1).astype(float),axis=0)\n",
    "party_pcts"
   ]
  },
  {
   "cell_type": "code",
   "execution_count": null,
   "metadata": {
    "scrolled": true
   },
   "outputs": [],
   "source": [
    "party_pcts.plot.bar(stacked=True)"
   ]
  },
  {
   "cell_type": "markdown",
   "metadata": {},
   "source": [
    "# 直方图和密度图\n",
    "pandas series s.div()  \n",
    "pandas series s.plot.hist()"
   ]
  },
  {
   "cell_type": "code",
   "execution_count": null,
   "metadata": {},
   "outputs": [],
   "source": [
    "tips.loc[:,'tip_pct']=tips.loc[:,'tip'].div(other=tips.loc[:,'total_bill'])\n",
    "tips.loc[:,'tip_pct'].plot.hist(bins=50)"
   ]
  },
  {
   "cell_type": "markdown",
   "metadata": {},
   "source": [
    "# 散布图"
   ]
  }
 ],
 "metadata": {
  "kernelspec": {
   "display_name": "Python 3",
   "language": "python",
   "name": "python3"
  },
  "language_info": {
   "codemirror_mode": {
    "name": "ipython",
    "version": 3
   },
   "file_extension": ".py",
   "mimetype": "text/x-python",
   "name": "python",
   "nbconvert_exporter": "python",
   "pygments_lexer": "ipython3",
   "version": "3.7.1"
  }
 },
 "nbformat": 4,
 "nbformat_minor": 2
}
