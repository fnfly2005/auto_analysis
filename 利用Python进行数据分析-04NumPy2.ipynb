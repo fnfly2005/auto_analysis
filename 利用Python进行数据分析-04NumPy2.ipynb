{
 "cells": [
  {
   "cell_type": "markdown",
   "metadata": {},
   "source": [
    "# 利用数组进行数据处理\n",
    "numpy Array creation routines np.meshgrid()  \n",
    "anaconda jupyter html语法   \n",
    "html img src  \n",
    "html css float  \n",
    "numpy Mathematical functions np.sqrt()  \n",
    "matplotlib Pyplot function overview plt.imshow()/plt.matshow()  \n",
    "matplotlib cm(colormap) plt.cm.gray  \n",
    "matplotlib Pyplot function overview plt.colorbar()  \n",
    "matplotlib Pyplot function overview plt.title()  "
   ]
  },
  {
   "cell_type": "code",
   "execution_count": null,
   "metadata": {},
   "outputs": [],
   "source": [
    "import numpy as np\n",
    "import matplotlib.pyplot as plt\n",
    "p1 = np.arange(0,3,1)\n",
    "p2 = np.arange(0,4,1)\n",
    "xs,ys = np.meshgrid(p1,p2)\n",
    "print(xs)\n",
    "print(ys)"
   ]
  },
  {
   "cell_type": "markdown",
   "metadata": {},
   "source": [
    "<img src='ch04/np_meshgrid01.jpg' style='float:left'>\n",
    "<img src='ch04/np_meshgrid.jpeg' width=360>"
   ]
  },
  {
   "cell_type": "code",
   "execution_count": null,
   "metadata": {},
   "outputs": [],
   "source": [
    "z = np.sqrt(xs ** 2 + ys ** 2)\n",
    "print(z)\n",
    "plt.imshow(z,cmap=plt.cm.gray)\n",
    "plt.colorbar()\n",
    "plt.title(\"Image plot of $\\sqrt{x^2+y^2}$ for a grid of values\")"
   ]
  },
  {
   "cell_type": "markdown",
   "metadata": {},
   "source": [
    "## 将条件逻辑表述为数组运算\n",
    "python List Comprehensions 列表推导  \n",
    "numpy Indexing routines np.where()  \n",
    "numpy Random sampling (numpy.random) nr.randn()"
   ]
  },
  {
   "cell_type": "code",
   "execution_count": null,
   "metadata": {},
   "outputs": [],
   "source": [
    "xarr = np.array([1.1,1.2,1.3,1.4,1.5])\n",
    "yarr = np.array([2.1,2.2,2.3,2.4,2.5])\n",
    "cond = np.array([True,False,True,True,False])\n",
    "result = [(x if c else y) for x,y,c in zip(xarr,yarr,cond)]\n",
    "result"
   ]
  },
  {
   "cell_type": "code",
   "execution_count": null,
   "metadata": {},
   "outputs": [],
   "source": [
    "result = np.where(cond,xarr,yarr)\n",
    "result"
   ]
  },
  {
   "cell_type": "code",
   "execution_count": null,
   "metadata": {},
   "outputs": [],
   "source": [
    "from numpy import random as nr\n",
    "arr = nr.randn(4,4)\n",
    "print (arr)\n",
    "print(np.where(arr<0,-2,2))\n",
    "print(np.where(arr<0,arr,2))"
   ]
  },
  {
   "cell_type": "markdown",
   "metadata": {},
   "source": [
    "## 数学和统计方法\n",
    "numpy Statistics  np.mean()  \n",
    "numpy The N-dimensional array (ndarray) ndarray.mean()  \n",
    "numpy The N-dimensional array (ndarray) ndarray.sum()  \n",
    "numpy The N-dimensional array (ndarray) ndarray.cumsum()"
   ]
  },
  {
   "cell_type": "code",
   "execution_count": null,
   "metadata": {
    "scrolled": true
   },
   "outputs": [],
   "source": [
    "arr = nr.randn(5,4)\n",
    "print(arr.mean())\n",
    "print(np.mean(arr))\n",
    "print(arr.sum())\n",
    "print(arr.mean(axis=1))\n",
    "print(arr.sum(0))\n",
    "arr"
   ]
  },
  {
   "cell_type": "code",
   "execution_count": null,
   "metadata": {},
   "outputs": [],
   "source": [
    "arr = np.array([[0,1,2],[3,4,5],[6,7,8]])\n",
    "print(arr.cumsum(0))\n",
    "print(arr.cumprod(1))\n",
    "arr"
   ]
  },
  {
   "cell_type": "markdown",
   "metadata": {},
   "source": [
    "## 用于布尔型数组的方法\n",
    "numpy The N-dimensional array (ndarray) ndarray.any()  \n",
    "numpy The N-dimensional array (ndarray) ndarray.all()  "
   ]
  },
  {
   "cell_type": "code",
   "execution_count": null,
   "metadata": {},
   "outputs": [],
   "source": [
    "arr=nr.randn(100)\n",
    "print((arr>0).sum())#正值的数量\n",
    "bools = np.array([False,False,True,False])\n",
    "print(bools.any())\n",
    "print(bools.all())\n",
    "bools"
   ]
  },
  {
   "cell_type": "markdown",
   "metadata": {},
   "source": [
    "## 排序\n",
    "numpy The N-dimensional array (ndarray) ndarray.sort()"
   ]
  },
  {
   "cell_type": "code",
   "execution_count": null,
   "metadata": {},
   "outputs": [],
   "source": [
    "arr = nr.randn(8)\n",
    "arr"
   ]
  },
  {
   "cell_type": "code",
   "execution_count": null,
   "metadata": {},
   "outputs": [],
   "source": [
    "arr.sort()\n",
    "arr"
   ]
  }
 ],
 "metadata": {
  "kernelspec": {
   "display_name": "Python 3",
   "language": "python",
   "name": "python3"
  },
  "language_info": {
   "codemirror_mode": {
    "name": "ipython",
    "version": 3
   },
   "file_extension": ".py",
   "mimetype": "text/x-python",
   "name": "python",
   "nbconvert_exporter": "python",
   "pygments_lexer": "ipython3",
   "version": "3.7.1"
  }
 },
 "nbformat": 4,
 "nbformat_minor": 2
}
