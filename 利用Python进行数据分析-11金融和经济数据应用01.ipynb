{
 "cells": [
  {
   "cell_type": "markdown",
   "metadata": {},
   "source": [
    "# 数据规整话方面的话题\n",
    "## 时间序列以及截面对齐"
   ]
  },
  {
   "cell_type": "code",
   "execution_count": null,
   "metadata": {},
   "outputs": [],
   "source": [
    "import pandas as pd\n",
    "import numpy as np"
   ]
  },
  {
   "cell_type": "code",
   "execution_count": null,
   "metadata": {
    "scrolled": true
   },
   "outputs": [],
   "source": [
    "! head ../pydata-book-master/ch11/volume.csv"
   ]
  },
  {
   "cell_type": "code",
   "execution_count": null,
   "metadata": {},
   "outputs": [],
   "source": [
    "# 成交价格\n",
    "close_px=pd.read_csv(filepath_or_buffer='../pydata-book-master/ch11/stock_px.csv',\n",
    "                     parse_dates=True,index_col=0)\n",
    "volume=pd.read_csv(filepath_or_buffer='../pydata-book-master/ch11/volume.csv',\n",
    "                     parse_dates=True,index_col=0)\n",
    "prices = close_px.loc['2011-09-05':'2011-09-14', ['AAPL', 'JNJ', 'SPX', 'XOM']]\n",
    "volume = volume.loc['2011-09-05':'2011-09-12', ['AAPL', 'JNJ', 'XOM']]\n",
    "prices"
   ]
  },
  {
   "cell_type": "code",
   "execution_count": null,
   "metadata": {},
   "outputs": [],
   "source": [
    "# 成交量\n",
    "volume"
   ]
  },
  {
   "cell_type": "code",
   "execution_count": null,
   "metadata": {},
   "outputs": [],
   "source": [
    "# pandas dataframe d.mul()\n",
    "prices.mul(other=volume)"
   ]
  },
  {
   "cell_type": "code",
   "execution_count": null,
   "metadata": {},
   "outputs": [],
   "source": [
    "# 计算各个公司股票的加权平均价格\n",
    "# pandas series s.div()\n",
    "vwap = prices.mul(other=volume).sum().div(volume.sum())\n",
    "vwap"
   ]
  },
  {
   "cell_type": "code",
   "execution_count": null,
   "metadata": {},
   "outputs": [],
   "source": [
    "# pandas series s.dropna()\n",
    "# 显式丢弃SPX的缺失值\n",
    "vwap.dropna()"
   ]
  },
  {
   "cell_type": "code",
   "execution_count": null,
   "metadata": {},
   "outputs": [],
   "source": [
    "# 手工对齐\n",
    "# pandas dataframe d.align() join\n",
    "prices.align(other=volume,join='inner')"
   ]
  },
  {
   "cell_type": "code",
   "execution_count": null,
   "metadata": {},
   "outputs": [],
   "source": [
    "# python Built-in Functions range()\n",
    "s1 = pd.Series(range(3),index=['a','b','c'])\n",
    "s2 = pd.Series(range(4),index=['d','b','c','e'])\n",
    "s3 = pd.Series(range(3),index=['f','a','c'])\n",
    "pd.DataFrame({'one':s1,'two':s2,'three':s3})"
   ]
  },
  {
   "cell_type": "code",
   "execution_count": null,
   "metadata": {},
   "outputs": [],
   "source": [
    "# python Built-in Functions list()\n",
    "pd.DataFrame({'one':s1,'two':s2,'three':s3},index=list('face'))"
   ]
  },
  {
   "cell_type": "markdown",
   "metadata": {},
   "source": [
    "## 频率不同的时间序列的运算"
   ]
  },
  {
   "cell_type": "code",
   "execution_count": null,
   "metadata": {},
   "outputs": [],
   "source": [
    "ts1 = pd.Series(np.random.randn(3),\n",
    "                index=pd.date_range(start='2012-6-13',periods=3,freq='W-WED'))\n",
    "ts1"
   ]
  },
  {
   "cell_type": "code",
   "execution_count": null,
   "metadata": {
    "scrolled": true
   },
   "outputs": [],
   "source": [
    "# pandas series s.resample()\n",
    "# pandas Resampling r.mean()\n",
    "ts1.resample(rule='B').mean()"
   ]
  },
  {
   "cell_type": "code",
   "execution_count": null,
   "metadata": {
    "scrolled": true
   },
   "outputs": [],
   "source": [
    "# pandas Resampling r.mean()\n",
    "ts1.resample(rule='B').ffill()"
   ]
  },
  {
   "cell_type": "code",
   "execution_count": null,
   "metadata": {},
   "outputs": [],
   "source": [
    "# pandas Index pd.DatetimeIndex()\n",
    "dates = pd.DatetimeIndex(['2012-6-12','2012-6-17','2012-6-18','2012-6-21','2012-6-22','2012-6-29'])\n",
    "ts2 = pd.Series(np.random.randn(6),index=dates)\n",
    "ts2"
   ]
  },
  {
   "cell_type": "code",
   "execution_count": null,
   "metadata": {},
   "outputs": [],
   "source": [
    "# pandas series s.reindex()\n",
    "ts1.reindex(ts2.index,method='ffill')"
   ]
  },
  {
   "cell_type": "code",
   "execution_count": null,
   "metadata": {},
   "outputs": [],
   "source": [
    "# pandas series s.add()\n",
    "ts2.add(ts1.reindex(ts2.index,method='ffill'))"
   ]
  },
  {
   "cell_type": "markdown",
   "metadata": {},
   "source": [
    "# 分组变化和分析"
   ]
  }
 ],
 "metadata": {
  "kernelspec": {
   "display_name": "Python 3",
   "language": "python",
   "name": "python3"
  },
  "language_info": {
   "codemirror_mode": {
    "name": "ipython",
    "version": 3
   },
   "file_extension": ".py",
   "mimetype": "text/x-python",
   "name": "python",
   "nbconvert_exporter": "python",
   "pygments_lexer": "ipython3",
   "version": "3.7.6"
  }
 },
 "nbformat": 4,
 "nbformat_minor": 2
}
