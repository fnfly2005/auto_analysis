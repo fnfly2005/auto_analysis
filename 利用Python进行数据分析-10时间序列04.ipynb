{
 "cells": [
  {
   "cell_type": "markdown",
   "metadata": {},
   "source": [
    "# 时间序列绘图"
   ]
  },
  {
   "cell_type": "code",
   "execution_count": null,
   "metadata": {},
   "outputs": [],
   "source": [
    "import pandas as pd\n",
    "import numpy as np\n",
    "from matplotlib import pyplot as plt\n",
    "from scipy.stats import percentileofscore"
   ]
  },
  {
   "cell_type": "code",
   "execution_count": null,
   "metadata": {},
   "outputs": [],
   "source": [
    "# pandas dataframe d.resample()\n",
    "# pandas Resampling r.ffill()\n",
    "# pandas dataframe d.info()\n",
    "close_px_all = pd.read_csv('../pydata-book-master/ch09/stock_px.csv',parse_dates=True,index_col=0)\n",
    "close_px = close_px_all.loc[:,['AAPL','MSFT','XOM']]\n",
    "close_px = close_px.resample(rule='B').ffill()\n",
    "close_px.info()"
   ]
  },
  {
   "cell_type": "code",
   "execution_count": null,
   "metadata": {
    "scrolled": true
   },
   "outputs": [],
   "source": [
    "# pandas Indexing and Selecting Data Dataframe[colname]\n",
    "# pandas series s.plot.line()\n",
    "close_px['AAPL'].plot.line()"
   ]
  },
  {
   "cell_type": "code",
   "execution_count": null,
   "metadata": {
    "scrolled": true
   },
   "outputs": [],
   "source": [
    "# pandas dataframe d.plot.line()\n",
    "close_px.loc['2009'].plot.line()"
   ]
  },
  {
   "cell_type": "code",
   "execution_count": null,
   "metadata": {},
   "outputs": [],
   "source": [
    "close_px['AAPL'].loc['2011-01':'2011-03'].plot.line()"
   ]
  },
  {
   "cell_type": "code",
   "execution_count": null,
   "metadata": {
    "scrolled": true
   },
   "outputs": [],
   "source": [
    "appl_q = close_px['AAPL'].resample(rule='Q-DEC').ffill()\n",
    "appl_q.loc['2009':].plot.line()"
   ]
  },
  {
   "cell_type": "markdown",
   "metadata": {},
   "source": [
    "# 移动窗口函数\n",
    "pandas series s.rolling()  \n",
    "pandas Window Rolling.mean()"
   ]
  },
  {
   "cell_type": "code",
   "execution_count": null,
   "metadata": {
    "scrolled": false
   },
   "outputs": [],
   "source": [
    "close_px['AAPL'].plot.line()\n",
    "close_px['AAPL'].rolling(window=250,center=False).mean().plot.line()"
   ]
  },
  {
   "cell_type": "code",
   "execution_count": null,
   "metadata": {
    "scrolled": true
   },
   "outputs": [],
   "source": [
    "# pandas series s.head()\n",
    "# pandas Window Rolling.std()\n",
    "appl_std250 = close_px['AAPL'].rolling(window=250,min_periods=10).std()\n",
    "appl_std250.head(12)"
   ]
  },
  {
   "cell_type": "code",
   "execution_count": null,
   "metadata": {
    "scrolled": true
   },
   "outputs": [],
   "source": [
    "appl_std250.plot.line()"
   ]
  },
  {
   "cell_type": "code",
   "execution_count": null,
   "metadata": {
    "scrolled": true
   },
   "outputs": [],
   "source": [
    "# 通过rolling_mean定义扩展平均\n",
    "# pandas dataframe d.rolling()\n",
    "# pandas Window Rolling.mean()\n",
    "# pandas dataframe d.plot.line()\n",
    "# pandas dataframe d.plot() logy\n",
    "expanding_mean = lambda x: rolling(window=len(x),min_periods=1).mean()\n",
    "close_px.rolling(window=60).mean().plot.line(logy=True)"
   ]
  },
  {
   "cell_type": "markdown",
   "metadata": {},
   "source": [
    "## 指数加权函数\n",
    "另一种固定大小窗口及相等权数观测值的方法是，定义一个衰减因子常量，以便使近期的观测值拥有更大的权数  \n",
    "指数加权统计会赋予近期观测值更大的权数，它能适应更快的变化  \n",
    "matplotlib Pyplot function overview plt.subplots()   \n",
    "matplotlib figure Figure.figsize  \n",
    "pandas series s.rolling() min_periods  \n",
    "matplotlib axes a.set_title()  \n",
    "matplotlib lines color  \n",
    "matplotlib lines linestyle"
   ]
  },
  {
   "cell_type": "code",
   "execution_count": null,
   "metadata": {
    "scrolled": false
   },
   "outputs": [],
   "source": [
    "fig,axes = plt.subplots(nrows=2,ncols=1,sharex=True,sharey=True,figsize=(12,7))\n",
    "aapl_px =close_px.loc['2005':'2009','AAPL']\n",
    "ma60 = aapl_px.rolling(window=60,min_periods=50).mean()\n",
    "ewma60 = aapl_px.ewm(span=60).mean()\n",
    "aapl_px.plot.line(color='k',linestyle='-',ax=axes[0])\n",
    "ma60.plot.line(color='k',linestyle='--',ax=axes[0])\n",
    "aapl_px.plot.line(color='k',linestyle='-',ax=axes[1])\n",
    "ewma60.plot.line(color='k',linestyle='--',ax=axes[1])\n",
    "axes[0].set_title('Simple MA')\n",
    "axes[1].set_title('Exponentially-weighted MA')"
   ]
  },
  {
   "cell_type": "markdown",
   "metadata": {},
   "source": [
    "## 二元移动窗口函数\n",
    "pandas series s.shift()  \n",
    "pandas dataframe d.pct_change()  \n",
    "pandas Window Rolling.corr()  \n",
    "pandas series s.plot.line()"
   ]
  },
  {
   "cell_type": "code",
   "execution_count": null,
   "metadata": {},
   "outputs": [],
   "source": [
    "spx_px = close_px_all['SPX']\n",
    "spx_rets = spx_px / spx_px.shift(periods=1)-1\n",
    "returns = close_px.pct_change()\n",
    "corr = returns['AAPL'].rolling(window=125,min_periods=100).corr(spx_rets)\n",
    "corr.plot.line()"
   ]
  },
  {
   "cell_type": "code",
   "execution_count": null,
   "metadata": {},
   "outputs": [],
   "source": [
    "# pandas dataframe d.rolling() \n",
    "corr = returns.rolling(window=125,min_periods=100).corr(spx_rets)\n",
    "corr.plot.line()"
   ]
  },
  {
   "cell_type": "markdown",
   "metadata": {},
   "source": [
    "## 用户定义的移动窗口函数\n",
    "scipy stats percentileofscore()  \n",
    "pandas window Rolling.apply()"
   ]
  },
  {
   "cell_type": "code",
   "execution_count": null,
   "metadata": {
    "scrolled": true
   },
   "outputs": [],
   "source": [
    "score_at_2percent = lambda x: percentileofscore(x,0.02)\n",
    "result = returns['AAPL'].rolling(window=250).apply(score_at_2percent,raw=True)\n",
    "result.plot.line()"
   ]
  },
  {
   "cell_type": "markdown",
   "metadata": {},
   "source": [
    "# 性能和内存使用方面的注意事项"
   ]
  },
  {
   "cell_type": "code",
   "execution_count": null,
   "metadata": {
    "scrolled": true
   },
   "outputs": [],
   "source": [
    "rng= pd.date_range(start='2000/1/1',periods=10000000,freq='10ms')\n",
    "ts = pd.Series(np.random.randn(len(rng)),index=rng)\n",
    "ts.head()"
   ]
  },
  {
   "cell_type": "code",
   "execution_count": null,
   "metadata": {
    "scrolled": true
   },
   "outputs": [],
   "source": [
    "# pandas series s.resample()\n",
    "# pandas Resampling r.ohlc()\n",
    "# pandas dataframe d.head()\n",
    "tem = ts.resample(rule='15min').ohlc()\n",
    "tem.head()"
   ]
  },
  {
   "cell_type": "code",
   "execution_count": null,
   "metadata": {
    "scrolled": true
   },
   "outputs": [],
   "source": [
    "tem.info()"
   ]
  },
  {
   "cell_type": "code",
   "execution_count": null,
   "metadata": {},
   "outputs": [],
   "source": [
    "%timeit ts.resample(rule='15min').ohlc()"
   ]
  }
 ],
 "metadata": {
  "kernelspec": {
   "display_name": "Python 3",
   "language": "python",
   "name": "python3"
  },
  "language_info": {
   "codemirror_mode": {
    "name": "ipython",
    "version": 3
   },
   "file_extension": ".py",
   "mimetype": "text/x-python",
   "name": "python",
   "nbconvert_exporter": "python",
   "pygments_lexer": "ipython3",
   "version": "3.7.1"
  },
  "toc": {
   "base_numbering": 1,
   "nav_menu": {},
   "number_sections": false,
   "sideBar": true,
   "skip_h1_title": false,
   "title_cell": "Table of Contents",
   "title_sidebar": "Contents",
   "toc_cell": false,
   "toc_position": {},
   "toc_section_display": true,
   "toc_window_display": true
  }
 },
 "nbformat": 4,
 "nbformat_minor": 2
}
