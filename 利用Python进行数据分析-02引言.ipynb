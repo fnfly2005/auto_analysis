{
 "cells": [
  {
   "cell_type": "markdown",
   "metadata": {},
   "source": [
    "# 来自bit.ly的1.usa.gov数据"
   ]
  },
  {
   "cell_type": "code",
   "execution_count": null,
   "metadata": {},
   "outputs": [],
   "source": [
    "path = 'ch02/usagov_bitly_data2012-03-16-1331923249.txt'\n",
    "open(path).readline()"
   ]
  },
  {
   "cell_type": "code",
   "execution_count": null,
   "metadata": {},
   "outputs": [],
   "source": [
    "import json\n",
    "records = [json.loads(line) for line in open(path)]\n",
    "records[0]"
   ]
  },
  {
   "cell_type": "code",
   "execution_count": null,
   "metadata": {},
   "outputs": [],
   "source": [
    "records[0]['tz']"
   ]
  },
  {
   "cell_type": "markdown",
   "metadata": {},
   "source": [
    "### 用纯Python代码对时区进行计数\n",
    "python list类-链表推导 列表推导  \n",
    "python dict类-判断 in  \n",
    "python collections类 defaultdict 默认字典  \n",
    "python list类-修改 sort()  \n",
    "jupyter markdown语法&LaTex语法  \n",
    "python collections类 Counter 字典计数"
   ]
  },
  {
   "cell_type": "code",
   "execution_count": null,
   "metadata": {},
   "outputs": [],
   "source": [
    "time_zones = [rec['tz'] for rec in records if 'tz' in rec]\n",
    "time_zones[:10]"
   ]
  },
  {
   "cell_type": "code",
   "execution_count": null,
   "metadata": {},
   "outputs": [],
   "source": [
    "def get_counts(sequnce):\n",
    "        counts = {}\n",
    "        for x in sequnce:\n",
    "            if x in counts:\n",
    "                counts[x] += 1\n",
    "            else:\n",
    "                counts[x] = 1\n",
    "        return counts\n",
    "\n",
    "#优化版\n",
    "from collections import defaultdict\n",
    "def get_counts2(sequnce):\n",
    "    counts = defaultdict(int)\n",
    "    for x in sequnce:\n",
    "        counts[x] += 1\n",
    "    return counts\n",
    "\"\"\"\n",
    "Python中通过Key访问字典，当Key不存在时，会引发‘KeyError’异常。\n",
    "为了避免这种情况的发生，可以使用collections类中的defaultdict()方法来为字典提供默认值。\n",
    "该函数返回一个类似字典的对象。defaultdict是Python内建字典类（dict）的一个子类，它重写了方法_missing_(key)，\n",
    "增加了一个可写的实例变量default_factory,实例变量default_factory被missing()方法使用，\n",
    "如果该变量存在，则用以初始化构造器，如果没有，则为None。其它的功能和dict一样\n",
    "\"\"\"\n",
    "counts = get_counts(time_zones)\n",
    "print(counts['America/New_York'])\n",
    "print(len(time_zones))"
   ]
  },
  {
   "cell_type": "code",
   "execution_count": null,
   "metadata": {},
   "outputs": [],
   "source": [
    "def top_counts(count_dict,n=10):\n",
    "    value_key_pairs = [(count,tz) for tz,count in count_dict.items()]\n",
    "    value_key_pairs.sort(reverse=True)# 默认对嵌套集合的第一个元素进行排序\n",
    "    return value_key_pairs[:n]\n",
    "top_counts(counts)"
   ]
  },
  {
   "cell_type": "code",
   "execution_count": null,
   "metadata": {},
   "outputs": [],
   "source": [
    "from collections import Counter\n",
    "counts = Counter(time_zones)\n",
    "counts.most_common(10)"
   ]
  }
 ],
 "metadata": {
  "kernelspec": {
   "display_name": "Python 3",
   "language": "python",
   "name": "python3"
  },
  "language_info": {
   "codemirror_mode": {
    "name": "ipython",
    "version": 3
   },
   "file_extension": ".py",
   "mimetype": "text/x-python",
   "name": "python",
   "nbconvert_exporter": "python",
   "pygments_lexer": "ipython3",
   "version": "3.7.1"
  }
 },
 "nbformat": 4,
 "nbformat_minor": 2
}
