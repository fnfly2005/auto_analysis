{
 "cells": [
  {
   "cell_type": "code",
   "execution_count": null,
   "metadata": {},
   "outputs": [],
   "source": [
    "from scipy.stats import norm,t\n",
    "import numpy as np\n",
    "import pandas as pd\n",
    "from matplotlib import pyplot as plt"
   ]
  },
  {
   "cell_type": "markdown",
   "metadata": {},
   "source": [
    "# 实践中的统计\n",
    "Food Lion食品城创立于1957年，是美国最大的连锁超市之一。Food Lion通过高效的运作，比如标准化的存储方式、仓库的创新设计、高效能的设备以及供应商的同步数据，来保持物美价廉  \n",
    "在这样一个库存密集型的企业中，公司决定采取后进先出(LIFO)的库存计价法。该方法将当期成本与当期收益相配比，从根本上降低了激烈的价格变化对利润的影响  \n",
    "Food Lion为7个库存池中的每一个分别建立了LIFO指数，这7个库存池分别为：杂货、纸（家居），宠物、保健和化妆品、奶制品、烟草和酒类  \n",
    "对每个库存池，LIFO指数要求对每种产品的年末库存按当年年末成本和上一年年末成本分别计价  \n",
    "为避免在全部的1200个存储点中对库存逐一进行计数而浪费财力和时间，Food Lion选取50个存储点组成一个简单随机样本。年末仅对这些样本存储点中的库存进行实地盘存 5  \n",
    "去年，保健品和化妆品库存池的LIFO指数的样本估计值为1.015。在95%的置信水平下，Food Lion计算得到样本估计的边际误差为0.006。于是，总体LIFO指数的95%置信水平的区间估计为(1.009,1.021)    \n",
    "本章你将学习如何计算与样本估计相联系的边际误差，以及如何使用这些信息构造并解释总体均值和总体比率的置信区间估计  \n",
    "在第7章，我们发现点估计量是用于估计总体参数的样本统计量。因为我们不可能期望点估计量能给出总体参数的精确值，所以经常在点估计上加减一个被称为**边际误差**的值来计算**区间估计**。下面是区间估计的一般形式  \n",
    "<center>点估计±边际误差</center>\n",
    "\n",
    "区间估计的目的在于提供基于样本得出的点估计值与总体参数值的接近程度的信息 5  \n",
    "本章我们将说明如何对总体均值$\\mu$和总体比率p进行区间估计。总体均值区间估计的一般形式为$$\\bar{x}\\pm边际误差$$  \n",
    "类似地，总体比率区间估计的一般形式为$$\\bar{p}\\pm边际误差$$\n",
    "在计算这些这些区间估计时，$\\bar{x}和\\bar{p}$的抽样分布起着非常重要的作用 5  \n",
    "# 8.1 总体均值：$\\sigma$已知情形\n",
    "为了对总体均值进行区间估计，必须利用总体标准差$\\sigma$或样本标准差s计算边际误差。在大多数的应用中$\\sigma$是未知的，于是s用于计算边际误差  \n",
    "但是在一些应用中，我们在抽样前可以根据大量有关的历史数据估计总体标准差。我们称这种情形为**$\\sigma$已知**  \n",
    "Lloyd百货公司每周选择100名顾客组成一个简单随机样本，目的在于了解他们每次购物的消费总额。根据历史数据，Lloyd假定总体标准差已知，为$\\sigma=20$美元，并且历史数据还显示总体服从正态分布  \n",
    "最近一周，Lloyd公司调查了100名顾客(n=100)，得到样本均值$\\bar{x}=82$美元 。每次购物消费总额的样本均值是总体均值$\\mu$的点估计  \n",
    "## 8.1.1 边际误差和区间估计  \n",
    "在第7章中，我们发现可以利用$\\bar{x}$的抽样分布计算$\\bar{x}$在$\\mu$附近一定距离内的概率 5  \n",
    "因此，利用第7章的知识可知，$\\bar{x}$的抽样分布服从标准误差$\\sigma_{\\bar{x}}=\\sigma/\\sqrt{n}=20/\\sqrt{100}=2$的正态分布，该抽样分布如图8-1所示  \n",
    "因为抽样分布说明$\\bar{x}$的值如何分布在总体均值$\\mu$的附近，所以$\\bar{x}$的抽样分布提供了关于$\\bar{x}$与$\\mu$之间可能存在的差别的信息  \n",
    "利用标准正态概率表，我们发现，任何正态分布随机变量都有95%的值在均值附近±1.96个标准差以内  \n",
    "我们利用消费额总体服从正态分布这一事实，得出$\\bar{x}$的抽样分布服从正态分布的结论。如果总体不服从正态分布，则我们可以根据中心极限定理及样本容量n=100得出$\\bar{x}$的抽样分布近似服从正态分布  \n",
    "图8-1给出了这两种情形下$\\bar{x}$的抽样分布 5  \n",
    "![8-1](../syn_pic/statistics_for_business_economics/8-1.png)\n",
    "<center>图8-1 100名顾客的简单随机样本消费额样本均值的抽样分布</center>\n",
    "\n",
    "![8-2](../syn_pic/statistics_for_business_economics/8-2.png)\n",
    "<center>图8-2 $\\bar{x}$的抽样分布：样本均值在$\\mu \\pm3.92$以内的区域</center>\n",
    "\n",
    "在前文中，总体均值$\\mu$的区间估计的一般形式为$\\bar{x} \\pm$边际误差。在Lloyd公司的例子里，假定令边际误差等于3.92，利用$\\bar{x}\\pm3.92$计算$\\mu$的区间估计  \n",
    "![8-3](../syn_pic/statistics_for_business_economics/8-3.png)\n",
    "<center>图8-3 抽取的样本均值位于$\\bar{x}_1、\\bar{x}_2、\\bar{x}_3$</center>\n",
    "\n",
    "在图8-3中，阴影区域内的任一样本均值$\\bar{x}$所构造的区间均包含总体均值$\\mu$。由于所有样本均值中有95%落在此阴影区域中，所以$\\bar{x}\\pm3.92$所构建的所有区间中，有95%的区间包含总体均值$\\mu$ 5  \n",
    "在最近一周，Lloyd的质量保证部门对100名顾客进行了调查，得到消费额的样本均值$\\bar{x}=82$。利用$\\bar{x}\\pm3.92$构造区间估计，我们得到$82\\pm3.92$  \n",
    "因为，利用$\\bar{x}\\pm3.92$构造的所有区间中有95%包括总体均值，所以我们说：有95%的把握相信区间（78.08，85.92）包括总体均值$\\mu$  \n",
    "因此，称此区间在95%的**置信水平**下建立。数值0.95称作**置信系数**，区间（78.08，85.92）称作95%的**置信区间**  \n",
    "边际误差由$z_{\\alpha/2}(\\sigma/\\sqrt{n})$给出，下面是$\\sigma$已知情形下总体均值区间估计的一般形式  \n",
    "<hr />\n",
    "\n",
    "**总体均值的区间估计：$\\sigma$已知情形**(8-1) 5\n",
    "$$\\bar{x}\\pm z_{\\alpha/2}\\frac{\\sigma}{\\sqrt{n}}$$\n",
    "式中，$1-\\alpha$是置信系数，$ z_{\\alpha/2}$是标准正态概率分布上侧面积为$\\alpha/2$是的z值  \n",
    "<hr />\n",
    "\n",
    "在Lloyd公司例子中，我们利用式(8-1)构造95%的置信区间"
   ]
  },
  {
   "cell_type": "code",
   "execution_count": null,
   "metadata": {},
   "outputs": [],
   "source": [
    "'''\n",
    "python str s.format() f\n",
    "scipy Statistical functions (scipy.stats) norm() n.ppf()\n",
    "'''\n",
    "def normz(val):\n",
    "    '''\n",
    "    数据分析 常用代码 区间估计-已知标准差-Z分数\n",
    "    注意0.95的面积有两个尾部，需要计算的是0.025的面积对应的z    \n",
    "    '''\n",
    "    return norm.ppf((1+val)/2)\n",
    "\n",
    "def conInt(mean,sigma,n,val=0.95):\n",
    "    '''\n",
    "    数据分析 常用代码 区间估计-已知标准差 5\n",
    "    '''\n",
    "    inter=normz(val)*sigma/np.sqrt(n)\n",
    "    return mean+inter,mean-inter\n",
    "\n",
    "def printLloyd(val):\n",
    "    '''\n",
    "    数据分析 常用代码 区间估计-已知标准差v1\n",
    "    '''\n",
    "    Lloyd_max,Lloyd_min=conInt(82,20,100,val)\n",
    "    print('{:.0%}的置信区间为从{:.2f}到{:.2f}'.format(val,Lloyd_min,Lloyd_max))\n",
    "    \n",
    "printLloyd(0.95)"
   ]
  },
  {
   "cell_type": "markdown",
   "metadata": {},
   "source": [
    "虽然95%是经常使用的置信水平，但也可以考虑其他的置信水平，比如90%和99%  "
   ]
  },
  {
   "cell_type": "code",
   "execution_count": null,
   "metadata": {},
   "outputs": [],
   "source": [
    "printLloyd(0.90)\n",
    "printLloyd(0.99)"
   ]
  },
  {
   "cell_type": "markdown",
   "metadata": {},
   "source": [
    "比较90%、95%和99%的置信水平的结果，我们看到：要想达到较高的置信度，必须加大边际误差和置信区间的宽度  \n",
    "## 8.1.2 应用中的建议  \n",
    "如果总体服从正态分布，式(8-1）所给出的置信区间是精确的。如果总体不服从正态分布，则式(8-1）所给出的置信区间是近似的。在这种情形下，近似的程度依赖于总体的分布和样本容量 5  \n",
    "在大部分应用中，当利用式（8-1）建立总体均值的区间估计时，样本容量n≥30已经足够。然而，如果总体的分布不服从正态分布但是大致对称，则样本容量至少为15时才能得到一个好的置信区间的近似  \n",
    "仅当分析人员坚信或者愿意假设总体的分布至少是近似正态时，才可以在更小的样本容量下利用式（8-1）  \n",
    "## 注释  \n",
    "1. 本节所讨论的区间估计方法是在总体标准差$\\sigma$已知的假设下进行的。$\\sigma$已知意味着，在估计总体均值时，我们进行抽样之前可以利用历史数据或者其他信息得到总体标准差$\\sigma$的一个好的近似  \n",
    "2. 在区间估计的表达式（8-1）中，样本容量n出现在分母上。于是，实际应用中当某一具体的样本容量产生的区间太宽时，我们可以考虑增大样本容量。为了达到所希望的精度，确定一个简单随机样本容量的方法将在8.3节中讨论 5   \n",
    "\n",
    "# 8.2 总体均值：$\\sigma$未知情形\n",
    "在建立总体均值的区间估计时，我们通常并没有关于总体标准差的一个好的估计。在这种情形下，我们必须利用同一个样本估计$\\mu和\\sigma$两个未知参数  \n",
    "这属于**$\\sigma$未知**的情形。当利用s估计$\\sigma$时，边际误差和总体均值的区间估计都是以**t分布**的概率分布为依据进行的  \n",
    "虽然t分布的数学推导是以假设抽样总体服从正态分布为依据，但是研究表明，在许多总体分布显著偏离正态分布的情形下，利用t分布的效果还是相当不错的  \n",
    "t分布是由一些相似的概率分布组成的分布簇，一个特定的t分布依赖于被称为**自由度**的参数  \n",
    "当自由度分别为1，2，3，…时，有且仅有唯一的t分布与之相对应。随着自由度的增大，t分布与标准正态分布之间的差别变得越来越小。图8-4给出了自由度分别为10和20时的t分布与标准正态概率分布的关系 5  \n",
    "![8-4](../syn_pic/statistics_for_business_economics/8-4.png)\n",
    "<center>图8-4 自由度为10和20的t分布与标准正态分布的比较</center>\n",
    "\n",
    "我们给t加上下标以表明其在t分布上侧的面积。例如，就像我们用$z_0.025$标识：该值在标准正态概率分布上侧的面积为0.025一样，我们用$t_0.025$表示：该值在t分布上侧的面积为0.025  \n",
    "一般地，用记号$t_{\\alpha/2}$表示该值在t分布上侧的面积为$\\alpha/2$（见图8-5）  \n",
    "![8-5](../syn_pic/statistics_for_business_economics/8-5.png)\n",
    "<center>图8-5 在上侧面积或概率为$\\alpha/2$的t分布</center>\n",
    "\n",
    "附录A中表A-2是一个t分布表。表8-2是该表的一部分。表中的每一行分布与某一自由度的t分布相对应 5  \n",
    "当自由度超过100时，自由度为无穷的那一行可以用于近似实际的t值。换句话讲，当自由度大于100时，标准正态的z值是对t值的一个好的近似  \n",
    "![tb8-2](../syn_pic/statistics_for_business_economics/tb8-2.png)\n",
    "<center>表8-2 t分布表的部分数值</center>\n"
   ]
  },
  {
   "cell_type": "code",
   "execution_count": null,
   "metadata": {},
   "outputs": [],
   "source": [
    "'''\n",
    "scipy Statistical functions (scipy.stats) t() t.ppf()\n",
    "scipy Statistical functions (scipy.stats) t()\n",
    "'''\n",
    "print('对自由度为9的t分布，t_0025={:.2f}'.format(t.ppf(1-0.025,9)))\n",
    "print('对自由度为60的t分布，t_0025={:.2f}'.format(t.ppf(1-0.025,60)))\n",
    "print('对自由度为100的t分布，t_0025={:.2f}'.format(t.ppf(1-0.025,100)))"
   ]
  },
  {
   "cell_type": "markdown",
   "metadata": {},
   "source": [
    "## 8.2.1 边际误差和区间估计  \n",
    "在8.1节，我们给出在$\\sigma$已知的情形下总体均值的区间估计为$$\\bar{x}\\pm z_{\\alpha/2}\\frac{\\sigma}{\\sqrt{n}}$$ 5  \n",
    "在$\\sigma$未知的情形下，为了计算$\\mu$的区间估计，用样本标准差s估计$\\sigma$，用t分布$t_{\\alpha/2}$的值代替$z_{\\alpha/2}$。于是，边际误差为$t_{\\alpha/2}s/\\sqrt{n}$   \n",
    "利用该边际误差，当$\\sigma$未知时，总体均值区间估计的一般公式如下所示  \n",
    "<hr />\n",
    "\n",
    "**总体均值的区间估计：$\\sigma$未知情形**（8-2）$$\\bar{x}\\pm t_{\\alpha/2}\\frac{s}{\\sqrt{n}}$$\n",
    "式中，s为样本标准差，$1-\\alpha$是置信系数。$t_{\\alpha/2}$是自由度为n-1时，使t分布的上侧面积为$t_{\\alpha/2}$的t值  <hr />\n",
    "\n",
    "由于用s作为总体标准差$\\sigma$的估计值，所以在式(8-2)中与t值相对应的自由度为n-1。样本标准差的公式为 5  \n",
    "$$s=\\sqrt{\\frac{\\Sigma{(x_i-\\bar{x})^2}}{n-1}}$$  \n",
    "自由度是计算$\\Sigma{(x_i-\\bar{x})^2}$时用到的信息中独立数据的个数  \n",
    "为说明$\\sigma$未知情形下区间估计的步骤，我们考虑一项用于估计美国家庭总体信用卡债务均值的研究。由n=70个家庭组成的样本的信用卡余额数据如表8-3所示  \n",
    "在这种情况下，没有关于总体标准差$\\sigma$的先验估计。因此，必须利用样本数据同时估计总体均值和总体标准差  \n",
    "我们利用式（8-2）计算信用卡余额的总体均值的区间估计 5  "
   ]
  },
  {
   "cell_type": "code",
   "execution_count": null,
   "metadata": {},
   "outputs": [],
   "source": [
    "'''\n",
    "pandas dataframe d.info()\n",
    "'''\n",
    "hcc_balance=pd.read_csv('../pydata-book-master/statistics_for_business_economics/ch08/NewBalance.csv')\n",
    "hcc_balance.info()"
   ]
  },
  {
   "cell_type": "code",
   "execution_count": null,
   "metadata": {},
   "outputs": [],
   "source": [
    "'''\n",
    "pandas dataframe d.mean()\n",
    "pandas dataframe d.std()\n",
    "scipy Statistical functions (scipy.stats) t() t.ppf()\n",
    "python str s.format() %\n",
    "'''\n",
    "hcc_mean=hcc_balance.mean()[0]\n",
    "hcc_std=hcc_balance.std()[0]\n",
    "n=len(hcc_balance)\n",
    "freedom=n-1\n",
    "\n",
    "def tz(val,n):\n",
    "    '''\n",
    "    数据分析 常用代码 区间估计-未知标准差-Z分数\n",
    "    注意0.95的面积有两个尾部，需要计算的是0.025的面积对应的z    \n",
    "    '''\n",
    "    return t.ppf((1+val)/2,n)\n",
    "\n",
    "t_0025=tz(0.95,freedom)\n",
    "\n",
    "def printConfidenceInterval(mean,sigma,n,freedom,val=0.95):\n",
    "    '''\n",
    "    数据分析 常用代码 区间估计-未知标准差\n",
    "    '''\n",
    "    inter=tz(val,freedom)*sigma/np.sqrt(n)\n",
    "    print('均值在{:.0%}的置信水平下，介于{:.0f}到{:.0f}'.format(val,mean-inter,mean+inter))\n",
    "        \n",
    "printConfidenceInterval(hcc_mean,hcc_std,n,freedom)"
   ]
  },
  {
   "cell_type": "markdown",
   "metadata": {},
   "source": [
    "## 8.2.2 应用中的建议  \n",
    "如果总体服从正态分布，式（8-2）所给出的置信区间是精确的，并且适用于任何样本容量。如果总体不服从正态分布，则式（8-2）所给出的置信区间是近似的。在这种情形下，近似的程度依赖于总体的分布和样本容量  \n",
    "在大部分应用中，当利用式（8-2）建立总体均值的区间估计时，样本容量n≥30已经足够大。然而，如果总体的分布是严重偏斜或者包含异常点时，大部分统计学家建议将样本容量增加到50或者更大  \n",
    "如果总体的分布不是正态分布但是大致对称，则在样本容量15时便能得到好的置信区间的近似。仅当分析人员坚信或者愿意假设总体的分布至少是近似正态时，才可以在更小的样本容量下利用式（8-2） 5  \n",
    "## 8.2.3 利用小样本\n",
    "在下面的例子中，我们在小样本容量下考虑如何建立总体均值的区间估计。正如所强调的那样，在决定区间估计方法能否给出可以接受的结果时，对总体分布的了解成为一个因素  \n",
    "Scheer Industries 正在考虑使用一种新型的计算机辅助程序来培训维修员工修理机器。为了对这种程序有一个全面的评估，生产负责人要求对维修员工完成该计算机辅助培训所需时间的总体均值进行估计  \n",
    "选取20名维修员工组成一个样本，样本中每一名员工都完成了培训计划。每名员工所需培训时间的数据列在表8-4中。图8-7是样本数据的直方图  \n",
    "首先，样本数据不能支持我们做出总体服从正态分布的结论，但是，我们也没有发现任何偏斜或者异常值方面的证据。因此，根据上一节的提示，我们的结论是：对于这20名员工组成的样本，以t分布为依据进行区间估计似乎是可以接受的  \n",
    "样本均值和样本标准差的计算如下： 5  "
   ]
  },
  {
   "cell_type": "code",
   "execution_count": null,
   "metadata": {},
   "outputs": [],
   "source": [
    "'''\n",
    "numpy Array creation routines np.arange() step\n",
    "pandas General functions pd.cut() right\n",
    "pandas series s.value_counts()\n",
    "matplotlib Pyplot function overview plt.bar() width\n",
    "matplotlib Pyplot function overview plt.xlabel()\n",
    "'''\n",
    "scheer=pd.read_csv('../pydata-book-master/statistics_for_business_economics/ch08/Scheer.csv')\n",
    "scheer_cut=pd.cut(scheer['Days'],np.arange(40,70,5),labels=np.arange(40,65,5),right=False)\n",
    "scheer_cut.value_counts().sort_index().plot.bar(width=1,color='gray',edgecolor='black')\n",
    "plt.xticks(rotation=360)\n",
    "plt.xlabel('scheer time/day')\n",
    "plt.ylabel('frequency')\n",
    "plt.show()"
   ]
  },
  {
   "cell_type": "code",
   "execution_count": null,
   "metadata": {},
   "outputs": [],
   "source": [
    "def printDfConfidenceInterval(df,val=0.95):\n",
    "    '''\n",
    "    数据分析 常用代码 区间估计-未知标准差v1\n",
    "    '''\n",
    "    mean=df.mean()[0]\n",
    "    std=df.std()[0]\n",
    "    n=len(df)\n",
    "    freedom=n-1\n",
    "    inter=tz(val,freedom)*std/np.sqrt(n)\n",
    "    print('均值在{:.0%}的置信水平下，介于{:.1f}到{:.1f}'.format(val,mean-inter,mean+inter))\n",
    "    \n",
    "printDfConfidenceInterval(scheer)"
   ]
  },
  {
   "cell_type": "markdown",
   "metadata": {},
   "source": [
    "利用样本数据的直方图了解总体的分布时，并不总能得到令人信服的结论。通常直方图联通分析人员的部分判断来确定是否可以利用式（8-2）进行区间估计  "
   ]
  }
 ],
 "metadata": {
  "kernelspec": {
   "display_name": "Python 3",
   "language": "python",
   "name": "python3"
  },
  "language_info": {
   "codemirror_mode": {
    "name": "ipython",
    "version": 3
   },
   "file_extension": ".py",
   "mimetype": "text/x-python",
   "name": "python",
   "nbconvert_exporter": "python",
   "pygments_lexer": "ipython3",
   "version": "3.7.1"
  },
  "toc": {
   "base_numbering": 1,
   "nav_menu": {},
   "number_sections": false,
   "sideBar": true,
   "skip_h1_title": false,
   "title_cell": "Table of Contents",
   "title_sidebar": "Contents",
   "toc_cell": false,
   "toc_position": {},
   "toc_section_display": true,
   "toc_window_display": false
  }
 },
 "nbformat": 4,
 "nbformat_minor": 4
}
