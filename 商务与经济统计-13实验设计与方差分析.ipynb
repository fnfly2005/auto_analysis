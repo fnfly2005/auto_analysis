{
 "cells": [
  {
   "cell_type": "code",
   "execution_count": null,
   "metadata": {},
   "outputs": [],
   "source": [
    "import pandas as pd\n",
    "import numpy as np"
   ]
  },
  {
   "cell_type": "markdown",
   "metadata": {},
   "source": [
    "# 实践中的统计\n",
    "Burke市场营销服务公司是工业界最富有经验的市场研究机构之一  \n",
    "在一项研究中，Burke受聘于一家公司来为儿童干谷类食品的潜在新品种做出评价。Anon产品开发者认为可能改善谷类食品味道的四个关键因素为：  \n",
    "1. 谷类食品中小麦与玉米的比例\n",
    "2. 甜味剂的类型：食糖、蜂蜜或人工增甜剂  \n",
    "3. 有无果味香精 5  \n",
    "4. 加工时间的长短  \n",
    "\n",
    "Burke设计了一个用于确定这四个因素对谷类食品味道将会产生什么影响的实验  \n",
    "例如，一种测试的谷类食品是在某个特定的小麦与玉米的比例、食糖、果味香精和短加工时间条件下制成的  \n",
    "另一种测试的谷类食品是在小麦与玉米的比例不同，但其他三个因素相同的条件下制成的，等等  \n",
    "方差分析是一种统计方法，我们使用这种方法来研究儿童品尝谷类食品的味道得到的数据。下面显示的是分析结果： 5   \n",
    "+ 谷类食品的成分及甜味剂的类型对味道评价的影响很大  \n",
    "+ 果味香精事实上破坏了谷类食品的味道  \n",
    "+ 加工时间对谷类食品的味道没有影响  \n",
    "\n",
    "这些信息帮助Anon公司识别出了可能生产出最佳味道谷类食品的因素  \n",
    "Burke进行的实验设计及随后的方差分析对生产谷类食品的设计方案很有助益 5  \n",
    "在第1章里我们提到，统计研究可以分为实验性研究与观测性研究两类。在实验性统计研究中，数据是通过实验产生的。一项实验首先要从确定一个我们感兴趣的变量开始  \n",
    "然后确定并控制一个或多个其他变量，这些其他变量与我们感兴趣的变量是相关的；于此同时，收集这些变量如何影响我们感兴趣的那一个变量的数据  \n",
    "在观测性研究中，我们经常是通过抽样调查，而不是通过控制一项实验来获取数据。一些好的设计原则仍然会得到试用，但是严格控制一项实验性统计研究往往是不可能的  \n",
    "在本章中，我们介绍三种类型的实验设计：完全随机化设计、随机化区组设计以及析因设实验  \n",
    "对于每一种实验设计，我们将要说明，方差分析的统计方法如何能用于现有数据的分析。我们也可以使用ANOVA来分析通过观测性研究得到的数据 5  \n",
    "在13.1节，我们将介绍实验性研究的基本原理，并且将说明，如何将这些基本原理应用到完全随机化设计中  \n",
    "在接下来的几节中，我们将讨论多重比较方法和另外另个有广泛应用的实验设计：随机化区组设计和析因实验 5  \n",
    "# 13.1 实验设计和方差分析简介  \n",
    "作为实验性统计研究的例子，我们考虑Chemitech公司遇到的问题。公司的工程部负责确定新过滤系统的最佳装配方法  \n",
    "考虑了各种更可能的装配方法后，工程部将范围缩小至三种方法：方法A、方法B及方法C。Chemitech公司希望确定：哪种装配方法能使每周生产的过滤系统的数量最多  \n",
    "在Chemitech公司的实验中，装配方法是独立变量或**因子**。因为对应于这个因子有三种装配方法，所以我们说这一实验有三个处理；每个**处理**对应于三种装配方法中的一种  \n",
    "Chemitech公司的问题是一个**单因子实验**的示例；该问题只涉及一个定性因子（装配方法）。更为复杂的实验可能由多个因子组成；其中有些因子可能是定性的，有些因子可能是定量的  \n",
    "三种装配方法或处理确定了Chemitech公司实验的三个总体。第一个总体是使用装配方法A的全体工人，第二个总体是使用装配方法B的全体工人，第三个总体是使用装配方法C的全体工人 5  \n",
    "注意，对每个总体，因变量或**响应变量**是每周装配的过滤系统的数量，并且该实验的主要统计目的是确定：三个总体每周所生产的过滤系统的平均数量是否相同  \n",
    "假设从Chemitech公司生产车间的全体装配工人中抽取3名工人组成一个随机样本。用试验设计的术语，三名随机抽取的工人是**实验单元**  \n",
    "我们将在Chemitech公司的问题中使用的实验设计成为**完全随机化设计**。这种类型的设计要求将每一种装配方法或处理随机地指派给一个实验单元或一名工人   \n",
    "如图本例所解释的那样，随机化的概念是所有实验设计的一个重要原则  \n",
    "注意：这个实验对每个处理只会得到一个装配好的过滤系统的测度或数量。对于每种装配方法，为了得到更多的数据，我们必须重复或复制基本的实验过程 5  \n",
    "复制的过程是实验设计的另一个重要原则，图13-1显示了Chemitech公司实验的完全随机化设计  \n",
    "![13-1](../syn_pic/statistics_for_business_economics/13-1.png)\n",
    "<center>图13-1 评价Chemitech公司装配方法实验的完全随机化设计</center>\n",
    "\n",
    "## 13.1.1 数据收集  \n",
    "一旦我们对实验设计感到满意，我们将进行收集和分析数据的工作。在指派装配方法及培训工作都已经完成后，在一周内每名工人装配的过滤系统的数量如表13-1所示  \n",
    "<center>表13-1 15名工人生产的过滤系统的数量</center>\n"
   ]
  },
  {
   "cell_type": "code",
   "execution_count": null,
   "metadata": {},
   "outputs": [],
   "source": [
    "'''\n",
    "读取 5\n",
    "'''\n",
    "Chemitech=pd.read_csv('../pydata-book-master/statistics_for_business_economics/ch13/Chemitech.csv')\n",
    "Chemitech"
   ]
  },
  {
   "cell_type": "code",
   "execution_count": null,
   "metadata": {},
   "outputs": [],
   "source": [
    "'''\n",
    "python\tpandas\tdataframe\td.var()\n",
    "python\tpandas\tdataframe\td.std()\n",
    "'''\n",
    "Chemitech_mean=Chemitech.mean()\n",
    "print(Chemitech_mean.to_string())\n",
    "print('-'*20)\n",
    "Chemitech_var=Chemitech.var()\n",
    "print(Chemitech_var.to_string())\n",
    "print('-'*20)\n",
    "print(Chemitech.std().to_string())"
   ]
  },
  {
   "cell_type": "markdown",
   "metadata": {},
   "source": [
    "真正的问题是，观察到的三个样本均值之间的差异是否足够大，以致我们能够得出结论：对应于三种装配方法的总体均值是不同的。为了用统计术语来描述这一问题，我们引入下列记号  \n",
    "$\\mu_1$——使用装配方法A每周生产的过滤系统的数量  \n",
    "$\\mu_2$——使用装配方法B每周生产的过滤系统的数量  \n",
    "$\\mu_3$——使用装配方法C每周生产的过滤系统的数量 5\n",
    "尽管我们根本不可能知道$\\mu_1$,$\\mu_2$,$\\mu_3$的实际数值，但我们还是试图用样本均值来检验下面的假设  \n",
    "$$H_0:\\mu_1=\\mu_2=\\mu_3$$\n",
    "$$H_a:总体均值不全相等$$  \n",
    "正如我们很快将要证明的那样，利用方差分析这一统计方法可以确定，在三个样本均值之间观察到的差异是否足够达到可以拒绝$H_0$  \n",
    "## 13.1.2 方差分析的假定  \n",
    "应用方差分析需要三个假定 5  \n",
    "1. **对每个总体，响应变量服从正态分布**。这就意味着：在Chemitech公司的实验中，对于每一种装配方法，每周生产的过滤系统的数量必须服从正态分布  \n",
    "2. **响应变量的方差，记为$\\sigma^2$，对所有总体都是相同的**。这就意味着：在Chemitech公司的实验中，对于每一种装配方法，每周生产的过滤系统数量的方差必须是相同的  \n",
    "3. **观测值必须是独立的**。这就意味着：在Chemitech公司的实验中，对于每一种装配方法，每周生产的过滤系统的数量必须与任何其他工人每周生产的过滤系统的数量独立  \n",
    "\n",
    "## 13.1.3 方差分析：概念性综述  \n",
    "如果三个总体均值相等，我们可以期望三个样本均值彼此之间很接近。如果样本均值的变异性“小”，则支持$H_0$；如果样本均值的变异性“大”，则支持$H_a$  \n",
    "如果原假设$H_0:\\mu_1=\\mu_2=\\mu_3$为真，则我们可以利用样本均值之间的变异性建立$\\sigma^2$的一个估计 5  \n",
    "首先，我们注意到：如果方差分析的假设成立，则每一个样本都是来自均值为$\\mu$、方差为$\\sigma^2$的同一正态分布。图13-2用图示说明了这一抽样分布  \n",
    "![13-2](../syn_pic/statistics_for_business_economics/13-2.png)\n",
    "<center>图13-2 $H_0$为真时$\\bar{x}$的抽样分布</center>\n",
    "\n",
    "于是，如果原假设为真，我们可以把由表13-1得到的三个样本均值$\\bar{x}_1=62,\\bar{x}_2=66,\\bar{x}_3=52$中的每一个，都认为是从图13-2所表示的抽样分布中随机抽取的数值  \n",
    "在这种情况下，三个样本均值$\\bar{x}_1、\\bar{x}_2和\\bar{x}_3$的均值与方差可以用来估计该抽样分布的均值与方差 5  "
   ]
  },
  {
   "cell_type": "code",
   "execution_count": null,
   "metadata": {},
   "outputs": [],
   "source": [
    "'''\n",
    "python\tpandas\tseries\ts.mean()\n",
    "python\tpandas\tseries\ts.var()\n",
    "'''\n",
    "print('该抽样分布的均值为{:.0f}'.format(Chemitech_mean.mean()))\n",
    "print('该抽样分布的方差为{:.0f}'.format(Chemitech_mean.var()))"
   ]
  },
  {
   "cell_type": "code",
   "execution_count": null,
   "metadata": {},
   "outputs": [],
   "source": [
    "Chemitech_mean.var()*len(Chemitech)"
   ]
  },
  {
   "cell_type": "markdown",
   "metadata": {},
   "source": [
    "由$\\sigma^2_{\\bar{x}}=\\sigma^2/n$，解得$$\\sigma^2=n\\sigma^2_{\\bar{x}}$$\n",
    "于是$$\\sigma^2的估计值=n\\times(\\sigma^2_{\\bar{x}}的估计量)=ns^2_{\\bar{x}}=5\\times52=260$$ \n",
    "5  \n",
    "所得结果$ns^2_{\\bar{x}}=260$称为$\\sigma^2$的处理间估计  \n",
    "$\\sigma^2$的处理间估计的根据是：原假设为真。在这种情形下，每个样本都来自同一个总体，并且$\\bar{x}$只有一个抽样分布  \n",
    "为了说明$H_0$为假时发生了什么情况，假定总体均值全不相同。注意，由于三个样本分布来自均值不同的三个正态分布，因此将导致有三个不同的抽样分布。图13-3表明在这种情形下，样本均值批次之间不再像$H_0$为真时那样接近  \n",
    "![13-3](../syn_pic/statistics_for_business_economics/13-3.png)\n",
    "<center>图13-3 $H_0$为假时$\\bar{x}$的抽样分布</center>\n",
    "\n",
    "一般地，当总体均值不相等时，处理间估计将会高估总体方差$\\sigma^2$ 5    \n",
    "每个样本内部的变异也会对我们得到的方差分析的结论产生影响。当我们从每一个总体抽取一个随机样本时，每个样本方差都给出了$\\sigma^2$的一个无偏估计  \n",
    "因此，我们可以将$\\sigma^2$的个别估计组合或合并成一个总的估计。用这种方法得到的$\\sigma^2$的估计称为$\\sigma^2$的合并估计或处理内估计  \n",
    "因为每个样本方差给出的$\\sigma^2$的估计仅以每个样本内部的变异为依据，因此，$\\sigma^2$的处理内估计不受总体均值是否相等的影响  \n",
    "当样本容量相等时，$\\sigma^2$的处理内估计可以通过计算个别样本方差的算数平均值得到  "
   ]
  },
  {
   "cell_type": "code",
   "execution_count": null,
   "metadata": {},
   "outputs": [],
   "source": [
    "'''\n",
    "5  \n",
    "'''\n",
    "print('sigma^2的处理内估计={:.2f}'.format(Chemitech_var.mean()))"
   ]
  },
  {
   "cell_type": "markdown",
   "metadata": {},
   "source": [
    "在Chemitech公司实验的例子中，"
   ]
  }
 ],
 "metadata": {
  "kernelspec": {
   "display_name": "Python 3",
   "language": "python",
   "name": "python3"
  },
  "language_info": {
   "codemirror_mode": {
    "name": "ipython",
    "version": 3
   },
   "file_extension": ".py",
   "mimetype": "text/x-python",
   "name": "python",
   "nbconvert_exporter": "python",
   "pygments_lexer": "ipython3",
   "version": "3.7.1"
  },
  "toc": {
   "base_numbering": 1,
   "nav_menu": {},
   "number_sections": false,
   "sideBar": true,
   "skip_h1_title": false,
   "title_cell": "Table of Contents",
   "title_sidebar": "Contents",
   "toc_cell": false,
   "toc_position": {},
   "toc_section_display": true,
   "toc_window_display": false
  }
 },
 "nbformat": 4,
 "nbformat_minor": 4
}
