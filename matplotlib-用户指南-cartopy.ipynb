{
 "cells": [
  {
   "cell_type": "markdown",
   "metadata": {},
   "source": [
    "# 网站链接\n",
    "官方教程：https://scitools.org.uk/cartopy/docs/latest/"
   ]
  },
  {
   "cell_type": "markdown",
   "metadata": {},
   "source": [
    "# Introduction\n",
    "Cartopy is a Python package designed for geospatial data processing in order to produce maps and other geospatial data analyses."
   ]
  },
  {
   "cell_type": "markdown",
   "metadata": {},
   "source": [
    "# Getting started\n",
    "## Installing Cartopy\n",
    "\n",
    "The easiest route to installing cartopy is through Conda.  \n",
    "> conda install -c conda-forge cartopy\n",
    "\n",
    "other method:https://scitools.org.uk/cartopy/docs/latest/installing.html#installing"
   ]
  },
  {
   "cell_type": "markdown",
   "metadata": {},
   "source": [
    "## Coordinate reference systems in Cartopy\n",
    "https://scitools.org.uk/cartopy/docs/latest/crs/index.html  \n",
    "#### The cartopy.crs.CRS class is the very core of cartopy, all coordinate reference systems in cartopy have CRS as a parent class, meaning all projections have the interface described below\n",
    "class cartopy.crs.CRS(proj4_params, globe=None)  \n",
    "Define a Coordinate Reference System using proj.\n",
    "\n",
    "#### The Globe class is used to encapsulate the underlying sphere or ellipsoid of any cartopy CRS. All CRSs have an associated Globe, though often it is just the default Globe which represents the reference ellipsoid (i.e. “wgs84”).\n",
    "class cartopy.crs.Globe(self, datum=None, ellipse='WGS84', semimajor_axis=None, semiminor_axis=None, flattening=None, inverse_flattening=None, towgs84=None, nadgrids=None)  \n",
    "Define an ellipsoid and, optionally, how to relate it to the real world.\n",
    "\n",
    "#### The most common CRS subclass is itself another abstract class; the cartopy.crs.Projection class represents a 2 dimensional coordinate system which could be drawn directly as a map (i.e. on a flat piece of paper). Projection is the parent class of all projections in the Cartopy projection list.\n",
    "class cartopy.crs.Projection  \n",
    "Define a projected coordinate system with flat topology and Euclidean distance\n",
    "\n",
    "#### There are a few non-Projection subclasses. These represent coordinate reference systems which are 3 dimensional and could not be drawn directly on a piece of paper.\n",
    "+ class cartopy.crs.Geodetic(self, globe=None)  \n",
    "Define a latitude/longitude coordinate system with spherical topology, geographical distance and coordinates are measured in degrees.\n",
    "+ class cartopy.crs.Geocentric(self, globe=None)  \n",
    "Define a Geocentric coordinate system, where x, y, z are Cartesian coordinates from the center of the Earth.\n",
    "+ class cartopy.crs.RotatedGeodetic(pole_longitude, pole_latitude, central_rotated_longitude=0.0, globe=None)  \n",
    "Define a rotated latitude/longitude coordinate system with spherical topology and geographical distance.\n",
    "\n",
    "#### There is also a function for calling epsg.io with a specified code, returning the corresponding cartopy projection, see below.\n",
    "cartopy.crs.epsg(code)  \n",
    "Return the projection which corresponds to the given EPSG code\n",
    "\n",
    "## Cartopy projection list\n",
    "https://scitools.org.uk/cartopy/docs/latest/crs/projections.html"
   ]
  },
  {
   "cell_type": "markdown",
   "metadata": {},
   "source": [
    "## Using cartopy with matplotlib"
   ]
  }
 ],
 "metadata": {
  "kernelspec": {
   "display_name": "Python 3",
   "language": "python",
   "name": "python3"
  },
  "language_info": {
   "codemirror_mode": {
    "name": "ipython",
    "version": 3
   },
   "file_extension": ".py",
   "mimetype": "text/x-python",
   "name": "python",
   "nbconvert_exporter": "python",
   "pygments_lexer": "ipython3",
   "version": "3.7.1"
  }
 },
 "nbformat": 4,
 "nbformat_minor": 2
}
