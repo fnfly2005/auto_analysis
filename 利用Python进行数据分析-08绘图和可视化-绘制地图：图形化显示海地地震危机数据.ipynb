{
 "cells": [
  {
   "cell_type": "code",
   "execution_count": null,
   "metadata": {},
   "outputs": [],
   "source": [
    "import pandas as pd\n",
    "import numpy as np\n",
    "import matplotlib.pyplot as plt"
   ]
  },
  {
   "cell_type": "code",
   "execution_count": null,
   "metadata": {},
   "outputs": [],
   "source": [
    "data= pd.read_csv('../pydata-book-master/ch08/Haiti.csv')\n",
    "data.info()"
   ]
  },
  {
   "cell_type": "code",
   "execution_count": null,
   "metadata": {},
   "outputs": [],
   "source": [
    "data.loc[:,['INCIDENT DATE','LATITUDE','LONGITUDE']].iloc[:10,:]"
   ]
  },
  {
   "cell_type": "code",
   "execution_count": null,
   "metadata": {},
   "outputs": [],
   "source": [
    "#pandas series s.iloc[]\n",
    "data.loc[:,'CATEGORY'].iloc[:6]"
   ]
  },
  {
   "cell_type": "code",
   "execution_count": null,
   "metadata": {},
   "outputs": [],
   "source": [
    "#pandas dataframe d.describe()\n",
    "data.describe()"
   ]
  },
  {
   "cell_type": "code",
   "execution_count": null,
   "metadata": {},
   "outputs": [],
   "source": [
    "# pandas series s.notna()  \n",
    "# pandas series s.lt()\n",
    "# pandas series s.gt()\n",
    "data =data.loc[(data.loc[:,'LATITUDE'].gt(18)) & (data.loc[:,'LATITUDE'].lt(20) ) & \n",
    "               (data.loc[:,'LONGITUDE'].gt(-75)) & (data.loc[:,'LONGITUDE'].lt(-70)) &\n",
    "              data.loc[:,'CATEGORY'].notna()]\n",
    "data.describe()"
   ]
  },
  {
   "cell_type": "code",
   "execution_count": null,
   "metadata": {},
   "outputs": [],
   "source": [
    "# python str s.split()\n",
    "# python Comparisons in and not in\n",
    "# python str s.strip()\n",
    "cat = '2. Urgences logistiques | Vital Lines'\n",
    "code,names = cat.split('.')\n",
    "print('|' in names)"
   ]
  },
  {
   "cell_type": "code",
   "execution_count": null,
   "metadata": {},
   "outputs": [],
   "source": [
    "names =names.split('|')[1]\n",
    "(code,names.strip())"
   ]
  },
  {
   "cell_type": "code",
   "execution_count": null,
   "metadata": {},
   "outputs": [],
   "source": [
    "# 分步骤\n",
    "# python Built-in Function set()\n",
    "# python Sequence Types — list, tuple, range s.append()\n",
    "cat_series = data.loc[:,'CATEGORY']\n",
    "catstr = cat_series.iloc[0]\n",
    "stripped=[]\n",
    "stripped.append(catstr.split(',')[0].strip())\n",
    "print (stripped)\n",
    "stripped.append(catstr.split(',')[1].strip())\n",
    "print (stripped)\n",
    "print(catstr.split(',')[2].strip()!='')\n",
    "print (set(stripped))\n",
    "catstr1 = cat_series.iloc[1]\n",
    "stripped1=[]\n",
    "stripped1.append(catstr1.split(',')[0].strip())\n",
    "print (stripped1)\n",
    "print(catstr1.split(',')[1].strip()!='')\n",
    "print (set(stripped1))\n",
    "print((set(stripped),set(stripped1)))"
   ]
  }
 ],
 "metadata": {
  "kernelspec": {
   "display_name": "Python 3",
   "language": "python",
   "name": "python3"
  },
  "language_info": {
   "codemirror_mode": {
    "name": "ipython",
    "version": 3
   },
   "file_extension": ".py",
   "mimetype": "text/x-python",
   "name": "python",
   "nbconvert_exporter": "python",
   "pygments_lexer": "ipython3",
   "version": "3.7.1"
  }
 },
 "nbformat": 4,
 "nbformat_minor": 2
}
