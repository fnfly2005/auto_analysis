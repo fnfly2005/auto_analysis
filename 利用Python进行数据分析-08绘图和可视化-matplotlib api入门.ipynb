{
 "cells": [
  {
   "cell_type": "markdown",
   "metadata": {},
   "source": [
    "numpy Array creation routines np.arange()  \n",
    "matplotlib Pyplot function overview plt.plot()"
   ]
  },
  {
   "cell_type": "code",
   "execution_count": null,
   "metadata": {},
   "outputs": [],
   "source": [
    "import matplotlib.pyplot as plt\n",
    "import numpy as np\n",
    "plt.plot(np.arange(10))"
   ]
  },
  {
   "cell_type": "markdown",
   "metadata": {},
   "source": [
    "#  Figure和Subplot\n",
    "matplotlib Pyplot function overview plt.figure()  \n",
    "matplotlib figure f.add_subplot()  \n",
    "numpy Random sampling (numpy.random) np.random.randn()  \n",
    "numpy Mathematical functions np.cumsum()  \n",
    "matplotlib axes a.plot()  \n",
    "matplotlib axes a.clear()  \n",
    "matplotlib axes a.hist()  \n",
    "matplotlib axes a.scatter()  \n",
    "matplotlib Pyplot function overview plt.subplots()  \n",
    "matplotlib patches Patch.alpha"
   ]
  },
  {
   "cell_type": "code",
   "execution_count": null,
   "metadata": {
    "scrolled": true
   },
   "outputs": [],
   "source": [
    "fig = plt.figure()\n",
    "ax1 = fig.add_subplot(221)\n",
    "ax2 = fig.add_subplot(222)\n",
    "ax3 = fig.add_subplot(2,2,3)"
   ]
  },
  {
   "cell_type": "code",
   "execution_count": null,
   "metadata": {
    "scrolled": false
   },
   "outputs": [],
   "source": [
    "ax3.plot(np.random.randn(50).cumsum(),'k--')\n",
    "fig"
   ]
  },
  {
   "cell_type": "code",
   "execution_count": null,
   "metadata": {
    "scrolled": true
   },
   "outputs": [],
   "source": [
    "ax1.clear()\n",
    "_ =ax1.hist(np.random.randn(100),bins=20,color='k',alpha=0.5)\n",
    "fig"
   ]
  },
  {
   "cell_type": "code",
   "execution_count": null,
   "metadata": {
    "scrolled": true
   },
   "outputs": [],
   "source": [
    "ax2.clear()\n",
    "ax2.scatter(np.arange(30),np.arange(30)+3*np.random.randn(30))\n",
    "fig"
   ]
  },
  {
   "cell_type": "code",
   "execution_count": null,
   "metadata": {},
   "outputs": [],
   "source": [
    "fig,axes =plt.subplots(2,3)\n",
    "axes[0]"
   ]
  },
  {
   "cell_type": "markdown",
   "metadata": {},
   "source": [
    "##    调整subplot周围的间距"
   ]
  },
  {
   "cell_type": "markdown",
   "metadata": {},
   "source": [
    "#    颜色、标记和线型\n"
   ]
  },
  {
   "cell_type": "markdown",
   "metadata": {},
   "source": [
    "#    刻度、标签和图例\n"
   ]
  },
  {
   "cell_type": "markdown",
   "metadata": {},
   "source": [
    "##    设置标题、轴标签、刻度以及刻度标签\n"
   ]
  },
  {
   "cell_type": "markdown",
   "metadata": {},
   "source": [
    "##    添加图例\n"
   ]
  },
  {
   "cell_type": "markdown",
   "metadata": {},
   "source": [
    "#    注解以及在Subplot上绘图\n"
   ]
  },
  {
   "cell_type": "markdown",
   "metadata": {},
   "source": [
    "#    将图表保存到文件"
   ]
  },
  {
   "cell_type": "markdown",
   "metadata": {},
   "source": [
    "# matplotlib配置"
   ]
  }
 ],
 "metadata": {
  "kernelspec": {
   "display_name": "Python 3",
   "language": "python",
   "name": "python3"
  },
  "language_info": {
   "codemirror_mode": {
    "name": "ipython",
    "version": 3
   },
   "file_extension": ".py",
   "mimetype": "text/x-python",
   "name": "python",
   "nbconvert_exporter": "python",
   "pygments_lexer": "ipython3",
   "version": "3.7.1"
  }
 },
 "nbformat": 4,
 "nbformat_minor": 2
}
