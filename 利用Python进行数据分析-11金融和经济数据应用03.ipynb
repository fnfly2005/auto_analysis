{
 "cells": [
  {
   "cell_type": "code",
   "execution_count": null,
   "metadata": {},
   "outputs": [],
   "source": [
    "import pandas as pd\n",
    "import numpy as np\n",
    "import pandas_datareader.data as web"
   ]
  },
  {
   "cell_type": "markdown",
   "metadata": {},
   "source": [
    "# 信号前沿分析\n",
    "pandas pandas_datareader.data  pdr.data.get_data_yahoo()  \n",
    "pandas dataframe d.asfreq()  \n",
    "pandas dataframe d.fillna()  \n",
    "pandas dataframe d.head()  "
   ]
  },
  {
   "cell_type": "code",
   "execution_count": null,
   "metadata": {
    "scrolled": false
   },
   "outputs": [],
   "source": [
    "names  = ['AAPL','GOOG','MSFT','GS','MS','BAC','C']\n",
    "\n",
    "df =web.get_data_yahoo(names,'2009/1/1','2012/6/1')\n",
    "d1 = df['Adj Close']\n",
    "d1.head()"
   ]
  },
  {
   "cell_type": "code",
   "execution_count": null,
   "metadata": {
    "scrolled": true
   },
   "outputs": [],
   "source": [
    "# pandas dataframe d.asfreq()\n",
    "px = pd.DataFrame({n: d1[n] for n in names})\n",
    "px = px.asfreq(freq='B').fillna(method='pad')\n",
    "px.head() "
   ]
  },
  {
   "cell_type": "code",
   "execution_count": null,
   "metadata": {
    "scrolled": true
   },
   "outputs": [],
   "source": [
    "'''\n",
    "绘制每只股票的累计收益\n",
    "pandas dataframe d.pct_change()\n",
    "pandas dataframe d.add()\n",
    "pandas dataframe d.cumprod()  \n",
    "pandas dataframe d.sub()\n",
    "pandas dataframe d.plot.line()\n",
    "'''\n",
    "rets = px.pct_change()\n",
    "rets.add(1).cumprod().sub(1).plot.line()"
   ]
  },
  {
   "cell_type": "code",
   "execution_count": null,
   "metadata": {},
   "outputs": [],
   "source": [
    "'''\n",
    "对于投资组合的构建，我们要计算特定回顾期的动量，然后按降序排列并标准化  \n",
    "python str printf-style String Formatting d\n",
    "pandas dataframe d.shift() \n",
    "pandas dataframe d.rank() ascending \n",
    "pandas dataframe d.mean() \n",
    "pandas dataframe d.std()\n",
    "pandas dataframe d.resample() \n",
    "pandas Resampling r.first()  \n",
    "pandas Resampling r.apply() \n",
    "pandas dataframe d.mul()  \n",
    "pandas dataframe d.add()  \n",
    "pandas dataframe d.prod()\n",
    "pandas series s.sub()\n",
    "pandas series s.mean()\n",
    "pandas series s.std()\n",
    "numpy Mathematical functions np.sqrt() \n",
    "numpy Broadcasting 标量  \n",
    "'''\n",
    "def calc_mom(price,lookback,lag):\n",
    "    mom_ret = price.shift(periods=lag).pct_change(periods=lookback)\n",
    "    ranks =mom_ret.rank(axis=1,ascending=False)    \n",
    "    demeaned = ranks.sub(ranks.mean(axis=1),axis=0)    \n",
    "    return demeaned.div(demeaned.std(axis=1),axis=0)\n",
    "\n",
    "compound = lambda x: x.add(1).prod().sub(1)\n",
    "daily_sr =lambda x:x.mean()/x.std()\n",
    "\n",
    "def strat_sr(prices,lb,hold):\n",
    "    # 计算投资组合权重\n",
    "    freq ='%dB' % hold\n",
    "    port =calc_mom(prices,lb,lag=1)\n",
    "    daily_rets = prices.pct_change()\n",
    "    \n",
    "    # 计算投资组合收益\n",
    "    port = port.shift(periods=1).resample(rule=freq).first()\n",
    "    returns =daily_rets.resample(rule=freq).apply(compound)\n",
    "    port_rets = port.mul(returns).sum(axis=1)\n",
    "    \n",
    "    return daily_sr(port_rets)*np.sqrt(252/hold)\n",
    "\n",
    "# 通过价格数据以及一对参数组合调用该函数将会得到一个标量值\n",
    "strat_sr(px,70,30)"
   ]
  }
 ],
 "metadata": {
  "kernelspec": {
   "display_name": "Python 3",
   "language": "python",
   "name": "python3"
  },
  "language_info": {
   "codemirror_mode": {
    "name": "ipython",
    "version": 3
   },
   "file_extension": ".py",
   "mimetype": "text/x-python",
   "name": "python",
   "nbconvert_exporter": "python",
   "pygments_lexer": "ipython3",
   "version": "3.7.6"
  }
 },
 "nbformat": 4,
 "nbformat_minor": 2
}
