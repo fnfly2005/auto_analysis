{
 "cells": [
  {
   "cell_type": "markdown",
   "metadata": {},
   "source": [
    "numpy Array creation routines np.arange()  \n",
    "matplotlib Pyplot function overview plt.plot()"
   ]
  },
  {
   "cell_type": "code",
   "execution_count": null,
   "metadata": {},
   "outputs": [],
   "source": [
    "import matplotlib.pyplot as plt\n",
    "import numpy as np\n",
    "from datetime import datetime\n",
    "import pandas as pd\n",
    "plt.plot(np.arange(10))"
   ]
  },
  {
   "cell_type": "markdown",
   "metadata": {},
   "source": [
    "#  Figure和Subplot\n",
    "matplotlib Pyplot function overview plt.figure()  \n",
    "matplotlib figure f.add_subplot()  \n",
    "numpy Random sampling (numpy.random) np.random.randn()  \n",
    "numpy Mathematical functions np.cumsum()  \n",
    "matplotlib axes a.plot()  \n",
    "matplotlib axes a.clear()  \n",
    "matplotlib axes a.hist()  \n",
    "matplotlib axes a.scatter()  \n",
    "matplotlib Pyplot function overview plt.subplots()  \n",
    "matplotlib patches Patch.alpha"
   ]
  },
  {
   "cell_type": "code",
   "execution_count": null,
   "metadata": {
    "scrolled": true
   },
   "outputs": [],
   "source": [
    "fig = plt.figure()\n",
    "ax1 = fig.add_subplot(221)\n",
    "ax2 = fig.add_subplot(222)\n",
    "ax3 = fig.add_subplot(2,2,3)"
   ]
  },
  {
   "cell_type": "code",
   "execution_count": null,
   "metadata": {
    "scrolled": false
   },
   "outputs": [],
   "source": [
    "ax3.plot(np.random.randn(50).cumsum(),'k--')\n",
    "fig"
   ]
  },
  {
   "cell_type": "code",
   "execution_count": null,
   "metadata": {
    "scrolled": true
   },
   "outputs": [],
   "source": [
    "ax1.clear()\n",
    "_ =ax1.hist(np.random.randn(100),bins=20,color='k',alpha=0.5)\n",
    "fig"
   ]
  },
  {
   "cell_type": "code",
   "execution_count": null,
   "metadata": {
    "scrolled": true
   },
   "outputs": [],
   "source": [
    "ax2.clear()\n",
    "ax2.scatter(np.arange(30),np.arange(30)+3*np.random.randn(30))\n",
    "fig"
   ]
  },
  {
   "cell_type": "code",
   "execution_count": null,
   "metadata": {},
   "outputs": [],
   "source": [
    "fig,axes =plt.subplots(2,3)\n",
    "axes[0]"
   ]
  },
  {
   "cell_type": "markdown",
   "metadata": {},
   "source": [
    "##    调整subplot周围的间距\n",
    "matplotlib axes a.hist()  \n",
    "matplotlib Pyplot function overview plt.subplots_adjust()"
   ]
  },
  {
   "cell_type": "code",
   "execution_count": null,
   "metadata": {},
   "outputs": [],
   "source": [
    "fig,axes = plt.subplots(2,2,sharex=True,sharey=True)\n",
    "for i in range(2):\n",
    "    for j in range(2):\n",
    "        axes[i,j].hist(np.random.randn(500),bins=50,color='k',alpha=0.5)\n",
    "plt.subplots_adjust(wspace=0,hspace=0)"
   ]
  },
  {
   "cell_type": "markdown",
   "metadata": {},
   "source": [
    "#    颜色、标记和线型\n",
    "numpy Mathematical functions np.cumsum()  \n",
    "matplotlib Pyplot function overview plt.plot()  \n",
    "matplotlib lines Line2D.linestyle  \n",
    "matplotlib lines Line2D.marker  \n",
    "matplotlib lines Line2D.drawstyle  \n",
    "matplotlib lines Line2D.label  \n",
    "matplotlib Pyplot function overview plt.legend()  \n",
    "matplotlib axes a.plot()  \n",
    "matplotlib axes a.legend()"
   ]
  },
  {
   "cell_type": "code",
   "execution_count": null,
   "metadata": {
    "scrolled": true
   },
   "outputs": [],
   "source": [
    "plt.plot(np.random.randn(30).cumsum(),'ko--')"
   ]
  },
  {
   "cell_type": "code",
   "execution_count": null,
   "metadata": {
    "scrolled": true
   },
   "outputs": [],
   "source": [
    "plt.plot(np.random.randn(30).cumsum(),color='k',linestyle='dashed',marker='o',label='Default')\n",
    "plt.legend(loc='best')"
   ]
  },
  {
   "cell_type": "code",
   "execution_count": null,
   "metadata": {
    "scrolled": true
   },
   "outputs": [],
   "source": [
    "data = np.random.randn(30).cumsum()\n",
    "fig,axes = plt.subplots(1,1)\n",
    "axes.plot(data,'k--',label='Default')"
   ]
  },
  {
   "cell_type": "code",
   "execution_count": null,
   "metadata": {
    "scrolled": true
   },
   "outputs": [],
   "source": [
    "axes.plot(data,'k-',drawstyle='steps-mid',label='steps-mid')\n",
    "axes.legend(loc='best')\n",
    "fig"
   ]
  },
  {
   "cell_type": "markdown",
   "metadata": {},
   "source": [
    "#    刻度、标签和图例\n",
    "##    设置标题、轴标签、刻度以及刻度标签\n",
    "matplotlib Pyplot function overview plt.figuer()  \n",
    "matplotlib figure f.add_subplot()  \n",
    "matplotlib axes a.set_xticks()  \n",
    "matplotlib axes a.set_xticklabels()  \n",
    "matplotlib text Text.rotation  \n",
    "matplotlib text Text.fontsize  \n",
    "matplotlib axes a.set_title()  \n",
    "matplotlib axes a.set_xlabel()"
   ]
  },
  {
   "cell_type": "code",
   "execution_count": null,
   "metadata": {},
   "outputs": [],
   "source": [
    "fig = plt.figure()\n",
    "ax = fig.add_subplot(1,1,1)\n",
    "ax.plot(np.random.randn(1000).cumsum())"
   ]
  },
  {
   "cell_type": "code",
   "execution_count": null,
   "metadata": {},
   "outputs": [],
   "source": [
    "ticks=ax.set_xticks(ticks=[0,250,500,750,1000])\n",
    "labels =ax.set_xticklabels(labels=['one','two','three','four','five'],\n",
    "                          rotation=30,fontsize='small')\n",
    "ax.set_title('My first matplotlib plot')\n",
    "ax.set_xlabel('Stages')\n",
    "fig"
   ]
  },
  {
   "cell_type": "markdown",
   "metadata": {},
   "source": [
    "##    添加图例\n",
    "matplotlib lines Line2D.color  \n",
    "matplotlib lines Line2D.label  \n",
    "matplotlib lines Line2D.linestyle  \n",
    "matplotlib lines Line2D.Marker  \n",
    "matplotlib axes a.legend()"
   ]
  },
  {
   "cell_type": "code",
   "execution_count": null,
   "metadata": {
    "scrolled": false
   },
   "outputs": [],
   "source": [
    "fig = plt.figure()\n",
    "ax =fig.add_subplot(1,1,1)\n",
    "ax.plot(np.random.randn(1000).cumsum(),color='black',label='one')\n",
    "ax.plot(np.random.randn(1000).cumsum(),color='black',linestyle='dashed',label='two')\n",
    "ax.plot(np.random.randn(1000).cumsum(),color='black',Marker='.',label='three')"
   ]
  },
  {
   "cell_type": "code",
   "execution_count": null,
   "metadata": {},
   "outputs": [],
   "source": [
    "ax.legend(loc='best')\n",
    "fig"
   ]
  },
  {
   "cell_type": "markdown",
   "metadata": {},
   "source": [
    "#    注解以及在Subplot上绘图\n",
    "matplotlib Pyplot function overview plt.figure()  \n",
    "matplotlib figure f.add_subplot()  \n",
    "pandas Input/Output pd.read_csv()  \n",
    "pandas series s.plot.line()  \n",
    "matplotlib lines Line2D.color  \n",
    "python datetime datetime()  \n",
    "matplotlib axes a.annotate()  \n",
    "pandas series s.asof()  \n",
    "matplotlib patches FancyArrowPatch.facecolor  \n",
    "python Built-in Functions dict()  \n",
    "matplotlib text Text.horizontalalignment  \n",
    "matplotlib text Text.verticalalignment  \n",
    "matplotlib axes a.set_xlim()  \n",
    "matplotlib axes a.set_ylim()  \n",
    "matplotlib axes a.set_title()  \n",
    "matplotlib patches Rectangle()  \n",
    "matplotlib patches alpha  \n",
    "matplotlib patches color  \n",
    "matplotlib patches Circle()  \n",
    "matplotlib patches Polygon()  \n",
    "matplotlib axes a.add_patch()  \n",
    "#    将图表保存到文件\n",
    "matplotlib Pyplot function overview plt.savefig()  \n",
    "python io io.BytesIO()  \n",
    "python io BytesIO.getvalue()  \n",
    "matplotlib Pyplot function overview plt.savefig()"
   ]
  },
  {
   "cell_type": "code",
   "execution_count": null,
   "metadata": {
    "scrolled": true
   },
   "outputs": [],
   "source": [
    "fig=plt.figure()\n",
    "ax=fig.add_subplot(1,1,1)\n",
    "data = pd.read_csv('../pydata-book-master/ch08/spx.csv',index_col=0,parse_dates=True)\n",
    "spx=data.loc[:,'SPX']\n",
    "spx.plot.line(ax=ax,color='black',linestyle='solid')\n",
    "crisis_data = [\n",
    "    (datetime(2007,10,11),'Peak of bull market'),\n",
    "    (datetime(2008,3,12),'Bear Stearns Fails'),\n",
    "    (datetime(2008,9,15),'Lehman Bankruptcy')\n",
    "]\n"
   ]
  },
  {
   "cell_type": "code",
   "execution_count": null,
   "metadata": {
    "scrolled": false
   },
   "outputs": [],
   "source": [
    "for date,label in crisis_data:\n",
    "    ax.annotate(label,xy=(date,spx.asof(date)+50),\n",
    "               xytext=(date,spx.asof(date)+200),\n",
    "               arrowprops=dict(facecolor='black'),\n",
    "               horizontalalignment='left',verticalalignment='top')\n",
    "ax.set_xlim(left='1/1/2007',right='1/1/2011')\n",
    "ax.set_ylim(bottom=600,top=1800)\n",
    "ax.set_title('Important dates in 2008-2009 financial crisis')\n",
    "fig"
   ]
  },
  {
   "cell_type": "code",
   "execution_count": null,
   "metadata": {
    "scrolled": false
   },
   "outputs": [],
   "source": [
    "fig = plt.figure(0)\n",
    "ax = fig.add_subplot(1,1,1)\n",
    "rect=plt.Rectangle((0.2,0.75),0.4,0.15,color='k',alpha=0.3)\n",
    "circ = plt.Circle((0.7,0.2),0.15,color='b',alpha=0.3)\n",
    "pgon = plt.Polygon([[0.15,0.15],[0.35,0.4],[0.2,0.6]],color='g',alpha=0.5)\n",
    "ax.add_patch(rect)\n",
    "ax.add_patch(circ)\n",
    "ax.add_patch(pgon)\n",
    "plt.savefig('figpath.png',dpi=400,bbox_inches='tight')"
   ]
  },
  {
   "cell_type": "code",
   "execution_count": null,
   "metadata": {},
   "outputs": [],
   "source": [
    "from io import BytesIO\n",
    "buffer = BytesIO()\n",
    "\n",
    "plt.savefig(buffer)\n",
    "plot_data = buffer.getvalue()"
   ]
  },
  {
   "cell_type": "markdown",
   "metadata": {},
   "source": [
    "# matplotlib配置\n",
    "matplotlib Pyplot function overview plt.rc()  \n",
    "matplotlib figure Figure.figsize"
   ]
  },
  {
   "cell_type": "code",
   "execution_count": null,
   "metadata": {},
   "outputs": [],
   "source": [
    "plt.rc('figure',figsize=(10,10))\n",
    "f = plt.figure()\n",
    "ax = f.add_subplot(1,1,1)"
   ]
  }
 ],
 "metadata": {
  "kernelspec": {
   "display_name": "Python 3",
   "language": "python",
   "name": "python3"
  },
  "language_info": {
   "codemirror_mode": {
    "name": "ipython",
    "version": 3
   },
   "file_extension": ".py",
   "mimetype": "text/x-python",
   "name": "python",
   "nbconvert_exporter": "python",
   "pygments_lexer": "ipython3",
   "version": "3.7.1"
  }
 },
 "nbformat": 4,
 "nbformat_minor": 2
}
