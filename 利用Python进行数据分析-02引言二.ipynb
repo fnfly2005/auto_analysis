{
 "cells": [
  {
   "cell_type": "markdown",
   "metadata": {},
   "source": [
    "# MovieLens 1M数据集\n",
    "pandas dataframe pd.read_table()  \n",
    "pandas dataframe pd.merge()  \n",
    "pandas dataframe d.iloc[]  \n",
    "pandas dataframe d.pivot_table()  \n",
    "pandas dataframe d.groupby()  \n",
    "pandas DataFrameGroupBy d.size()"
   ]
  },
  {
   "cell_type": "code",
   "execution_count": null,
   "metadata": {},
   "outputs": [],
   "source": [
    "import pandas as pd\n",
    "unames = ['user_id','gender','age','occupation','zip']\n",
    "users = pd.read_table('ch02/users.dat',sep='::',header=None,names= unames)\n",
    "\n",
    "rnames = ['user_id','movie_id','rating','timestamp']\n",
    "ratings = pd.read_table('ch02/ratings.dat',sep='::',header=None,names=rnames)\n",
    "\n",
    "mnames = ['movie_id','title','genres']\n",
    "movies = pd.read_table('ch02/movies.dat',sep='::',header=None,names=mnames)\n",
    "\n",
    "type(users)"
   ]
  },
  {
   "cell_type": "code",
   "execution_count": null,
   "metadata": {},
   "outputs": [],
   "source": [
    "print(users[:5],'\\r',ratings[:5],'\\r',movies[:5])\n",
    "ratings.info()"
   ]
  },
  {
   "cell_type": "code",
   "execution_count": null,
   "metadata": {},
   "outputs": [],
   "source": [
    "data=pd.merge(pd.merge(ratings,users),movies)\n",
    "print(data.info())\n",
    "data.iloc[0,:]"
   ]
  },
  {
   "cell_type": "code",
   "execution_count": null,
   "metadata": {},
   "outputs": [],
   "source": [
    "#按性别计算每部电影的平均得分\n",
    "mean_ratings = data.pivot_table('rating',index='title',columns='gender',aggfunc='mean')\n",
    "mean_ratings[:5]"
   ]
  },
  {
   "cell_type": "code",
   "execution_count": null,
   "metadata": {},
   "outputs": [],
   "source": [
    "#过滤掉评分数据不够250条的电影\n",
    "ratings_by_title = data.groupby('title').size()\n",
    "print(ratings_by_title[:10])"
   ]
  }
 ],
 "metadata": {
  "kernelspec": {
   "display_name": "Python 3",
   "language": "python",
   "name": "python3"
  },
  "language_info": {
   "codemirror_mode": {
    "name": "ipython",
    "version": 3
   },
   "file_extension": ".py",
   "mimetype": "text/x-python",
   "name": "python",
   "nbconvert_exporter": "python",
   "pygments_lexer": "ipython3",
   "version": "3.7.1"
  }
 },
 "nbformat": 4,
 "nbformat_minor": 2
}
